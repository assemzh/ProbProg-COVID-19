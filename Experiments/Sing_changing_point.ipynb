{
  "nbformat": 4,
  "nbformat_minor": 0,
  "metadata": {
    "accelerator": "GPU",
    "colab": {
      "name": "Sing_changing_point.ipynb",
      "provenance": [],
      "collapsed_sections": [],
      "toc_visible": true
    },
    "kernelspec": {
      "display_name": "Python 3",
      "language": "python",
      "name": "python3"
    },
    "language_info": {
      "codemirror_mode": {
        "name": "ipython",
        "version": 3
      },
      "file_extension": ".py",
      "mimetype": "text/x-python",
      "name": "python",
      "nbconvert_exporter": "python",
      "pygments_lexer": "ipython3",
      "version": "3.6.10"
    }
  },
  "cells": [
    {
      "cell_type": "markdown",
      "metadata": {
        "id": "kqXl71t9suiG"
      },
      "source": [
        "# Estimating the Date of COVID-19 Changes\n",
        "\n",
        "https://nbviewer.jupyter.org/github/jramkiss/jramkiss.github.io/blob/master/_posts/notebooks/covid19-changes.ipynb "
      ]
    },
    {
      "cell_type": "code",
      "metadata": {
        "colab": {
          "base_uri": "https://localhost:8080/"
        },
        "id": "gFnvD8OysuiI",
        "outputId": "9d079adb-1f38-431f-844b-4b1f0ca0a752"
      },
      "source": [
        "import pandas as pd\n",
        "import numpy as np\n",
        "\n",
        "import seaborn as sns; sns.set()\n",
        "import matplotlib.pyplot as plt\n",
        "import matplotlib.dates as mdates\n",
        "\n",
        "\n",
        "from sklearn.linear_model import LinearRegression\n",
        "\n",
        "from scipy import stats\n",
        "import statsmodels.api as sm\n",
        "import pylab\n",
        "\n",
        "# from google.colab import files\n",
        "# from io import StringIO\n",
        "# uploaded = files.upload()\n",
        "\n",
        "url = 'https://raw.githubusercontent.com/assemzh/ProbProg-COVID-19/master/full_grouped.csv'\n",
        "data = pd.read_csv(url)\n",
        "\n",
        "data.Date = pd.to_datetime(data.Date)\n",
        "\n",
        "# for fancy python printing\n",
        "from IPython.display import Markdown, display\n",
        "def printmd(string):\n",
        "    display(Markdown(string))\n",
        "    \n",
        "import warnings\n",
        "warnings.filterwarnings('ignore')\n",
        "\n",
        "import matplotlib as mpl\n",
        "mpl.rcParams['figure.dpi'] = 250"
      ],
      "execution_count": null,
      "outputs": [
        {
          "output_type": "stream",
          "text": [
            "/usr/local/lib/python3.7/dist-packages/statsmodels/tools/_testing.py:19: FutureWarning: pandas.util.testing is deprecated. Use the functions in the public API at pandas.testing instead.\n",
            "  import pandas.util.testing as tm\n"
          ],
          "name": "stderr"
        }
      ]
    },
    {
      "cell_type": "markdown",
      "metadata": {
        "id": "hzvPpvVvphTD"
      },
      "source": [
        "## Create country\n"
      ]
    },
    {
      "cell_type": "code",
      "metadata": {
        "id": "koX5yGHrsuib"
      },
      "source": [
        "# function to make the time series of confirmed and daily confirmed cases for a specific country\n",
        "def create_country (country, end_date, state = False) : \n",
        "    if state :\n",
        "        df = data.loc[data[\"Province/State\"] == country, [\"Province/State\", \"Date\", \"Confirmed\", \"Deaths\", \"Recovered\"]]\n",
        "    else : \n",
        "        df = data.loc[data[\"Country/Region\"] == country, [\"Country/Region\", \"Date\", \"Confirmed\", \"Deaths\", \"Recovered\"]]\n",
        "    df.columns = [\"country\", \"date\", \"confirmed\", \"deaths\", \"recovered\"]\n",
        "\n",
        "     # group by country and date, sum(confirmed, deaths, recovered). do this because countries have multiple cities \n",
        "    df = df.groupby(['country','date'])['confirmed', 'deaths', 'recovered'].sum().reset_index()\n",
        "\n",
        "    # convert date string to datetime\n",
        "    std_dateparser = lambda x: str(x)[5:10]\n",
        "    df.date = pd.to_datetime(df.date)\n",
        "    df['date_only'] = df.date.apply(std_dateparser)\n",
        "    df = df.sort_values(by = \"date\")\n",
        "    df = df[df.date <= end_date]\n",
        "\n",
        "\n",
        "    # make new confirmed cases every day:\n",
        "    cases_shifted = np.array([0] + list(df.confirmed[:-1]))\n",
        "    daily_confirmed = np.array(df.confirmed) - cases_shifted\n",
        "    df[\"daily_confirmed\"] = daily_confirmed \n",
        "\n",
        "    fig, ax = plt.subplots(nrows=1, ncols=1, figsize=(8, 6))\n",
        "    ax = [ax]\n",
        "    sns.lineplot(x = df.date, \n",
        "                 y = df.daily_confirmed, \n",
        "                 ax = ax[0])\n",
        "\n",
        "    ax[0].set(ylabel='Daily Confirmed Cases')\n",
        "\n",
        "    ax[0].axvline(pd.to_datetime('2020-04-07'), \n",
        "              linestyle = '--', linewidth = 1.5,\n",
        "              label = \"Policy start: Apr 7, 2020\" ,\n",
        "              color = \"red\") \n",
        "\n",
        "    \n",
        "    ax[0].xaxis.get_label().set_fontsize(22)\n",
        "    ax[0].yaxis.get_label().set_fontsize(22)\n",
        "    x = df.date\n",
        "    # ax[0].set_xticks(x[::30])\n",
        "    ax[0].xaxis.set_major_locator(mdates.MonthLocator(interval=2))   #to get a tick every month\n",
        "\n",
        "    ax[0].title.set_fontsize(20)\n",
        "    ax[0].tick_params(labelsize=22)\n",
        "    myFmt = mdates.DateFormatter('%b %-d, %Y')\n",
        "    ax[0].xaxis.set_major_formatter(myFmt)\n",
        "\n",
        "    ax[0].set(ylabel='', xlabel='');\n",
        "    ax[0].legend(loc = \"bottom right\", fontsize=22)\n",
        "\n",
        "    sns.set_style(\"ticks\")\n",
        "    plt.tight_layout()\n",
        "    sns.despine()\n",
        "    plt.savefig('/content/sample_data/sing_daily.pdf')\n",
        "    print(df.tail())\n",
        "    return df\n",
        "\n",
        "\n",
        "def summary(samples):\n",
        "    site_stats = {}\n",
        "    for k, v in samples.items():\n",
        "        site_stats[k] = {\n",
        "            \"mean\": torch.mean(v, 0),\n",
        "            \"std\": torch.std(v, 0),\n",
        "            \"5%\": v.kthvalue(int(len(v) * 0.05), dim=0)[0],\n",
        "            \"95%\": v.kthvalue(int(len(v) * 0.95), dim=0)[0],\n",
        "        }\n",
        "    return site_stats"
      ],
      "execution_count": null,
      "outputs": []
    },
    {
      "cell_type": "code",
      "metadata": {
        "colab": {
          "base_uri": "https://localhost:8080/",
          "height": 577
        },
        "id": "w_A0fd4Zsuiw",
        "outputId": "4d7bda7c-ce27-4beb-ba50-2b56ac8ab98e"
      },
      "source": [
        "cad = create_country(\"Singapore\", end_date = \"2020-05-31\")"
      ],
      "execution_count": null,
      "outputs": [
        {
          "output_type": "stream",
          "text": [
            "       country       date  confirmed  ...  recovered  date_only daily_confirmed\n",
            "126  Singapore 2020-05-27      32876  ...      17276      05-27             533\n",
            "127  Singapore 2020-05-28      33249  ...      18294      05-28             373\n",
            "128  Singapore 2020-05-29      33860  ...      19631      05-29             611\n",
            "129  Singapore 2020-05-30      34366  ...      20727      05-30             506\n",
            "130  Singapore 2020-05-31      34884  ...      21699      05-31             518\n",
            "\n",
            "[5 rows x 7 columns]\n"
          ],
          "name": "stdout"
        },
        {
          "output_type": "display_data",
          "data": {
            "image/png": "[encoded data removed]",
            "text/plain": [
              "<Figure size 576x432 with 1 Axes>"
            ]
          },
          "metadata": {
            "tags": []
          }
        }
      ]
    },
    {
      "cell_type": "code",
      "metadata": {
        "id": "UR0BM7TysujG"
      },
      "source": [
        "cad_start = \"2020-04-01\" # 13 confirmed cases\n",
        "cad = cad[cad.date >= cad_start].reset_index(drop = True)\n",
        "cad[\"days_since_start\"] = np.arange(cad.shape[0]) + 1"
      ],
      "execution_count": null,
      "outputs": []
    },
    {
      "cell_type": "code",
      "metadata": {
        "colab": {
          "base_uri": "https://localhost:8080/"
        },
        "id": "OaTHo6I2sujp",
        "outputId": "7c987c2f-0231-4e66-c528-249e9833921f"
      },
      "source": [
        "cad.shape\n",
        "cad_tmp = cad[cad.date < \"2020-05-31\"]\n",
        "cad_tmp.shape"
      ],
      "execution_count": null,
      "outputs": [
        {
          "output_type": "execute_result",
          "data": {
            "text/plain": [
              "(60, 8)"
            ]
          },
          "metadata": {
            "tags": []
          },
          "execution_count": 5
        }
      ]
    },
    {
      "cell_type": "markdown",
      "metadata": {
        "id": "loi3CtjSsuoz"
      },
      "source": [
        "## Data for Regression"
      ]
    },
    {
      "cell_type": "code",
      "metadata": {
        "id": "Os_M7r4Tsuo4"
      },
      "source": [
        "# variable for data to easily swap it out:\n",
        "country_ = \"Singapore\"\n",
        "reg_data = cad_tmp.copy()"
      ],
      "execution_count": null,
      "outputs": []
    },
    {
      "cell_type": "code",
      "metadata": {
        "colab": {
          "base_uri": "https://localhost:8080/",
          "height": 204
        },
        "id": "3RjDFEbA91X-",
        "outputId": "96731b02-a2a6-45df-f744-a490bf38f002"
      },
      "source": [
        "reg_data.head()"
      ],
      "execution_count": null,
      "outputs": [
        {
          "output_type": "execute_result",
          "data": {
            "text/html": [
              "<div>\n",
              "<style scoped>\n",
              "    .dataframe tbody tr th:only-of-type {\n",
              "        vertical-align: middle;\n",
              "    }\n",
              "\n",
              "    .dataframe tbody tr th {\n",
              "        vertical-align: top;\n",
              "    }\n",
              "\n",
              "    .dataframe thead th {\n",
              "        text-align: right;\n",
              "    }\n",
              "</style>\n",
              "<table border=\"1\" class=\"dataframe\">\n",
              "  <thead>\n",
              "    <tr style=\"text-align: right;\">\n",
              "      <th></th>\n",
              "      <th>country</th>\n",
              "      <th>date</th>\n",
              "      <th>confirmed</th>\n",
              "      <th>deaths</th>\n",
              "      <th>recovered</th>\n",
              "      <th>date_only</th>\n",
              "      <th>daily_confirmed</th>\n",
              "      <th>days_since_start</th>\n",
              "    </tr>\n",
              "  </thead>\n",
              "  <tbody>\n",
              "    <tr>\n",
              "      <th>0</th>\n",
              "      <td>Singapore</td>\n",
              "      <td>2020-04-01</td>\n",
              "      <td>1000</td>\n",
              "      <td>3</td>\n",
              "      <td>245</td>\n",
              "      <td>04-01</td>\n",
              "      <td>74</td>\n",
              "      <td>1</td>\n",
              "    </tr>\n",
              "    <tr>\n",
              "      <th>1</th>\n",
              "      <td>Singapore</td>\n",
              "      <td>2020-04-02</td>\n",
              "      <td>1049</td>\n",
              "      <td>4</td>\n",
              "      <td>266</td>\n",
              "      <td>04-02</td>\n",
              "      <td>49</td>\n",
              "      <td>2</td>\n",
              "    </tr>\n",
              "    <tr>\n",
              "      <th>2</th>\n",
              "      <td>Singapore</td>\n",
              "      <td>2020-04-03</td>\n",
              "      <td>1114</td>\n",
              "      <td>5</td>\n",
              "      <td>282</td>\n",
              "      <td>04-03</td>\n",
              "      <td>65</td>\n",
              "      <td>3</td>\n",
              "    </tr>\n",
              "    <tr>\n",
              "      <th>3</th>\n",
              "      <td>Singapore</td>\n",
              "      <td>2020-04-04</td>\n",
              "      <td>1189</td>\n",
              "      <td>6</td>\n",
              "      <td>297</td>\n",
              "      <td>04-04</td>\n",
              "      <td>75</td>\n",
              "      <td>4</td>\n",
              "    </tr>\n",
              "    <tr>\n",
              "      <th>4</th>\n",
              "      <td>Singapore</td>\n",
              "      <td>2020-04-05</td>\n",
              "      <td>1309</td>\n",
              "      <td>6</td>\n",
              "      <td>320</td>\n",
              "      <td>04-05</td>\n",
              "      <td>120</td>\n",
              "      <td>5</td>\n",
              "    </tr>\n",
              "  </tbody>\n",
              "</table>\n",
              "</div>"
            ],
            "text/plain": [
              "     country       date  confirmed  ...  date_only  daily_confirmed days_since_start\n",
              "0  Singapore 2020-04-01       1000  ...      04-01               74                1\n",
              "1  Singapore 2020-04-02       1049  ...      04-02               49                2\n",
              "2  Singapore 2020-04-03       1114  ...      04-03               65                3\n",
              "3  Singapore 2020-04-04       1189  ...      04-04               75                4\n",
              "4  Singapore 2020-04-05       1309  ...      04-05              120                5\n",
              "\n",
              "[5 rows x 8 columns]"
            ]
          },
          "metadata": {
            "tags": []
          },
          "execution_count": 7
        }
      ]
    },
    {
      "cell_type": "markdown",
      "metadata": {
        "id": "JkO0Z8M0supC"
      },
      "source": [
        "## Change Point Estimation in Pyro"
      ]
    },
    {
      "cell_type": "code",
      "metadata": {
        "id": "aIUed4Ny3-oq"
      },
      "source": [
        "!pip install pyro-ppl\n",
        "!pip install numpyro"
      ],
      "execution_count": null,
      "outputs": []
    },
    {
      "cell_type": "code",
      "metadata": {
        "id": "3ZS9fTPxsupD"
      },
      "source": [
        "import torch\n",
        "\n",
        "import pyro\n",
        "import pyro.distributions as dist\n",
        "from torch import nn\n",
        "from pyro.nn import PyroModule, PyroSample\n",
        "\n",
        "from pyro.infer import MCMC, NUTS, HMC\n",
        "from pyro.infer.autoguide import AutoGuide, AutoDiagonalNormal\n",
        "\n",
        "from pyro.infer import SVI, Trace_ELBO\n",
        "from pyro.infer import Predictive"
      ],
      "execution_count": null,
      "outputs": []
    },
    {
      "cell_type": "code",
      "metadata": {
        "id": "9gPrEaEJsupP"
      },
      "source": [
        "# we should be able to have an empirical estimate for the mean of the prior for the 2nd regression bias term\n",
        "# this will be something like b = log(max(daily_confirmed))\n",
        "\n",
        "# might be able to have 1 regression model but change the data so that we have new terms for (tau < t) \n",
        "# like an interaction term\n",
        "\n",
        "class COVID_change(PyroModule):\n",
        "    def __init__(self, in_features, out_features, b1_mu, b2_mu):\n",
        "        super().__init__()\n",
        "        self.linear1 = PyroModule[nn.Linear](in_features, out_features, bias = False)\n",
        "        self.linear1.weight = PyroSample(dist.Normal(0.5, 0.25).expand([1, 1]).to_event(1))\n",
        "        self.linear1.bias = PyroSample(dist.Normal(b1_mu, 1.))\n",
        "        \n",
        "        # could possibly have stronger priors for the 2nd regression line, because we wont have as much data\n",
        "        self.linear2 = PyroModule[nn.Linear](in_features, out_features, bias = False)\n",
        "        self.linear2.weight = PyroSample(dist.Normal(0., 0.25).expand([1, 1])) #.to_event(1))\n",
        "        self.linear2.bias = PyroSample(dist.Normal(b2_mu, b2_mu/4))\n",
        "\n",
        "    def forward(self, x, y=None):\n",
        "        tau = pyro.sample(\"tau\", dist.Beta(4, 3))\n",
        "        sigma = pyro.sample(\"sigma\", dist.Uniform(0., 3.))\n",
        "        # fit lm's to data based on tau\n",
        "        sep = int(np.ceil(tau.detach().numpy() * len(x)))\n",
        "        mean1 = self.linear1(x[:sep]).squeeze(-1)\n",
        "        mean2 = self.linear2(x[sep:]).squeeze(-1)\n",
        "        mean = torch.cat((mean1, mean2))\n",
        "        obs = pyro.sample(\"obs\", dist.StudentT(2, mean, sigma), obs=y)\n",
        "        return mean"
      ],
      "execution_count": null,
      "outputs": []
    },
    {
      "cell_type": "code",
      "metadata": {
        "colab": {
          "base_uri": "https://localhost:8080/"
        },
        "id": "if0toOMysupU",
        "outputId": "7d5834af-c2ea-4157-a36f-78cad6dc62e8"
      },
      "source": [
        "tensor_data = torch.tensor(reg_data[[\"confirmed\", \"days_since_start\", \"daily_confirmed\"]].values, dtype=torch.float)\n",
        "x_data = tensor_data[:, 1].unsqueeze_(1)\n",
        "y_data = np.log(tensor_data[:, 0])\n",
        "y_data_daily = np.log(tensor_data[:, 2])\n",
        "# prior hyper params\n",
        "# take log of the average of the 1st quartile to get the prior mean for the bias of the 2nd regression line\n",
        "q1 = np.quantile(y_data, q = 0.25)\n",
        "bias_1_mean = np.mean(y_data.numpy()[y_data <= q1])\n",
        "print(\"Prior mean for Bias 1: \", bias_1_mean)\n",
        "\n",
        "# take log of the average of the 4th quartile to get the prior mean for the bias of the 2nd regression line\n",
        "q4 = np.quantile(y_data, q = 0.75)\n",
        "bias_2_mean = np.mean(y_data.numpy()[y_data >= q4])\n",
        "print(\"Prior mean for Bias 2: \", bias_2_mean)"
      ],
      "execution_count": null,
      "outputs": [
        {
          "output_type": "stream",
          "text": [
            "Prior mean for Bias 1:  7.4748335\n",
            "Prior mean for Bias 2:  10.33601\n"
          ],
          "name": "stdout"
        }
      ]
    },
    {
      "cell_type": "markdown",
      "metadata": {
        "id": "nrm8RrFasupc"
      },
      "source": [
        "## Approximate Inference with Stochastic Variational Inference"
      ]
    },
    {
      "cell_type": "markdown",
      "metadata": {
        "id": "x0nDLSPisupm"
      },
      "source": [
        "# HMC with NUTS"
      ]
    },
    {
      "cell_type": "code",
      "metadata": {
        "id": "X1rSXXtKsupm",
        "colab": {
          "base_uri": "https://localhost:8080/"
        },
        "outputId": "1079fa45-006f-41e3-98c8-6c1239324981"
      },
      "source": [
        "model = COVID_change(1, 1, \n",
        "                     b1_mu = bias_1_mean,\n",
        "                     b2_mu = bias_2_mean)\n",
        "# need more than 400 samples/chain if we want to use a flat prior on b_2 and w_2\n",
        "num_samples = 400 \n",
        "# mcmc \n",
        "nuts_kernel = NUTS(model)\n",
        "mcmc = MCMC(nuts_kernel, \n",
        "            num_samples=num_samples,\n",
        "            warmup_steps = 200,\n",
        "            num_chains = 1)\n",
        "mcmc.run(x_data, y_data)\n",
        "samples = mcmc.get_samples()"
      ],
      "execution_count": null,
      "outputs": [
        {
          "output_type": "stream",
          "text": [
            "Sample: 100%|██████████| 600/600 [24:27,  2.45s/it, step size=1.31e-04, acc. prob=0.936]\n"
          ],
          "name": "stderr"
        }
      ]
    },
    {
      "cell_type": "code",
      "metadata": {
        "id": "_-lXw8vBJsAT"
      },
      "source": [
        "# Save the model:\n",
        "import dill\n",
        "# with open('sing.pkl', 'wb') as f:\n",
        "# \tdill.dump(mcmc, f)\n",
        "with open('sing.pkl', 'rb') as f:\n",
        "\tmcmc = dill.load(f)\n",
        " \n",
        "samples = mcmc.get_samples()"
      ],
      "execution_count": null,
      "outputs": []
    },
    {
      "cell_type": "code",
      "metadata": {
        "id": "7Z968a5xsupv",
        "colab": {
          "base_uri": "https://localhost:8080/"
        },
        "outputId": "954d8675-130d-4dff-ef52-f8a25295326a"
      },
      "source": [
        "# extract individual posteriors\n",
        "weight_1_post = samples[\"linear1.weight\"].detach().numpy()\n",
        "weight_2_post = samples[\"linear2.weight\"].detach().numpy()\n",
        "bias_1_post = samples[\"linear1.bias\"].detach().numpy()\n",
        "bias_2_post = samples[\"linear2.bias\"].detach().numpy()\n",
        "tau_post = samples[\"tau\"].detach().numpy()\n",
        "sigma_post = samples[\"sigma\"].detach().numpy()\n",
        "\n",
        "# build likelihood distribution:\n",
        "tau_days = list(map(int, np.ceil(tau_post * len(x_data))))\n",
        "mean_ = torch.zeros(len(tau_days), len(x_data))\n",
        "obs_ = torch.zeros(len(tau_days), len(x_data))\n",
        "for i in range(len(tau_days)) : \n",
        "    mean_[i, :] = torch.cat((x_data[:tau_days[i]] * weight_1_post[i] + bias_1_post[i],\n",
        "                          x_data[tau_days[i]:] * weight_2_post[i] + bias_2_post[i])).reshape(len(x_data))\n",
        "    obs_[i, :] = dist.Normal(mean_[i, :], sigma_post[i]).sample()\n",
        "samples[\"_RETURN\"] = mean_\n",
        "samples[\"obs\"] = obs_\n",
        "pred_summary = summary(samples)\n",
        "mu = pred_summary[\"_RETURN\"] # mean\n",
        "y = pred_summary[\"obs\"] # samples from likelihood: mu + sigma\n",
        "y_shift = np.exp(y[\"mean\"]) - np.exp(torch.cat((y[\"mean\"][0:1], y[\"mean\"][:-1])))\n",
        "print(y_shift)\n",
        "predictions = pd.DataFrame({\n",
        "    \"days_since_start\": x_data[:, 0],\n",
        "    \"mu_mean\": mu[\"mean\"],    # mean of likelihood\n",
        "    \"mu_perc_5\": mu[\"5%\"],\n",
        "    \"mu_perc_95\": mu[\"95%\"],\n",
        "    \"y_mean\": y[\"mean\"],      # mean of likelihood + noise\n",
        "    \"y_perc_5\": y[\"5%\"],\n",
        "    \"y_perc_95\": y[\"95%\"],\n",
        "    \"true_confirmed\": y_data,\n",
        "    \"true_daily_confirmed\": y_data_daily,\n",
        "    \"y_daily_mean\": y_shift\n",
        "})\n",
        "\n",
        "w1_ = pred_summary[\"linear1.weight\"]\n",
        "w2_ = pred_summary[\"linear2.weight\"]\n",
        "\n",
        "b1_ = pred_summary[\"linear1.bias\"]\n",
        "b2_ = pred_summary[\"linear2.bias\"]\n",
        "\n",
        "tau_ = pred_summary[\"tau\"]\n",
        "sigma_ = pred_summary[\"sigma\"]\n",
        "\n",
        "ind = int(np.ceil(tau_[\"mean\"] * len(x_data)))"
      ],
      "execution_count": null,
      "outputs": [
        {
          "output_type": "stream",
          "text": [
            "tensor([   0.0000,   91.0333,  117.2389,  111.3232,  132.6851,  154.1053,\n",
            "         176.6852,  189.5868,  219.5638,  252.1475,  283.0125,  303.7195,\n",
            "         357.8264,  395.5989,  447.8628,  528.4072,  594.4321,  641.3208,\n",
            "         742.0659,  807.9922,  958.1919, 1067.6152, 1184.2754, 1413.8848,\n",
            "        1539.2334, 1647.6934,  846.7627,  343.4326,  442.3613,  434.3516,\n",
            "         469.3164,  466.8262,  464.2715,  548.7402,  389.9570,  517.7715,\n",
            "         599.3203,  608.7676,  428.4219,  556.6855,  609.4785,  663.9512,\n",
            "         555.2676,  791.9492,  698.9551,  444.7305,  645.4590,  683.9355,\n",
            "         779.8301,  730.1484,  674.6992,  931.6797,  799.6855,  783.1582,\n",
            "         930.9648,  828.2617,  765.9258,  992.9492,  900.7305, 1058.3867])\n"
          ],
          "name": "stdout"
        }
      ]
    },
    {
      "cell_type": "markdown",
      "metadata": {
        "id": "KegzMbLOsuqC"
      },
      "source": [
        "## Model Diagnostics\n",
        "\n",
        "- Residual plots: Should these be samples from the likelihood compared with the actual data? Or just the mean of the likelihood?\n",
        "- $\\hat{R}$: The factor that the scale of the current distribution will be reduced by if we were to run the simulations forever. As n tends to $\\inf$, $\\hat{R}$ tends to 1. So we want values close to 1.\n",
        "- Mixing and Stationarity: I sampled 4 chains. Do I then take these chains, split them in half and plot them. If they converge to the same stationary distribution, does that mean the MCMC converged? What do I do with more sampled chains?"
      ]
    },
    {
      "cell_type": "code",
      "metadata": {
        "id": "QUh6fBjtsuqV",
        "colab": {
          "base_uri": "https://localhost:8080/"
        },
        "outputId": "813cc59e-7471-457a-f5b6-4553e573da62"
      },
      "source": [
        "mcmc.summary()\n",
        "diag = mcmc.diagnostics()"
      ],
      "execution_count": null,
      "outputs": [
        {
          "output_type": "stream",
          "text": [
            "\n",
            "                         mean       std    median      5.0%     95.0%     n_eff     r_hat\n",
            "                tau      0.42      0.02      0.42      0.40      0.45     34.82      1.13\n",
            "              sigma      0.05      0.01      0.05      0.04      0.07     20.31      1.04\n",
            "linear1.weight[0,0]      0.12      0.00      0.12      0.12      0.13     16.22      1.00\n",
            "       linear1.bias      6.47      0.04      6.47      6.40      6.54     15.20      1.00\n",
            "linear2.weight[0,0]      0.03      0.00      0.03      0.02      0.03    105.41      1.03\n",
            "       linear2.bias      8.97      0.06      8.96      8.86      9.06     96.12      1.03\n",
            "\n",
            "Number of divergences: 0\n"
          ],
          "name": "stdout"
        }
      ]
    },
    {
      "cell_type": "markdown",
      "metadata": {
        "id": "LJ2a6Epnsuqf"
      },
      "source": [
        "## Posterior Plots"
      ]
    },
    {
      "cell_type": "code",
      "metadata": {
        "id": "bPpET7b6suqg",
        "colab": {
          "base_uri": "https://localhost:8080/",
          "height": 331
        },
        "outputId": "11aaf3a0-44b8-4c60-da03-b03d37cc01a9"
      },
      "source": [
        "print(ind)\n",
        "print(reg_data.date[ind])\n",
        "\n",
        "sns.distplot(weight_1_post, \n",
        "             kde_kws = {\"label\": \"Weight posterior before CP\"}, \n",
        "             norm_hist = True,\n",
        "             kde = True)\n",
        "plt.axvline(x = w1_[\"mean\"], linestyle = '--',label = \"Mean weight before CP\" ,)\n",
        "\n",
        "sns.distplot(weight_2_post, \n",
        "             kde_kws = {\"label\": \"Weight posterior after CP\"}, \n",
        "             color = \"red\",\n",
        "             norm_hist = True,\n",
        "             kde = True)\n",
        "plt.axvline(x = w2_[\"mean\"], linestyle = '--',label = \"Mean weight after CP\" ,\n",
        "              color = \"red\")\n",
        "\n",
        "legend = plt.legend(loc='upper right')\n",
        "legend.get_frame().set_alpha(1)\n",
        "sns.set_style(\"ticks\")\n",
        "plt.tight_layout()\n",
        "sns.despine()\n",
        "plt.savefig('/content/sample_data/sing_weights.pdf')"
      ],
      "execution_count": null,
      "outputs": [
        {
          "output_type": "stream",
          "text": [
            "26\n",
            "2020-04-27 00:00:00\n"
          ],
          "name": "stdout"
        },
        {
          "output_type": "display_data",
          "data": {
            "image/png": "[encoded data removed]",
            "text/plain": [
              "<Figure size 432x288 with 1 Axes>"
            ]
          },
          "metadata": {
            "tags": []
          }
        }
      ]
    },
    {
      "cell_type": "code",
      "metadata": {
        "id": "byMfY8BxUxPg",
        "colab": {
          "base_uri": "https://localhost:8080/"
        },
        "outputId": "79ba6fcb-428f-4f3f-ef43-858de37e9e36"
      },
      "source": [
        "print(w1_[\"mean\"])\n",
        "print(w2_[\"mean\"])"
      ],
      "execution_count": null,
      "outputs": [
        {
          "output_type": "stream",
          "text": [
            "tensor([[0.1212]])\n",
            "tensor([[0.0261]])\n"
          ],
          "name": "stdout"
        }
      ]
    },
    {
      "cell_type": "code",
      "metadata": {
        "id": "vtfu-eSvR5fH",
        "colab": {
          "base_uri": "https://localhost:8080/"
        },
        "outputId": "fe1b310b-bc70-48f3-e4da-2e9bdf461b6c"
      },
      "source": [
        "1- w2_['mean']/w1_['mean']"
      ],
      "execution_count": null,
      "outputs": [
        {
          "output_type": "execute_result",
          "data": {
            "text/plain": [
              "tensor([[0.7850]])"
            ]
          },
          "metadata": {
            "tags": []
          },
          "execution_count": 17
        }
      ]
    },
    {
      "cell_type": "code",
      "metadata": {
        "id": "zZCpLZ51R5gU",
        "colab": {
          "base_uri": "https://localhost:8080/",
          "height": 80
        },
        "outputId": "47aa6a8a-134f-4d34-e949-e309600364b5"
      },
      "source": [
        "reg_data[reg_data.date== '2020-05-25']"
      ],
      "execution_count": null,
      "outputs": [
        {
          "output_type": "execute_result",
          "data": {
            "text/html": [
              "<div>\n",
              "<style scoped>\n",
              "    .dataframe tbody tr th:only-of-type {\n",
              "        vertical-align: middle;\n",
              "    }\n",
              "\n",
              "    .dataframe tbody tr th {\n",
              "        vertical-align: top;\n",
              "    }\n",
              "\n",
              "    .dataframe thead th {\n",
              "        text-align: right;\n",
              "    }\n",
              "</style>\n",
              "<table border=\"1\" class=\"dataframe\">\n",
              "  <thead>\n",
              "    <tr style=\"text-align: right;\">\n",
              "      <th></th>\n",
              "      <th>country</th>\n",
              "      <th>date</th>\n",
              "      <th>confirmed</th>\n",
              "      <th>deaths</th>\n",
              "      <th>recovered</th>\n",
              "      <th>date_only</th>\n",
              "      <th>daily_confirmed</th>\n",
              "      <th>days_since_start</th>\n",
              "    </tr>\n",
              "  </thead>\n",
              "  <tbody>\n",
              "    <tr>\n",
              "      <th>54</th>\n",
              "      <td>Singapore</td>\n",
              "      <td>2020-05-25</td>\n",
              "      <td>31960</td>\n",
              "      <td>23</td>\n",
              "      <td>15738</td>\n",
              "      <td>05-25</td>\n",
              "      <td>344</td>\n",
              "      <td>55</td>\n",
              "    </tr>\n",
              "  </tbody>\n",
              "</table>\n",
              "</div>"
            ],
            "text/plain": [
              "      country       date  ...  daily_confirmed  days_since_start\n",
              "54  Singapore 2020-05-25  ...              344                55\n",
              "\n",
              "[1 rows x 8 columns]"
            ]
          },
          "metadata": {
            "tags": []
          },
          "execution_count": 61
        }
      ]
    },
    {
      "cell_type": "code",
      "metadata": {
        "id": "C-eH-TrJKKa2",
        "colab": {
          "base_uri": "https://localhost:8080/",
          "height": 403
        },
        "outputId": "f4650791-ffd8-4253-f91f-b3fcd1118490"
      },
      "source": [
        "start_date_ = str(reg_data.date[0]).split(' ')[0]\n",
        "change_date_ = str(reg_data.date[ind]).split(' ')[0]\n",
        "print(\"Date of change for {}: {}\".format(country_, change_date_))\n",
        "import seaborn as sns\n",
        "\n",
        "# plot data:\n",
        "fig, ax = plt.subplots(nrows=1, ncols=1, figsize=(7, 5))\n",
        "ax = [ax]\n",
        "# log regression model\n",
        "ax[0].scatter(y = np.exp(y_data[:ind]), x = x_data[:ind], s = 15);\n",
        "ax[0].scatter(y = np.exp(y_data[ind:]), x = x_data[ind:], s = 15, color = \"red\");\n",
        "\n",
        "ax[0].plot(predictions[\"days_since_start\"],\n",
        "           np.exp(predictions[\"y_mean\"]), \n",
        "           color = \"green\",\n",
        "           label = \"Fitted line by MCMC-NUTS model\") \n",
        "ax[0].axvline(6, \n",
        "              linestyle = '--', linewidth = 1.5,\n",
        "              label = \"Policy start: Apr 7, 2020\" ,\n",
        "              color = \"red\")\n",
        "\n",
        "ax[0].axvline(ind, \n",
        "              linestyle = '--', linewidth = 1.5,\n",
        "              label = \"Date of Change: Apr 27, 2020\",\n",
        "              color = \"black\")\n",
        "\n",
        "ax[0].fill_between(predictions[\"days_since_start\"], \n",
        "                   np.exp(predictions[\"y_perc_5\"]), \n",
        "                   np.exp(predictions[\"y_perc_95\"]), \n",
        "                   alpha = 0.25,\n",
        "                   label = \"90% CI of predictions\",\n",
        "                   color = \"teal\");\n",
        "ax[0].fill_betweenx([0, 1], \n",
        "                    tau_[\"5%\"] * len(x_data), \n",
        "                    tau_[\"95%\"] * len(x_data), \n",
        "                    alpha = 0.25,\n",
        "                    label = \"90% CI of changing point\",\n",
        "                    color = \"lightcoral\",\n",
        "                    transform=ax[0].get_xaxis_transform());\n",
        "ax[0].set(ylabel = \"Total Cases\",)\n",
        "\n",
        "ax[0].legend(loc = \"lower right\", fontsize=12.8)\n",
        "ax[0].set_ylim([100,100000])\n",
        "# ax[0].set_xlim([5,60])\n",
        "ax[0].xaxis.get_label().set_fontsize(16)\n",
        "ax[0].yaxis.get_label().set_fontsize(16)\n",
        "ax[0].title.set_fontsize(20)\n",
        "ax[0].tick_params(labelsize=16)\n",
        "\n",
        "plt.xticks(ticks=[6,26,39,54], labels=[\"Apr 7\",\n",
        "                                             \"Apr 27\",\n",
        "                                             \"May 10\",\n",
        "                                            \"May 25\"], fontsize=15)\n",
        "ax[0].set_yscale('log')\n",
        "plt.setp(ax[0].get_xticklabels(), rotation=0, horizontalalignment='center')\n",
        "print(reg_data.columns)\n",
        "myFmt = mdates.DateFormatter('%m-%d')\n",
        "sns.set_style(\"ticks\")\n",
        "sns.despine()\n",
        "plt.savefig('/content/sample_data/sing_cp.pdf')\n"
      ],
      "execution_count": null,
      "outputs": [
        {
          "output_type": "stream",
          "text": [
            "Date of change for Singapore: 2020-04-27\n",
            "Index(['country', 'date', 'confirmed', 'deaths', 'recovered', 'date_only',\n",
            "       'daily_confirmed', 'days_since_start'],\n",
            "      dtype='object')\n"
          ],
          "name": "stdout"
        },
        {
          "output_type": "display_data",
          "data": {
            "image/png": "[encoded data removed]",
            "text/plain": [
              "<Figure size 504x360 with 1 Axes>"
            ]
          },
          "metadata": {
            "tags": []
          }
        }
      ]
    },
    {
      "cell_type": "code",
      "metadata": {
        "id": "P-RF4xjKoz9k"
      },
      "source": [
        ""
      ],
      "execution_count": null,
      "outputs": []
    }
  ]
}