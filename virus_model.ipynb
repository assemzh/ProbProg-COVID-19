{
  "nbformat": 4,
  "nbformat_minor": 0,
  "metadata": {
    "colab": {
      "name": "virus-model.ipynb",
      "provenance": [],
      "collapsed_sections": [],
      "toc_visible": true,
      "include_colab_link": true
    },
    "kernelspec": {
      "display_name": "Python 3",
      "name": "python3"
    }
  },
  "cells": [
    {
      "cell_type": "markdown",
      "metadata": {
        "id": "view-in-github",
        "colab_type": "text"
      },
      "source": [
        "<a href=\"https://colab.research.google.com/github/assemzh/ProbProg-COVID-19/blob/master/virus_model.ipynb\" target=\"_parent\"><img src=\"https://colab.research.google.com/assets/colab-badge.svg\" alt=\"Open In Colab\"/></a>"
      ]
    },
    {
      "cell_type": "markdown",
      "metadata": {
        "id": "AJX1jgLnX70s"
      },
      "source": [
        "# Epidemiology model\n",
        "\n",
        "https://nbviewer.jupyter.org/github/pyro-ppl/pyro/blob/sir-tutorial-ii/tutorial/source/epi_regional.ipynb?fbclid=IwAR3Gv8tLuiEjOmZh7-NQUa_ggm_QUqtSc5TxRZ0_pSxVA7Y3lWWzSFGKjrA \n"
      ]
    },
    {
      "cell_type": "code",
      "metadata": {
        "id": "z6UoAzRe1pMh",
        "outputId": "21b60695-6b2e-42c9-f43b-0abc5173aea3",
        "colab": {
          "base_uri": "https://localhost:8080/",
          "height": 34
        }
      },
      "source": [
        "!git clone https://github.com/pyro-ppl/pyro.git"
      ],
      "execution_count": 62,
      "outputs": [
        {
          "output_type": "stream",
          "text": [
            "fatal: destination path 'pyro' already exists and is not an empty directory.\n"
          ],
          "name": "stdout"
        }
      ]
    },
    {
      "cell_type": "code",
      "metadata": {
        "id": "ryMxWMvbD8Nc",
        "outputId": "51a3181d-6199-4877-ab75-a607ffb2d19a",
        "colab": {
          "base_uri": "https://localhost:8080/",
          "height": 34
        }
      },
      "source": [
        "%cd /content/pyro"
      ],
      "execution_count": 63,
      "outputs": [
        {
          "output_type": "stream",
          "text": [
            "/content/pyro\n"
          ],
          "name": "stdout"
        }
      ]
    },
    {
      "cell_type": "code",
      "metadata": {
        "id": "w8MT-jR48mLX",
        "outputId": "331a405d-206f-4690-ac35-b08c6dc5888b",
        "colab": {
          "base_uri": "https://localhost:8080/",
          "height": 1000
        }
      },
      "source": [
        "!pip install .[extras]"
      ],
      "execution_count": 64,
      "outputs": [
        {
          "output_type": "stream",
          "text": [
            "Processing /content/pyro\n",
            "Requirement already satisfied: numpy>=1.7 in /usr/local/lib/python3.6/dist-packages (from pyro-ppl==1.5.0+634fe2d6) (1.18.5)\n",
            "Requirement already satisfied: opt_einsum>=2.3.2 in /usr/local/lib/python3.6/dist-packages (from pyro-ppl==1.5.0+634fe2d6) (3.3.0)\n",
            "Requirement already satisfied: pyro-api>=0.1.1 in /usr/local/lib/python3.6/dist-packages (from pyro-ppl==1.5.0+634fe2d6) (0.1.2)\n",
            "Requirement already satisfied: torch>=1.6.0 in /usr/local/lib/python3.6/dist-packages (from pyro-ppl==1.5.0+634fe2d6) (1.6.0+cu101)\n",
            "Requirement already satisfied: tqdm>=4.36 in /usr/local/lib/python3.6/dist-packages (from pyro-ppl==1.5.0+634fe2d6) (4.41.1)\n",
            "Requirement already satisfied: jupyter>=1.0.0 in /usr/local/lib/python3.6/dist-packages (from pyro-ppl==1.5.0+634fe2d6) (1.0.0)\n",
            "Requirement already satisfied: graphviz>=0.8 in /usr/local/lib/python3.6/dist-packages (from pyro-ppl==1.5.0+634fe2d6) (0.10.1)\n",
            "Requirement already satisfied: matplotlib>=1.3 in /usr/local/lib/python3.6/dist-packages (from pyro-ppl==1.5.0+634fe2d6) (3.2.2)\n",
            "Requirement already satisfied: torchvision>=0.7.0 in /usr/local/lib/python3.6/dist-packages (from pyro-ppl==1.5.0+634fe2d6) (0.7.0+cu101)\n",
            "Requirement already satisfied: visdom>=0.1.4 in /usr/local/lib/python3.6/dist-packages (from pyro-ppl==1.5.0+634fe2d6) (0.1.8.9)\n",
            "Requirement already satisfied: pandas in /usr/local/lib/python3.6/dist-packages (from pyro-ppl==1.5.0+634fe2d6) (1.1.2)\n",
            "Requirement already satisfied: scikit-learn in /usr/local/lib/python3.6/dist-packages (from pyro-ppl==1.5.0+634fe2d6) (0.22.2.post1)\n",
            "Requirement already satisfied: seaborn in /usr/local/lib/python3.6/dist-packages (from pyro-ppl==1.5.0+634fe2d6) (0.11.0)\n",
            "Requirement already satisfied: wget in /usr/local/lib/python3.6/dist-packages (from pyro-ppl==1.5.0+634fe2d6) (3.2)\n",
            "Requirement already satisfied: future in /usr/local/lib/python3.6/dist-packages (from torch>=1.6.0->pyro-ppl==1.5.0+634fe2d6) (0.16.0)\n",
            "Requirement already satisfied: ipykernel in /usr/local/lib/python3.6/dist-packages (from jupyter>=1.0.0->pyro-ppl==1.5.0+634fe2d6) (4.10.1)\n",
            "Requirement already satisfied: ipywidgets in /usr/local/lib/python3.6/dist-packages (from jupyter>=1.0.0->pyro-ppl==1.5.0+634fe2d6) (7.5.1)\n",
            "Requirement already satisfied: qtconsole in /usr/local/lib/python3.6/dist-packages (from jupyter>=1.0.0->pyro-ppl==1.5.0+634fe2d6) (4.7.7)\n",
            "Requirement already satisfied: nbconvert in /usr/local/lib/python3.6/dist-packages (from jupyter>=1.0.0->pyro-ppl==1.5.0+634fe2d6) (5.6.1)\n",
            "Requirement already satisfied: notebook in /usr/local/lib/python3.6/dist-packages (from jupyter>=1.0.0->pyro-ppl==1.5.0+634fe2d6) (5.3.1)\n",
            "Requirement already satisfied: jupyter-console in /usr/local/lib/python3.6/dist-packages (from jupyter>=1.0.0->pyro-ppl==1.5.0+634fe2d6) (5.2.0)\n",
            "Requirement already satisfied: kiwisolver>=1.0.1 in /usr/local/lib/python3.6/dist-packages (from matplotlib>=1.3->pyro-ppl==1.5.0+634fe2d6) (1.2.0)\n",
            "Requirement already satisfied: cycler>=0.10 in /usr/local/lib/python3.6/dist-packages (from matplotlib>=1.3->pyro-ppl==1.5.0+634fe2d6) (0.10.0)\n",
            "Requirement already satisfied: pyparsing!=2.0.4,!=2.1.2,!=2.1.6,>=2.0.1 in /usr/local/lib/python3.6/dist-packages (from matplotlib>=1.3->pyro-ppl==1.5.0+634fe2d6) (2.4.7)\n",
            "Requirement already satisfied: python-dateutil>=2.1 in /usr/local/lib/python3.6/dist-packages (from matplotlib>=1.3->pyro-ppl==1.5.0+634fe2d6) (2.8.1)\n",
            "Requirement already satisfied: pillow>=4.1.1 in /usr/local/lib/python3.6/dist-packages (from torchvision>=0.7.0->pyro-ppl==1.5.0+634fe2d6) (7.0.0)\n",
            "Requirement already satisfied: requests in /usr/local/lib/python3.6/dist-packages (from visdom>=0.1.4->pyro-ppl==1.5.0+634fe2d6) (2.23.0)\n",
            "Requirement already satisfied: jsonpatch in /usr/local/lib/python3.6/dist-packages (from visdom>=0.1.4->pyro-ppl==1.5.0+634fe2d6) (1.26)\n",
            "Requirement already satisfied: websocket-client in /usr/local/lib/python3.6/dist-packages (from visdom>=0.1.4->pyro-ppl==1.5.0+634fe2d6) (0.57.0)\n",
            "Requirement already satisfied: scipy in /usr/local/lib/python3.6/dist-packages (from visdom>=0.1.4->pyro-ppl==1.5.0+634fe2d6) (1.4.1)\n",
            "Requirement already satisfied: six in /usr/local/lib/python3.6/dist-packages (from visdom>=0.1.4->pyro-ppl==1.5.0+634fe2d6) (1.15.0)\n",
            "Requirement already satisfied: tornado in /usr/local/lib/python3.6/dist-packages (from visdom>=0.1.4->pyro-ppl==1.5.0+634fe2d6) (5.1.1)\n",
            "Requirement already satisfied: pyzmq in /usr/local/lib/python3.6/dist-packages (from visdom>=0.1.4->pyro-ppl==1.5.0+634fe2d6) (19.0.2)\n",
            "Requirement already satisfied: torchfile in /usr/local/lib/python3.6/dist-packages (from visdom>=0.1.4->pyro-ppl==1.5.0+634fe2d6) (0.1.0)\n",
            "Requirement already satisfied: pytz>=2017.2 in /usr/local/lib/python3.6/dist-packages (from pandas->pyro-ppl==1.5.0+634fe2d6) (2018.9)\n",
            "Requirement already satisfied: joblib>=0.11 in /usr/local/lib/python3.6/dist-packages (from scikit-learn->pyro-ppl==1.5.0+634fe2d6) (0.16.0)\n",
            "Requirement already satisfied: ipython>=4.0.0 in /usr/local/lib/python3.6/dist-packages (from ipykernel->jupyter>=1.0.0->pyro-ppl==1.5.0+634fe2d6) (5.5.0)\n",
            "Requirement already satisfied: traitlets>=4.1.0 in /usr/local/lib/python3.6/dist-packages (from ipykernel->jupyter>=1.0.0->pyro-ppl==1.5.0+634fe2d6) (4.3.3)\n",
            "Requirement already satisfied: jupyter-client in /usr/local/lib/python3.6/dist-packages (from ipykernel->jupyter>=1.0.0->pyro-ppl==1.5.0+634fe2d6) (5.3.5)\n",
            "Requirement already satisfied: nbformat>=4.2.0 in /usr/local/lib/python3.6/dist-packages (from ipywidgets->jupyter>=1.0.0->pyro-ppl==1.5.0+634fe2d6) (5.0.7)\n",
            "Requirement already satisfied: widgetsnbextension~=3.5.0 in /usr/local/lib/python3.6/dist-packages (from ipywidgets->jupyter>=1.0.0->pyro-ppl==1.5.0+634fe2d6) (3.5.1)\n",
            "Requirement already satisfied: ipython-genutils in /usr/local/lib/python3.6/dist-packages (from qtconsole->jupyter>=1.0.0->pyro-ppl==1.5.0+634fe2d6) (0.2.0)\n",
            "Requirement already satisfied: qtpy in /usr/local/lib/python3.6/dist-packages (from qtconsole->jupyter>=1.0.0->pyro-ppl==1.5.0+634fe2d6) (1.9.0)\n",
            "Requirement already satisfied: pygments in /usr/local/lib/python3.6/dist-packages (from qtconsole->jupyter>=1.0.0->pyro-ppl==1.5.0+634fe2d6) (2.6.1)\n",
            "Requirement already satisfied: jupyter-core in /usr/local/lib/python3.6/dist-packages (from qtconsole->jupyter>=1.0.0->pyro-ppl==1.5.0+634fe2d6) (4.6.3)\n",
            "Requirement already satisfied: testpath in /usr/local/lib/python3.6/dist-packages (from nbconvert->jupyter>=1.0.0->pyro-ppl==1.5.0+634fe2d6) (0.4.4)\n",
            "Requirement already satisfied: jinja2>=2.4 in /usr/local/lib/python3.6/dist-packages (from nbconvert->jupyter>=1.0.0->pyro-ppl==1.5.0+634fe2d6) (2.11.2)\n",
            "Requirement already satisfied: entrypoints>=0.2.2 in /usr/local/lib/python3.6/dist-packages (from nbconvert->jupyter>=1.0.0->pyro-ppl==1.5.0+634fe2d6) (0.3)\n",
            "Requirement already satisfied: bleach in /usr/local/lib/python3.6/dist-packages (from nbconvert->jupyter>=1.0.0->pyro-ppl==1.5.0+634fe2d6) (3.2.1)\n",
            "Requirement already satisfied: pandocfilters>=1.4.1 in /usr/local/lib/python3.6/dist-packages (from nbconvert->jupyter>=1.0.0->pyro-ppl==1.5.0+634fe2d6) (1.4.2)\n",
            "Requirement already satisfied: defusedxml in /usr/local/lib/python3.6/dist-packages (from nbconvert->jupyter>=1.0.0->pyro-ppl==1.5.0+634fe2d6) (0.6.0)\n",
            "Requirement already satisfied: mistune<2,>=0.8.1 in /usr/local/lib/python3.6/dist-packages (from nbconvert->jupyter>=1.0.0->pyro-ppl==1.5.0+634fe2d6) (0.8.4)\n",
            "Requirement already satisfied: terminado>=0.8.1 in /usr/local/lib/python3.6/dist-packages (from notebook->jupyter>=1.0.0->pyro-ppl==1.5.0+634fe2d6) (0.9.1)\n",
            "Requirement already satisfied: Send2Trash in /usr/local/lib/python3.6/dist-packages (from notebook->jupyter>=1.0.0->pyro-ppl==1.5.0+634fe2d6) (1.5.0)\n",
            "Requirement already satisfied: prompt-toolkit<2.0.0,>=1.0.0 in /usr/local/lib/python3.6/dist-packages (from jupyter-console->jupyter>=1.0.0->pyro-ppl==1.5.0+634fe2d6) (1.0.18)\n",
            "Requirement already satisfied: urllib3!=1.25.0,!=1.25.1,<1.26,>=1.21.1 in /usr/local/lib/python3.6/dist-packages (from requests->visdom>=0.1.4->pyro-ppl==1.5.0+634fe2d6) (1.24.3)\n",
            "Requirement already satisfied: idna<3,>=2.5 in /usr/local/lib/python3.6/dist-packages (from requests->visdom>=0.1.4->pyro-ppl==1.5.0+634fe2d6) (2.10)\n",
            "Requirement already satisfied: chardet<4,>=3.0.2 in /usr/local/lib/python3.6/dist-packages (from requests->visdom>=0.1.4->pyro-ppl==1.5.0+634fe2d6) (3.0.4)\n",
            "Requirement already satisfied: certifi>=2017.4.17 in /usr/local/lib/python3.6/dist-packages (from requests->visdom>=0.1.4->pyro-ppl==1.5.0+634fe2d6) (2020.6.20)\n",
            "Requirement already satisfied: jsonpointer>=1.9 in /usr/local/lib/python3.6/dist-packages (from jsonpatch->visdom>=0.1.4->pyro-ppl==1.5.0+634fe2d6) (2.0)\n",
            "Requirement already satisfied: pexpect; sys_platform != \"win32\" in /usr/local/lib/python3.6/dist-packages (from ipython>=4.0.0->ipykernel->jupyter>=1.0.0->pyro-ppl==1.5.0+634fe2d6) (4.8.0)\n",
            "Requirement already satisfied: pickleshare in /usr/local/lib/python3.6/dist-packages (from ipython>=4.0.0->ipykernel->jupyter>=1.0.0->pyro-ppl==1.5.0+634fe2d6) (0.7.5)\n",
            "Requirement already satisfied: setuptools>=18.5 in /usr/local/lib/python3.6/dist-packages (from ipython>=4.0.0->ipykernel->jupyter>=1.0.0->pyro-ppl==1.5.0+634fe2d6) (50.3.0)\n",
            "Requirement already satisfied: simplegeneric>0.8 in /usr/local/lib/python3.6/dist-packages (from ipython>=4.0.0->ipykernel->jupyter>=1.0.0->pyro-ppl==1.5.0+634fe2d6) (0.8.1)\n",
            "Requirement already satisfied: decorator in /usr/local/lib/python3.6/dist-packages (from ipython>=4.0.0->ipykernel->jupyter>=1.0.0->pyro-ppl==1.5.0+634fe2d6) (4.4.2)\n",
            "Requirement already satisfied: jsonschema!=2.5.0,>=2.4 in /usr/local/lib/python3.6/dist-packages (from nbformat>=4.2.0->ipywidgets->jupyter>=1.0.0->pyro-ppl==1.5.0+634fe2d6) (2.6.0)\n",
            "Requirement already satisfied: MarkupSafe>=0.23 in /usr/local/lib/python3.6/dist-packages (from jinja2>=2.4->nbconvert->jupyter>=1.0.0->pyro-ppl==1.5.0+634fe2d6) (1.1.1)\n",
            "Requirement already satisfied: webencodings in /usr/local/lib/python3.6/dist-packages (from bleach->nbconvert->jupyter>=1.0.0->pyro-ppl==1.5.0+634fe2d6) (0.5.1)\n",
            "Requirement already satisfied: packaging in /usr/local/lib/python3.6/dist-packages (from bleach->nbconvert->jupyter>=1.0.0->pyro-ppl==1.5.0+634fe2d6) (20.4)\n",
            "Requirement already satisfied: ptyprocess; os_name != \"nt\" in /usr/local/lib/python3.6/dist-packages (from terminado>=0.8.1->notebook->jupyter>=1.0.0->pyro-ppl==1.5.0+634fe2d6) (0.6.0)\n",
            "Requirement already satisfied: wcwidth in /usr/local/lib/python3.6/dist-packages (from prompt-toolkit<2.0.0,>=1.0.0->jupyter-console->jupyter>=1.0.0->pyro-ppl==1.5.0+634fe2d6) (0.2.5)\n",
            "Building wheels for collected packages: pyro-ppl\n",
            "  Building wheel for pyro-ppl (setup.py) ... \u001b[?25l\u001b[?25hdone\n",
            "  Created wheel for pyro-ppl: filename=pyro_ppl-1.5.0+634fe2d6-cp36-none-any.whl size=605432 sha256=d54a2a5e54e90faa3ccab3a4a060084e4f245b903b22bc3ef05c05ffddaa998d\n",
            "  Stored in directory: /tmp/pip-ephem-wheel-cache-kzr2xwjd/wheels/7f/c8/0f/f4e71d6e55e68c8a64c8382f3f6eb829e6aa18323499202e37\n",
            "Successfully built pyro-ppl\n",
            "Installing collected packages: pyro-ppl\n",
            "  Found existing installation: pyro-ppl 1.5.0+634fe2d6\n",
            "    Uninstalling pyro-ppl-1.5.0+634fe2d6:\n",
            "      Successfully uninstalled pyro-ppl-1.5.0+634fe2d6\n",
            "Successfully installed pyro-ppl-1.5.0+634fe2d6\n"
          ],
          "name": "stdout"
        },
        {
          "output_type": "display_data",
          "data": {
            "application/vnd.colab-display-data+json": {
              "pip_warning": {
                "packages": [
                  "pyro"
                ]
              }
            }
          },
          "metadata": {
            "tags": []
          }
        }
      ]
    },
    {
      "cell_type": "code",
      "metadata": {
        "id": "7AUI1jmXcX4u"
      },
      "source": [
        "import os\n",
        "import logging\n",
        "import urllib.request\n",
        "from collections import OrderedDict\n",
        "\n",
        "import pandas as pd\n",
        "import numpy as np\n",
        "import matplotlib.pyplot as plt\n",
        "import seaborn as sns\n",
        "import torch\n",
        "import pyro\n",
        "import pyro.distributions as dist\n",
        "from pyro.contrib.epidemiology import CompartmentalModel, binomial_dist, infection_dist\n",
        "from pyro.ops.tensor_utils import convolve\n",
        "\n",
        "%matplotlib inline\n",
        "pyro.enable_validation(True)           \n",
        "torch.set_default_dtype(torch.double) \n"
      ],
      "execution_count": 65,
      "outputs": []
    },
    {
      "cell_type": "markdown",
      "metadata": {
        "id": "hzpnb36feNgS"
      },
      "source": [
        "  ## Model without Policies\n",
        "  "
      ]
    },
    {
      "cell_type": "code",
      "metadata": {
        "id": "bsaJcjx6xVLo"
      },
      "source": [
        "class CovidModel(CompartmentalModel):\n",
        "    def __init__(self, population, new_cases, new_recovered, new_deaths):\n",
        "        '''\n",
        "        population (int) – Total population = S + E + I + R.\n",
        "        '''\n",
        "        assert len(new_cases) == len(new_recovered) == len(new_deaths)\n",
        "\n",
        "        compartments = (\"S\", \"E\", \"I\")  # R is implicit.\n",
        "        duration = len(new_cases)\n",
        "        super().__init__(compartments, duration, population)\n",
        "\n",
        "        self.new_cases = new_cases\n",
        "        self.new_deaths = new_deaths\n",
        "        self.new_recovered = new_recovered\n",
        "        \n",
        "\n",
        "    def global_model(self):\n",
        "        tau_e = pyro.sample(\"rec_time\",dist.Normal(15.0, 1))\n",
        "        tau_i = pyro.sample(\"incub_time\",dist.Normal(5.0, 1))\n",
        "        # R0 = pyro.sample(\"R0\", dist.LogNormal(0., 1.))\n",
        "        R0 = pyro.sample(\"R0\", dist.Normal(2, 0.5))\n",
        "        rho = pyro.sample(\"rho\", dist.Beta(10, 10))  # About 50% response rate.\n",
        "        mort_rate = pyro.sample(\"mort_rate\", dist.Beta(2, 100))  # About 2% mortality rate.\n",
        "        rec_rate = pyro.sample(\"rec_rate\",dist.Beta(10, 10)) # About 50% recovery rate.\n",
        "        return R0, tau_e, tau_i, rho, mort_rate, rec_rate\n",
        "\n",
        "    def initialize(self, params):\n",
        "        # Start with a single infection.\n",
        "        return {\"S\": self.population - 1, \"E\": 0, \"I\": 1}\n",
        "\n",
        "    def transition(self, params, state, t):\n",
        "        R0, tau_e, tau_i, rho, mort_rate, rec_rate = params\n",
        "\n",
        "        # Sample flows between compartments.\n",
        "        S2E = pyro.sample(\"S2E_{}\".format(t),\n",
        "                            infection_dist(individual_rate=R0 / tau_i,\n",
        "                                          num_susceptible=state[\"S\"],\n",
        "                                          num_infectious=state[\"I\"],\n",
        "                                          population=self.population))\n",
        "        E2I = pyro.sample(\"E2I_{}\".format(t),\n",
        "                            binomial_dist(state[\"E\"], 1 / tau_e )) \n",
        "        I2R = pyro.sample(\"I2R_{}\".format(t),\n",
        "                            binomial_dist(state[\"I\"], 1 / tau_i))\n",
        " \n",
        "        # Update compartments with flows.\n",
        "        state[\"S\"] = state[\"S\"] - S2E \n",
        "        state[\"E\"] = state[\"E\"] + S2E - E2I\n",
        "        state[\"I\"] = state[\"I\"] + E2I - I2R\n",
        "\n",
        "        # Condition on observations.\n",
        "        t_is_observed = isinstance(t, slice) or t < self.duration\n",
        "        pyro.sample(\"new_cases_{}\".format(t),\n",
        "                    binomial_dist(S2E, rho),\n",
        "                    obs=self.new_cases[t] if t_is_observed else None)\n",
        "        pyro.sample(\"new_deaths_{}\".format(t),\n",
        "                      binomial_dist(I2R, mort_rate),\n",
        "                      obs=self.new_deaths[t] if t_is_observed else None)\n",
        "        pyro.sample(\"new_recovered_{}\".format(t),\n",
        "                    binomial_dist(E2I, rec_rate),\n",
        "                    obs=self.new_recovered[t] if t_is_observed else None)\n"
      ],
      "execution_count": 66,
      "outputs": []
    },
    {
      "cell_type": "markdown",
      "metadata": {
        "id": "kgKCZvRfMi_3"
      },
      "source": [
        "## Create Country"
      ]
    },
    {
      "cell_type": "code",
      "metadata": {
        "id": "koX5yGHrsuib"
      },
      "source": [
        "# function to make the time series of confirmed and daily confirmed cases for a specific country\n",
        "def create_country (country, start_date, end_date, state = False) : \n",
        "\n",
        "    url = 'https://raw.githubusercontent.com/assemzh/ProbProg-COVID-19/master/full_grouped.csv'\n",
        "    data = pd.read_csv(url)\n",
        "\n",
        "    data.Date = pd.to_datetime(data.Date)\n",
        "\n",
        "    if state :\n",
        "        df = data.loc[data[\"Province/State\"] == country, [\"Province/State\", \"Date\", \"Confirmed\", \"Deaths\", \"Recovered\", \"Active\", \"New cases\", \"New deaths\", \"New recovered\"]]\n",
        "    else : \n",
        "        df = data.loc[data[\"Country/Region\"] == country, [\"Country/Region\", \"Date\", \"Confirmed\", \"Deaths\", \"Recovered\", \"Active\", \"New cases\", \"New deaths\", \"New recovered\"]]\n",
        "    df.columns = [\"country\", \"date\", \"confirmed\", \"deaths\", \"recovered\", \"active\", \"new_cases\", \"new_deaths\", \"new_recovered\"]\n",
        "\n",
        "    # group by country and date\n",
        "    df = df.groupby(['country','date'])['confirmed', 'deaths', 'recovered',\"active\", \"new_cases\", \"new_deaths\", \"new_recovered\"].sum().reset_index()\n",
        "\n",
        "    # convert date string to datetime\n",
        "    df.date = pd.to_datetime(df.date)\n",
        "    df = df.sort_values(by = \"date\")\n",
        "    df = df[df.date >= start_date]\n",
        "    df = df[df.date <= end_date]\n",
        "\n",
        "    active = df['active'].tolist()\n",
        "    recovered = df['recovered'].tolist()\n",
        "    deaths = df['deaths'].tolist()\n",
        "    new_cases = df['new_cases'].tolist()\n",
        "    new_recovered = df['new_recovered'].tolist()\n",
        "    new_deaths = df['new_deaths'].tolist()\n",
        "    \n",
        "    active = torch.tensor(list(map(float, active))).view(len(active),1) \n",
        "    recovered = torch.tensor(list(map(float, recovered))).view(len(recovered),1) \n",
        "    deaths = torch.tensor(list(map(float, deaths))).view(len(deaths),1) \n",
        "    new_cases = torch.tensor(list(map(float, new_cases))).view(len(new_cases),1)  \n",
        "    new_recovered = torch.tensor(list(map(float, new_recovered))).view(len(new_recovered),1) \n",
        "    new_deaths = torch.tensor(list(map(float, new_deaths))).view(len(new_deaths),1) \n",
        "\n",
        "\n",
        "    return_data = {\n",
        "        'active':active,\n",
        "        'recovered':recovered,\n",
        "        'deaths':deaths,\n",
        "        'new_cases':new_cases,\n",
        "        'new_recovered': new_recovered,\n",
        "        'new_deaths':new_deaths }\n",
        "        \n",
        "    return return_data\n"
      ],
      "execution_count": 67,
      "outputs": []
    },
    {
      "cell_type": "markdown",
      "metadata": {
        "id": "nxRxbNr8zt3O"
      },
      "source": [
        "## Get data for countries\n"
      ]
    },
    {
      "cell_type": "code",
      "metadata": {
        "id": "V4O6XUbM9Ff3",
        "outputId": "29528a7b-7a10-4905-96b8-f651cf555f22",
        "colab": {
          "base_uri": "https://localhost:8080/",
          "height": 71
        }
      },
      "source": [
        "Japan = create_country(\"Japan\", start_date = \"2020-02-01\", end_date = \"2020-04-01\")\n",
        "Sweden = create_country(\"Sweden\", start_date = \"2020-02-01\", end_date = \"2020-04-01\")\n",
        "# print(India['new_cases'])"
      ],
      "execution_count": 68,
      "outputs": [
        {
          "output_type": "stream",
          "text": [
            "/usr/local/lib/python3.6/dist-packages/ipykernel_launcher.py:16: FutureWarning: Indexing with multiple keys (implicitly converted to a tuple of keys) will be deprecated, use a list instead.\n",
            "  app.launch_new_instance()\n"
          ],
          "name": "stderr"
        }
      ]
    },
    {
      "cell_type": "markdown",
      "metadata": {
        "id": "XTUPDWD9e_9o"
      },
      "source": [
        "##Train the model using MCMC.\n",
        "\n"
      ]
    },
    {
      "cell_type": "code",
      "metadata": {
        "id": "ddGahVqKezpd"
      },
      "source": [
        "Japan_model = CovidModel(126500000, Japan[\"new_cases\"], Japan[\"new_recovered\"], Japan[\"new_deaths\"] )"
      ],
      "execution_count": 69,
      "outputs": []
    },
    {
      "cell_type": "code",
      "metadata": {
        "id": "bX4Jq5qmC6Ke",
        "outputId": "bb3a8f3f-a238-4bb6-d5ca-7787e2d6c362",
        "colab": {
          "base_uri": "https://localhost:8080/",
          "height": 122
        }
      },
      "source": [
        "%%time\n",
        "pyro.set_rng_seed(20200607)\n",
        "Japan_mcmc = Japan_model.fit_mcmc(num_samples=200)"
      ],
      "execution_count": 72,
      "outputs": [
        {
          "output_type": "stream",
          "text": [
            "INFO \t Running inference...\n",
            "Warmup:   0%|          | 0/400 [00:00, ?it/s]INFO \t Heuristic init: R0=1.65, incub_time=6.58, mort_rate=0.00376, rec_rate=0.438, rec_time=15.9, rho=0.221\n",
            "Sample: 100%|██████████| 400/400 [01:43,  3.85it/s, step size=2.67e-03, acc. prob=0.883]"
          ],
          "name": "stderr"
        },
        {
          "output_type": "stream",
          "text": [
            "CPU times: user 1min 43s, sys: 371 ms, total: 1min 44s\n",
            "Wall time: 1min 43s\n"
          ],
          "name": "stdout"
        },
        {
          "output_type": "stream",
          "text": [
            "\n"
          ],
          "name": "stderr"
        }
      ]
    },
    {
      "cell_type": "code",
      "metadata": {
        "id": "GBjSkRSzL0qN",
        "outputId": "b4bb2c45-1318-4239-c9b3-21c6bb13a19b",
        "colab": {
          "base_uri": "https://localhost:8080/",
          "height": 1000
        }
      },
      "source": [
        "Japan_mcmc.summary()"
      ],
      "execution_count": 74,
      "outputs": [
        {
          "output_type": "stream",
          "text": [
            "\n",
            "                     mean       std    median      5.0%     95.0%     n_eff     r_hat\n",
            "       rec_time     16.00      0.00     16.00     15.99     16.00      3.09      1.92\n",
            "     incub_time      6.53      0.00      6.54      6.53      6.54      7.69      1.00\n",
            "             R0      1.58      0.01      1.57      1.56      1.60      2.48      2.73\n",
            "            rho      0.29      0.01      0.29      0.28      0.30      2.58      2.46\n",
            "      mort_rate      0.02      0.00      0.02      0.02      0.02      2.50      2.79\n",
            "       rec_rate      0.14      0.01      0.14      0.13      0.14      2.57      2.51\n",
            " auxiliary[0,0] 126499873.24      0.23 126499873.22 126499872.92 126499873.62      4.46      1.92\n",
            " auxiliary[0,1] 126499752.25      2.52 126499752.33 126499748.26 126499755.76      2.66      2.31\n",
            " auxiliary[0,2] 126499621.61      4.41 126499621.85 126499615.44 126499629.38      2.72      2.35\n",
            " auxiliary[0,3] 126499480.58      8.38 126499480.29 126499469.96 126499494.98      2.58      2.56\n",
            " auxiliary[0,4] 126499332.09     12.52 126499333.12 126499312.02 126499350.15      2.62      2.44\n",
            " auxiliary[0,5] 126499181.24     16.77 126499179.52 126499155.34 126499207.26      2.62      2.37\n",
            " auxiliary[0,6] 126499026.55     21.03 126499024.07 126498997.57 126499061.32      2.61      2.39\n",
            " auxiliary[0,7] 126498869.79     24.72 126498865.46 126498835.45 126498908.90      2.62      2.39\n",
            " auxiliary[0,8] 126498710.93     28.09 126498706.95 126498670.85 126498753.11      2.64      2.35\n",
            " auxiliary[0,9] 126498548.97     32.45 126498545.89 126498506.38 126498600.51      2.59      2.44\n",
            "auxiliary[0,10] 126498385.88     36.74 126498381.29 126498336.46 126498443.84      2.61      2.40\n",
            "auxiliary[0,11] 126498221.47     41.79 126498215.75 126498165.46 126498285.93      2.61      2.41\n",
            "auxiliary[0,12] 126498056.85     47.11 126498049.81 126497994.25 126498131.69      2.62      2.38\n",
            "auxiliary[0,13] 126497891.20     52.42 126497882.99 126497819.35 126497974.69      2.62      2.37\n",
            "auxiliary[0,14] 126497723.41     58.05 126497713.76 126497643.58 126497816.36      2.63      2.37\n",
            "auxiliary[0,15] 126497555.42     63.55 126497542.73 126497467.53 126497655.05      2.64      2.32\n",
            "auxiliary[0,16] 126497386.12     69.45 126497370.80 126497287.31 126497494.66      2.65      2.32\n",
            "auxiliary[0,17] 126497215.18     75.14 126497199.25 126497108.45 126497331.57      2.65      2.32\n",
            "auxiliary[0,18] 126497044.09     81.03 126497027.08 126496929.34 126497171.30      2.64      2.33\n",
            "auxiliary[0,19] 126496873.35     86.09 126496857.13 126496751.04 126497006.60      2.63      2.35\n",
            "auxiliary[0,20] 126496703.01     91.38 126496685.80 126496565.89 126496841.06      2.64      2.34\n",
            "auxiliary[0,21] 126496532.29     96.81 126496512.53 126496384.95 126496677.53      2.66      2.33\n",
            "auxiliary[0,22] 126496360.31    103.32 126496340.10 126496204.54 126496517.10      2.65      2.33\n",
            "auxiliary[0,23] 126496187.44    109.30 126496163.97 126496025.45 126496355.87      2.65      2.34\n",
            "auxiliary[0,24] 126496012.94    115.39 126495989.40 126495842.53 126496188.74      2.65      2.33\n",
            "auxiliary[0,25] 126495838.54    121.42 126495812.79 126495658.59 126496023.06      2.65      2.34\n",
            "auxiliary[0,26] 126495664.58    127.40 126495640.49 126495473.10 126495856.66      2.67      2.32\n",
            "auxiliary[0,27] 126495490.57    133.52 126495466.31 126495286.24 126495687.20      2.66      2.32\n",
            "auxiliary[0,28] 126495315.69    139.76 126495289.02 126495104.78 126495522.32      2.66      2.32\n",
            "auxiliary[0,29] 126495140.29    145.43 126495113.27 126494918.38 126495354.65      2.66      2.33\n",
            "auxiliary[0,30] 126494963.24    152.13 126494937.24 126494733.18 126495190.93      2.66      2.33\n",
            "auxiliary[0,31] 126494786.37    158.49 126494759.47 126494546.22 126495022.05      2.65      2.33\n",
            "auxiliary[0,32] 126494609.09    164.54 126494583.00 126494359.47 126494854.25      2.65      2.33\n",
            "auxiliary[0,33] 126494429.10    171.91 126494401.17 126494166.22 126494682.26      2.65      2.34\n",
            "auxiliary[0,34] 126494249.81    178.05 126494221.89 126493979.92 126494512.51      2.64      2.35\n",
            "auxiliary[0,35] 126494069.34    184.15 126494037.48 126493790.58 126494340.03      2.64      2.35\n",
            "auxiliary[0,36] 126493887.99    189.77 126493853.61 126493601.19 126494169.27      2.64      2.35\n",
            "auxiliary[0,37] 126493704.82    195.67 126493670.00 126493406.94 126493993.57      2.65      2.35\n",
            "auxiliary[0,38] 126493520.87    201.71 126493486.64 126493211.08 126493814.65      2.64      2.36\n",
            "auxiliary[0,39] 126493336.70    207.67 126493301.87 126493016.39 126493637.77      2.64      2.37\n",
            "auxiliary[0,40] 126493151.08    213.16 126493115.53 126492833.59 126493470.48      2.64      2.36\n",
            "auxiliary[0,41] 126492964.06    218.87 126492924.49 126492636.98 126493291.02      2.63      2.38\n",
            "auxiliary[0,42] 126492776.76    224.75 126492737.18 126492431.36 126493098.43      2.63      2.38\n",
            "auxiliary[0,43] 126492588.69    230.26 126492548.17 126492234.09 126492915.64      2.63      2.38\n",
            "auxiliary[0,44] 126492398.56    236.25 126492360.19 126492036.84 126492734.99      2.62      2.39\n",
            "auxiliary[0,45] 126492208.07    242.08 126492164.27 126491839.07 126492560.53      2.62      2.39\n",
            "auxiliary[0,46] 126492017.84    248.28 126491972.35 126491641.92 126492375.08      2.62      2.40\n",
            "auxiliary[0,47] 126491826.24    252.75 126491781.52 126491437.98 126492185.70      2.62      2.39\n",
            "auxiliary[0,48] 126491633.49    257.58 126491593.64 126491237.69 126492000.29      2.63      2.39\n",
            "auxiliary[0,49] 126491439.01    262.80 126491399.43 126491035.94 126491810.46      2.62      2.40\n",
            "auxiliary[0,50] 126491242.72    268.01 126491199.78 126490832.40 126491617.42      2.62      2.40\n",
            "auxiliary[0,51] 126491046.11    272.96 126491001.61 126490627.11 126491432.10      2.62      2.40\n",
            "auxiliary[0,52] 126490848.94    278.70 126490803.93 126490416.64 126491243.23      2.62      2.39\n",
            "auxiliary[0,53] 126490651.01    284.69 126490607.26 126490209.91 126491054.69      2.62      2.40\n",
            "auxiliary[0,54] 126490452.21    290.70 126490409.00 126490007.54 126490877.42      2.62      2.40\n",
            "auxiliary[0,55] 126490252.22    296.70 126490208.95 126489798.84 126490687.28      2.62      2.40\n",
            "auxiliary[0,56] 126490050.19    302.26 126490002.06 126489581.10 126490483.47      2.62      2.41\n",
            "auxiliary[0,57] 126489847.15    307.09 126489799.73 126489381.76 126490295.66      2.61      2.41\n",
            "auxiliary[0,58] 126489642.88    312.18 126489597.09 126489171.38 126490097.85      2.61      2.41\n",
            "auxiliary[0,59] 126489437.17    318.06 126489390.14 126488957.75 126489899.12      2.61      2.42\n",
            "auxiliary[0,60] 126489230.36    323.48 126489186.17 126488740.43 126489702.58      2.61      2.42\n",
            " auxiliary[1,0]    109.84      0.23    109.84    109.50    110.22      9.10      1.04\n",
            " auxiliary[1,1]    206.04      1.76    206.00    203.51    208.94      2.64      2.38\n",
            " auxiliary[1,2]    285.43      1.97    284.78    282.54    288.68      2.73      2.32\n",
            " auxiliary[1,3]    366.27      4.55    365.13    359.71    373.01      2.55      2.53\n",
            " auxiliary[1,4]    439.88      6.50    437.51    432.58    451.28      2.76      2.20\n",
            " auxiliary[1,5]    510.22      7.56    511.06    497.62    520.58      2.69      2.27\n",
            " auxiliary[1,6]    582.37      8.26    584.38    569.95    595.76      2.64      2.38\n",
            " auxiliary[1,7]    650.43      7.82    652.10    639.16    662.33      2.74      2.29\n",
            " auxiliary[1,8]    716.04      6.18    716.12    706.39    726.12      3.15      1.87\n",
            " auxiliary[1,9]    778.52      5.75    777.28    771.32    789.24      3.01      1.95\n",
            "auxiliary[1,10]    839.49      4.15    838.21    834.98    847.55      3.05      1.96\n",
            "auxiliary[1,11]    903.13      4.15    902.23    898.42    910.83      2.84      2.23\n",
            "auxiliary[1,12]    957.99      4.52    955.89    953.40    966.92      3.30      1.75\n",
            "auxiliary[1,13]   1016.31      4.81   1014.75   1010.72   1024.31      3.36      1.66\n",
            "auxiliary[1,14]   1074.39      4.81   1072.90   1069.13   1083.11      3.40      1.75\n",
            "auxiliary[1,15]   1126.29      4.04   1125.60   1121.10   1134.06      4.13      1.61\n",
            "auxiliary[1,16]   1181.07      5.42   1181.34   1172.61   1188.74      4.54      1.48\n",
            "auxiliary[1,17]   1236.82      4.98   1238.64   1228.75   1243.62      3.48      1.58\n",
            "auxiliary[1,18]   1289.29      5.05   1290.73   1279.81   1296.03      3.19      1.69\n",
            "auxiliary[1,19]   1339.53      2.92   1339.30   1335.07   1343.99      3.36      2.04\n",
            "auxiliary[1,20]   1386.12      2.13   1386.12   1382.83   1389.44     13.25      1.34\n",
            "auxiliary[1,21]   1430.81      2.78   1430.99   1425.32   1434.17      7.98      1.16\n",
            "auxiliary[1,22]   1478.71      1.71   1478.28   1476.25   1481.59      9.96      1.07\n",
            "auxiliary[1,23]   1524.03      2.06   1523.68   1521.06   1527.39     11.28      1.06\n",
            "auxiliary[1,24]   1570.89      2.74   1571.63   1565.65   1573.89      9.84      1.01\n",
            "auxiliary[1,25]   1617.69      2.78   1617.17   1613.88   1622.44      7.54      1.08\n",
            "auxiliary[1,26]   1661.94      2.51   1661.94   1658.39   1666.63      6.73      1.11\n",
            "auxiliary[1,27]   1706.73      1.74   1706.42   1704.47   1709.73      6.22      1.51\n",
            "auxiliary[1,28]   1750.75      2.71   1751.14   1746.62   1754.51      6.43      1.34\n",
            "auxiliary[1,29]   1793.63      3.04   1794.09   1789.29   1797.88      3.66      1.53\n",
            "auxiliary[1,30]   1843.31      1.74   1843.15   1840.69   1846.15     14.61      1.03\n",
            "auxiliary[1,31]   1888.38      2.50   1888.46   1884.80   1892.55      5.35      1.60\n",
            "auxiliary[1,32]   1932.08      1.55   1932.04   1929.60   1934.29     19.02      1.03\n",
            "auxiliary[1,33]   1983.17      5.13   1984.02   1975.60   1990.02      2.64      2.37\n",
            "auxiliary[1,34]   2028.96      5.78   2029.99   2018.45   2035.78      2.83      2.28\n",
            "auxiliary[1,35]   2075.65      5.69   2077.46   2067.08   2084.05      2.67      2.34\n",
            "auxiliary[1,36]   2126.69      5.12   2128.64   2118.90   2134.33      3.62      1.48\n",
            "auxiliary[1,37]   2178.61      4.35   2179.14   2170.95   2184.53      5.14      1.37\n",
            "auxiliary[1,38]   2231.08      4.49   2230.09   2225.46   2240.23      6.07      1.35\n",
            "auxiliary[1,39]   2285.00      4.86   2284.23   2278.84   2294.33      4.37      1.72\n",
            "auxiliary[1,40]   2339.78      3.75   2339.49   2333.67   2346.79      4.88      1.43\n",
            "auxiliary[1,41]   2398.35      4.47   2399.08   2391.36   2405.91      4.36      1.91\n",
            "auxiliary[1,42]   2456.64      4.75   2456.19   2449.63   2463.69      2.79      2.47\n",
            "auxiliary[1,43]   2519.92      4.80   2518.97   2514.33   2529.26      3.44      1.77\n",
            "auxiliary[1,44]   2585.70      5.41   2586.46   2576.77   2593.53      2.99      2.28\n",
            "auxiliary[1,45]   2648.10      5.22   2648.54   2640.93   2657.64      3.34      1.91\n",
            "auxiliary[1,46]   2710.71      6.28   2712.30   2700.71   2718.72      2.78      2.56\n",
            "auxiliary[1,47]   2772.61      4.09   2771.68   2767.90   2781.87      4.56      1.59\n",
            "auxiliary[1,48]   2837.64      3.61   2836.75   2831.52   2843.04      7.74      1.10\n",
            "auxiliary[1,49]   2903.26      2.79   2903.59   2898.96   2907.46     11.63      1.00\n",
            "auxiliary[1,50]   2973.65      3.17   2973.55   2967.63   2978.01     15.59      1.06\n",
            "auxiliary[1,51]   3042.59      3.20   3042.14   3037.33   3047.66      9.49      1.01\n",
            "auxiliary[1,52]   3112.41      4.62   3112.88   3104.56   3118.89      5.78      1.02\n",
            "auxiliary[1,53]   3180.28      5.49   3179.14   3172.47   3189.81      6.98      1.06\n",
            "auxiliary[1,54]   3251.22      8.12   3248.96   3239.67   3264.77      5.48      1.25\n",
            "auxiliary[1,55]   3323.01     10.43   3319.01   3311.97   3346.10      4.47      1.32\n",
            "auxiliary[1,56]   3400.08     11.69   3396.49   3387.01   3425.25      4.04      1.56\n",
            "auxiliary[1,57]   3478.98     11.41   3476.78   3463.38   3502.89      4.25      1.59\n",
            "auxiliary[1,58]   3562.11     12.13   3559.80   3545.39   3586.55      4.55      1.57\n",
            "auxiliary[1,59]   3648.60     13.25   3646.94   3632.92   3675.68      3.59      1.74\n",
            "auxiliary[1,60]   3739.00     14.76   3736.08   3720.31   3768.01      3.37      1.84\n",
            " auxiliary[2,0]      0.58      0.00      0.59      0.58      0.59      5.58      1.33\n",
            " auxiliary[2,1]     11.39      0.32     11.36     10.89     11.85      2.60      2.39\n",
            " auxiliary[2,2]     16.65      0.10     16.63     16.51     16.80      2.59      2.48\n",
            " auxiliary[2,3]     30.33      0.19     30.27     30.09     30.64      2.68      2.29\n",
            " auxiliary[2,4]     53.60      0.27     53.71     53.10     53.89      3.23      1.77\n",
            " auxiliary[2,5]     59.54      0.07     59.55     59.43     59.64     11.82      1.01\n",
            " auxiliary[2,6]     67.13      0.21     67.13     66.75     67.40      5.68      1.01\n",
            " auxiliary[2,7]     83.85      0.16     83.87     83.61     84.15      3.92      1.72\n",
            " auxiliary[2,8]    100.33      0.17    100.35    100.09    100.64      7.97      1.01\n",
            " auxiliary[2,9]    125.85      0.97    125.63    124.73    127.81      2.88      2.16\n",
            "auxiliary[2,10]    144.05      0.71    143.80    143.11    145.41      4.32      1.36\n",
            "auxiliary[2,11]    147.76      0.24    147.81    147.31    148.10      8.17      1.08\n",
            "auxiliary[2,12]    174.41      0.73    174.61    173.42    175.27      2.41      3.79\n",
            "auxiliary[2,13]    181.64      0.52    181.59    180.85    182.37      2.82      2.59\n",
            "auxiliary[2,14]    198.45      0.92    198.21    197.23    199.64      2.43      3.21\n",
            "auxiliary[2,15]    228.37      0.54    228.28    227.67    229.36      3.61      1.96\n",
            "auxiliary[2,16]    246.81      0.93    246.64    245.48    248.39      3.09      1.83\n",
            "auxiliary[2,17]    265.05      1.14    264.67    263.67    267.34      4.24      1.24\n",
            "auxiliary[2,18]    288.81      0.57    288.83    287.90    289.65      6.38      1.00\n",
            "auxiliary[2,19]    305.60      0.46    305.56    304.99    306.39      4.48      1.45\n",
            "auxiliary[2,20]    323.63      0.73    323.77    321.89    324.45      9.05      1.01\n",
            "auxiliary[2,21]    344.47      0.84    344.42    342.99    345.73      4.76      1.09\n",
            "auxiliary[2,22]    358.55      1.54    358.29    356.20    360.85      3.08      2.16\n",
            "auxiliary[2,23]    386.05      1.59    385.32    384.38    388.84      3.97      1.34\n",
            "auxiliary[2,24]    415.54      1.92    414.79    413.27    418.35      2.54      2.51\n",
            "auxiliary[2,25]    434.91      0.65    434.85    433.89    435.74     11.90      1.09\n",
            "auxiliary[2,26]    451.14      0.82    451.18    449.89    452.47      4.57      1.31\n",
            "auxiliary[2,27]    458.35      1.94    457.90    455.75    461.22      2.54      2.95\n",
            "auxiliary[2,28]    474.28      1.52    474.01    472.60    477.24      3.15      1.96\n",
            "auxiliary[2,29]    496.13      1.20    496.46    494.52    497.85      3.21      1.82\n",
            "auxiliary[2,30]    504.60      0.76    504.56    503.50    505.81      8.48      1.01\n",
            "auxiliary[2,31]    525.13      1.65    524.44    523.28    528.11      3.25      1.72\n",
            "auxiliary[2,32]    544.65      2.34    544.19    541.62    547.75      2.41      3.57\n",
            "auxiliary[2,33]    562.04      0.80    562.15    560.66    563.26      6.00      1.36\n",
            "auxiliary[2,34]    588.73      1.22    588.42    586.76    590.62      6.71      1.14\n",
            "auxiliary[2,35]    617.56      2.18    618.31    614.38    620.35      2.79      2.09\n",
            "auxiliary[2,36]    626.86      1.29    626.87    624.88    628.74      4.91      1.19\n",
            "auxiliary[2,37]    646.94      1.08    647.20    645.13    648.39      3.51      1.71\n",
            "auxiliary[2,38]    668.02      2.46    667.68    664.58    671.67      3.43      1.86\n",
            "auxiliary[2,39]    681.85      1.10    681.99    680.22    683.39      7.71      1.08\n",
            "auxiliary[2,40]    700.33      0.88    700.41    698.79    701.58      4.09      1.78\n",
            "auxiliary[2,41]    716.46      3.49    715.65    712.07    721.70      2.98      1.93\n",
            "auxiliary[2,42]    728.51      2.50    727.82    725.16    732.43      2.80      2.24\n",
            "auxiliary[2,43]    722.31      1.29    722.31    720.10    724.23      9.84      1.29\n",
            "auxiliary[2,44]    728.10      1.44    728.12    725.88    730.16      5.63      1.01\n",
            "auxiliary[2,45]    749.37      1.66    749.59    746.69    751.53      3.11      2.19\n",
            "auxiliary[2,46]    757.03      1.36    756.83    754.90    759.19      5.63      1.08\n",
            "auxiliary[2,47]    784.48      1.50    784.48    781.94    786.65      8.38      1.31\n",
            "auxiliary[2,48]    802.16      3.17    802.38    798.16    807.10      2.45      3.03\n",
            "auxiliary[2,49]    833.03      2.28    832.27    830.00    836.73      2.80      2.38\n",
            "auxiliary[2,50]    860.45      1.82    861.01    857.33    862.66      4.29      1.42\n",
            "auxiliary[2,51]    890.81      3.96    890.64    885.00    896.86      2.77      2.19\n",
            "auxiliary[2,52]    911.08      1.42    910.72    909.16    913.34      9.14      1.00\n",
            "auxiliary[2,53]    948.58      1.73    948.48    946.35    951.75      4.69      1.93\n",
            "auxiliary[2,54]    974.03      2.21    973.53    971.14    977.86      3.14      1.99\n",
            "auxiliary[2,55]   1005.05      1.99   1005.44   1001.74   1007.58      4.08      1.58\n",
            "auxiliary[2,56]   1026.13      2.59   1027.39   1021.86   1029.01      3.16      1.61\n",
            "auxiliary[2,57]   1043.33      2.07   1043.26   1039.38   1045.85      8.77      1.21\n",
            "auxiliary[2,58]   1046.96      1.98   1047.01   1043.66   1049.75      5.20      1.65\n",
            "auxiliary[2,59]   1039.48      4.41   1038.29   1033.53   1046.29      2.81      2.45\n",
            "auxiliary[2,60]   1014.95      4.82   1014.27   1006.97   1021.67      2.73      2.34\n",
            "\n",
            "Number of divergences: 0\n"
          ],
          "name": "stdout"
        }
      ]
    },
    {
      "cell_type": "code",
      "metadata": {
        "id": "JysTB-e_BF5c"
      },
      "source": [
        "Sweden_model = CovidModel(10230000, Sweden[\"new_cases\"], Sweden[\"new_recovered\"], Sweden[\"new_deaths\"] )\n"
      ],
      "execution_count": 79,
      "outputs": []
    },
    {
      "cell_type": "code",
      "metadata": {
        "id": "wE7Jen8XfB62",
        "outputId": "f029f74b-218b-4ae3-cadd-a344e2face8a",
        "colab": {
          "base_uri": "https://localhost:8080/",
          "height": 122
        }
      },
      "source": [
        "%%time\n",
        "pyro.set_rng_seed(20200607)\n",
        "Sweden_mcmc = Sweden_model.fit_mcmc(num_samples=10)"
      ],
      "execution_count": 80,
      "outputs": [
        {
          "output_type": "stream",
          "text": [
            "INFO \t Running inference...\n",
            "Warmup:   0%|          | 0/20 [00:00, ?it/s]INFO \t Heuristic init: R0=2.4, incub_time=3.83, mort_rate=0.0132, rec_rate=0.273, rec_time=16.3, rho=0.285\n",
            "Sample: 100%|██████████| 20/20 [00:02,  8.96it/s, step size=2.57e-05, acc. prob=1.000]"
          ],
          "name": "stderr"
        },
        {
          "output_type": "stream",
          "text": [
            "CPU times: user 2.23 s, sys: 12 ms, total: 2.25 s\n",
            "Wall time: 2.24 s\n"
          ],
          "name": "stdout"
        },
        {
          "output_type": "stream",
          "text": [
            "\n"
          ],
          "name": "stderr"
        }
      ]
    },
    {
      "cell_type": "code",
      "metadata": {
        "id": "_7ma9aO8a7Pj",
        "outputId": "39d02639-2dd9-4328-c589-19b60a35e0de",
        "colab": {
          "base_uri": "https://localhost:8080/",
          "height": 1000
        }
      },
      "source": [
        "Sweden_mcmc.summary()"
      ],
      "execution_count": 81,
      "outputs": [
        {
          "output_type": "stream",
          "text": [
            "\n",
            "                     mean       std    median      5.0%     95.0%     n_eff     r_hat\n",
            "       rec_time     16.33      0.00     16.33     16.33     16.33      2.78      2.28\n",
            "     incub_time      3.83      0.00      3.83      3.83      3.83      7.60      1.42\n",
            "             R0      2.40      0.00      2.40      2.40      2.40      7.69      1.09\n",
            "            rho      0.54      0.03      0.52      0.51      0.58      2.39      4.38\n",
            "      mort_rate      0.02      0.00      0.02      0.01      0.02      2.38      5.53\n",
            "       rec_rate      0.27      0.00      0.27      0.27      0.27      2.38      4.84\n",
            " auxiliary[0,0] 10229993.53      0.08 10229993.47 10229993.46 10229993.63      2.38      5.20\n",
            " auxiliary[0,1] 10229987.23      0.04 10229987.22 10229987.17 10229987.27      2.40      4.82\n",
            " auxiliary[0,2] 10229981.08      0.08 10229981.06 10229980.98 10229981.16      2.42      4.87\n",
            " auxiliary[0,3] 10229974.99      0.05 10229974.99 10229974.92 10229975.08      4.53      0.94\n",
            " auxiliary[0,4] 10229968.77      0.30 10229968.56 10229968.48 10229969.25      3.92      2.28\n",
            " auxiliary[0,5] 10229962.56      1.13 10229961.61 10229961.49 10229964.31      2.43      3.65\n",
            " auxiliary[0,6] 10229955.55      1.75 10229954.05 10229953.86 10229957.86      2.39      4.19\n",
            " auxiliary[0,7] 10229947.52      2.26 10229945.54 10229945.34 10229950.41      2.39      4.92\n",
            " auxiliary[0,8] 10229938.09      2.34 10229935.94 10229935.88 10229940.76      2.42      6.84\n",
            " auxiliary[0,9] 10229927.11      2.00 10229925.69 10229925.19 10229930.16      2.56      2.53\n",
            "auxiliary[0,10] 10229914.26      2.17 10229912.43 10229911.86 10229916.33      2.63     18.45\n",
            "auxiliary[0,11] 10229900.46      7.73 10229900.15 10229888.48 10229907.16      2.46      2.95\n",
            "auxiliary[0,12] 10229891.22      7.91 10229890.51 10229880.65 10229898.22      2.42      3.37\n",
            "auxiliary[0,13] 10229948.86      1.87 10229947.23 10229947.07 10229951.33      2.39      4.28\n",
            "auxiliary[0,14] 10229939.42      1.73 10229937.91 10229937.73 10229941.55      2.38      5.42\n",
            "auxiliary[0,15] 10229928.26      1.10 10229927.31 10229927.12 10229929.44      2.40      8.33\n",
            "auxiliary[0,16] 10229916.86      0.92 10229916.09 10229915.93 10229918.06      2.38      5.04\n",
            "auxiliary[0,17] 10229904.50      0.62 10229903.97 10229903.86 10229905.21      2.38      6.14\n",
            "auxiliary[0,18] 10229891.95      0.43 10229891.60 10229891.52 10229892.52      2.38      4.85\n",
            "auxiliary[0,19] 10229878.76      0.12 10229878.67 10229878.65 10229878.95      3.67      2.44\n",
            "auxiliary[0,20] 10229865.30      0.12 10229865.27 10229865.13 10229865.44      3.29      3.15\n",
            "auxiliary[0,21] 10229852.40      0.27 10229852.36 10229852.02 10229852.65      2.46      3.59\n",
            "auxiliary[0,22] 10229838.46      0.65 10229838.54 10229837.15 10229839.02      2.73      2.15\n",
            "auxiliary[0,23] 10229824.98      0.36 10229825.06 10229824.36 10229825.32      2.94      2.19\n",
            "auxiliary[0,24] 10229811.79      0.14 10229811.76 10229811.67 10229812.11      5.47      0.96\n",
            "auxiliary[0,25] 10229798.87      0.53 10229798.51 10229798.24 10229799.53      2.80      4.47\n",
            "auxiliary[0,26] 10229785.84      1.24 10229784.83 10229784.49 10229787.11      2.48     12.66\n",
            "auxiliary[0,27] 10229771.71      1.90 10229770.10 10229769.71 10229773.67      2.46     11.93\n",
            "auxiliary[0,28] 10229758.22      3.08 10229755.57 10229755.05 10229761.57      2.40      8.23\n",
            "auxiliary[0,29] 10229744.32      4.49 10229740.41 10229739.81 10229749.51      2.39      6.56\n",
            "auxiliary[0,30] 10229729.82      6.18 10229724.43 10229723.74 10229737.20      2.39      5.40\n",
            "auxiliary[0,31] 10229714.22      8.09 10229707.15 10229706.41 10229724.45      2.38      4.65\n",
            "auxiliary[0,32] 10229697.44     10.37 10229688.49 10229687.60 10229711.96      2.40      3.97\n",
            "auxiliary[0,33] 10229679.09     12.30 10229668.56 10229667.54 10229697.20      2.41      3.69\n",
            "auxiliary[0,34] 10229656.36     11.34 10229646.51 10229645.45 10229670.51      2.38      4.49\n",
            "auxiliary[0,35] 10229632.52     11.12 10229622.82 10229621.64 10229646.78      2.38      5.08\n",
            "auxiliary[0,36] 10229604.14      9.10 10229596.21 10229594.89 10229613.95      2.42      8.55\n",
            "auxiliary[0,37] 10229573.40      9.07 10229565.58 10229564.19 10229583.80      2.39      6.64\n",
            "auxiliary[0,38] 10229533.40      7.51 10229527.08 10229525.90 10229543.72      2.39      4.54\n",
            "auxiliary[0,39] 10229485.97      6.61 10229480.40 10229479.39 10229494.49      2.38      4.56\n",
            "auxiliary[0,40] 10229429.58      4.09 10229426.13 10229425.31 10229434.12      2.39      7.16\n",
            "auxiliary[0,41] 10229370.97      3.66 10229367.86 10229367.13 10229375.04      2.41      8.84\n",
            "auxiliary[0,42] 10229306.13      2.50 10229304.11 10229303.39 10229308.72      2.42     10.34\n",
            "auxiliary[0,43] 10229237.34      2.35 10229235.41 10229234.82 10229239.74      2.45     12.30\n",
            "auxiliary[0,44] 10229167.56      3.42 10229164.56 10229164.17 10229171.38      2.40      7.06\n",
            "auxiliary[0,45] 10229093.59      5.23 10229089.11 10229088.39 10229100.16      2.38      4.56\n",
            "auxiliary[0,46] 10229014.29      6.29 10229008.98 10229008.32 10229023.68      2.41      3.66\n",
            "auxiliary[0,47] 10228930.54      7.49 10228924.13 10228923.38 10228940.38      2.38      4.36\n",
            "auxiliary[0,48] 10228841.38      8.69 10228833.77 10228832.81 10228851.63      2.39      5.79\n",
            "auxiliary[0,49] 10228742.46      8.49 10228734.99 10228734.05 10228752.65      2.39      6.27\n",
            "auxiliary[0,50] 10228639.41      9.55 10228631.24 10228629.85 10228651.02      2.37      5.28\n",
            "auxiliary[0,51] 10228526.37      9.97 10228517.81 10228516.68 10228539.88      2.39      4.34\n",
            "auxiliary[0,52] 10228406.31      9.21 10228398.44 10228397.16 10228417.81      2.38      5.07\n",
            "auxiliary[0,53] 10228281.14      7.50 10228274.54 10228273.40 10228289.37      2.42      8.65\n",
            "auxiliary[0,54] 10228153.35      8.98 10228145.52 10228144.30 10228164.41      2.39      5.95\n",
            "auxiliary[0,55] 10228014.08      9.44 10228006.15 10228004.59 10228026.06      2.37      5.07\n",
            "auxiliary[0,56] 10227862.81     10.33 10227854.07 10227852.29 10227875.01      2.38      5.88\n",
            "auxiliary[0,57] 10227694.35     12.20 10227683.85 10227682.08 10227709.36      2.38      5.60\n",
            "auxiliary[0,58] 10227507.34     14.93 10227494.08 10227492.94 10227525.99      2.39      5.31\n",
            "auxiliary[0,59] 10227287.79     15.26 10227274.42 10227272.75 10227307.11      2.38      4.95\n",
            "auxiliary[0,60] 10227022.82      2.09 10227023.55 10227019.18 10227024.79      3.10      1.62\n",
            " auxiliary[1,0]      6.59      0.00      6.59      6.59      6.60      2.77      2.65\n",
            " auxiliary[1,1]      9.73      0.00      9.73      9.73      9.74      8.06      0.90\n",
            " auxiliary[1,2]     15.31      0.00     15.31     15.31     15.32      2.65      3.06\n",
            " auxiliary[1,3]     18.80      0.01     18.80     18.79     18.81      3.10      1.71\n",
            " auxiliary[1,4]     27.54      0.00     27.53     27.53     27.54      3.48      2.56\n",
            " auxiliary[1,5]     32.94      0.01     32.94     32.92     32.95      2.51      2.76\n",
            " auxiliary[1,6]     40.23      0.02     40.21     40.20     40.25      2.60     12.20\n",
            " auxiliary[1,7]     48.38      0.04     48.35     48.35     48.43      2.48      8.18\n",
            " auxiliary[1,8]     56.99      0.66     56.75     56.16     57.65      2.38      4.74\n",
            " auxiliary[1,9]     55.64      0.28     55.42     55.38     56.04      2.50      2.79\n",
            "auxiliary[1,10]     53.18      0.20     53.04     52.98     53.38      2.51     16.34\n",
            "auxiliary[1,11]     58.05      0.13     58.09     57.83     58.17      3.52      1.37\n",
            "auxiliary[1,12]     60.35      0.19     60.19     60.15     60.55      2.44     11.93\n",
            "auxiliary[1,13]     54.46      0.46     54.06     54.00     55.05      2.38      4.66\n",
            "auxiliary[1,14]     57.64      0.44     57.47     57.10     58.08      2.38      5.47\n",
            "auxiliary[1,15]     57.62      0.48     57.21     57.15     58.21      2.38      5.51\n",
            "auxiliary[1,16]     66.82      0.16     66.76     66.62     66.97      2.41      5.07\n",
            "auxiliary[1,17]     59.35      0.13     59.25     59.21     59.49      2.35      5.43\n",
            "auxiliary[1,18]     70.62      0.26     70.53     70.29     70.89      2.37      5.01\n",
            "auxiliary[1,19]     64.66      0.18     64.57     64.43     64.84      2.41      5.88\n",
            "auxiliary[1,20]     63.23      0.44     62.85     62.80     63.77      2.38      5.54\n",
            "auxiliary[1,21]     71.79      0.81     71.48     70.77     72.57      2.38      5.07\n",
            "auxiliary[1,22]     76.37      0.17     76.22     76.21     76.59      2.41      3.90\n",
            "auxiliary[1,23]     75.23      0.38     74.90     74.86     75.71      2.38      4.79\n",
            "auxiliary[1,24]     74.28      0.34     74.00     73.94     74.72      2.37      4.84\n",
            "auxiliary[1,25]     83.80      0.03     83.81     83.76     83.83      2.50      2.43\n",
            "auxiliary[1,26]     93.72      1.18     93.43     92.12     94.84      2.39      3.99\n",
            "auxiliary[1,27]     90.55      1.10     89.59     89.52     92.05      2.39      3.89\n",
            "auxiliary[1,28]     97.25      0.03     97.25     97.21     97.28      2.57      2.71\n",
            "auxiliary[1,29]    110.47      0.17    110.42    110.24    110.62      2.40      4.39\n",
            "auxiliary[1,30]    127.85      0.55    127.68    127.13    128.40      2.37      4.44\n",
            "auxiliary[1,31]    118.45      0.18    118.34    118.26    118.65      2.39      8.23\n",
            "auxiliary[1,32]    155.30      0.31    155.04    154.99    155.72      2.40      3.82\n",
            "auxiliary[1,33]    160.77      1.34    160.56    159.00    162.02      2.40      3.65\n",
            "auxiliary[1,34]    164.96      1.64    163.51    163.48    167.18      2.41      3.57\n",
            "auxiliary[1,35]    201.33      0.21    201.34    201.05    201.52      2.43      3.09\n",
            "auxiliary[1,36]    243.22      0.59    242.69    242.65    243.93      2.44      5.29\n",
            "auxiliary[1,37]    249.26      1.59    248.82    246.97    250.74      2.41      3.88\n",
            "auxiliary[1,38]    265.65      0.77    265.01    264.94    266.91      2.48      3.04\n",
            "auxiliary[1,39]    292.69      0.37    292.39    292.33    293.22      2.42      3.76\n",
            "auxiliary[1,40]    321.31      1.14    320.33    320.17    322.60      2.38      5.98\n",
            "auxiliary[1,41]    353.68      0.13    353.70    353.45    353.81      2.55      2.40\n",
            "auxiliary[1,42]    394.87      0.33    394.59    394.52    395.30      2.89      6.50\n",
            "auxiliary[1,43]    434.84      0.58    434.33    434.27    435.50      2.43      7.68\n",
            "auxiliary[1,44]    473.97      0.50    473.53    473.47    474.54      2.49      8.88\n",
            "auxiliary[1,45]    526.67      0.46    526.26    526.23    527.25      2.49      6.62\n",
            "auxiliary[1,46]    556.39      1.68    554.94    554.81    558.85      2.42      4.14\n",
            "auxiliary[1,47]    612.55      1.56    611.16    611.05    614.65      2.40      4.84\n",
            "auxiliary[1,48]    668.73      0.79    668.11    667.88    669.63      2.41      8.18\n",
            "auxiliary[1,49]    733.98      2.05    732.20    731.92    736.40      2.39      5.94\n",
            "auxiliary[1,50]    785.80      1.88    784.21    783.84    788.06      2.37      5.12\n",
            "auxiliary[1,51]    855.12      2.61    852.93    852.62    858.85      2.39      3.86\n",
            "auxiliary[1,52]    923.54      2.28    921.55    921.31    926.48      2.38      4.33\n",
            "auxiliary[1,53]   1010.22      2.37   1008.18   1007.82   1012.92      2.39      6.69\n",
            "auxiliary[1,54]   1077.62      0.91   1077.01   1076.62   1078.85      2.38      3.42\n",
            "auxiliary[1,55]   1151.65      1.36   1150.46   1150.34   1153.36      2.44      4.30\n",
            "auxiliary[1,56]   1203.68      0.92   1202.99   1202.62   1204.74      2.36      4.46\n",
            "auxiliary[1,57]   1281.56      2.01   1279.86   1279.60   1284.17      2.39      3.71\n",
            "auxiliary[1,58]   1392.85      2.65   1390.67   1390.32   1396.28      2.37      4.16\n",
            "auxiliary[1,59]   1489.33      2.14   1487.46   1487.26   1492.00      2.41      5.75\n",
            "auxiliary[1,60]   1601.79      0.65   1601.38   1600.95   1602.74      2.56      3.66\n",
            " auxiliary[2,0]      1.11      0.00      1.11      1.11      1.11     11.85      1.46\n",
            " auxiliary[2,1]      1.60      0.00      1.60      1.60      1.60      2.46      2.58\n",
            " auxiliary[2,2]      0.96      0.00      0.96      0.96      0.96      2.34      3.77\n",
            " auxiliary[2,3]      1.02      0.00      1.02      1.02      1.02      2.75      3.14\n",
            " auxiliary[2,4]      1.44      0.00      1.44      1.44      1.44      2.85      1.80\n",
            " auxiliary[2,5]      1.45      0.00      1.45      1.45      1.46      4.35      1.59\n",
            " auxiliary[2,6]      1.93      0.00      1.93      1.93      1.93      5.15      0.95\n",
            " auxiliary[2,7]      2.23      0.00      2.23      2.23      2.23      2.49      2.29\n",
            " auxiliary[2,8]      4.34      0.01      4.33      4.33      4.34      2.38      5.99\n",
            " auxiliary[2,9]      8.35      0.01      8.34      8.34      8.36      2.40      5.49\n",
            "auxiliary[2,10]     12.43      0.01     12.42     12.41     12.44      2.55     10.19\n",
            "auxiliary[2,11]      9.99      0.01      9.99      9.99     10.00      4.08      1.19\n",
            "auxiliary[2,12]      8.50      0.02      8.49      8.48      8.52      2.38      6.59\n",
            "auxiliary[2,13]     11.12      0.00     11.12     11.12     11.12     15.35      0.90\n",
            "auxiliary[2,14]     14.89      0.02     14.88     14.86     14.92      2.38      5.23\n",
            "auxiliary[2,15]     14.42      0.03     14.40     14.40     14.45      2.39      6.48\n",
            "auxiliary[2,16]     14.52      0.01     14.52     14.51     14.53      2.45      4.76\n",
            "auxiliary[2,17]     11.85      0.01     11.84     11.84     11.86      2.39      3.45\n",
            "auxiliary[2,18]      8.69      0.01      8.69      8.68      8.70      2.38      7.46\n",
            "auxiliary[2,19]     10.68      0.01     10.67     10.67     10.68      2.43      4.99\n",
            "auxiliary[2,20]     12.69      0.02     12.68     12.67     12.71      2.46      9.68\n",
            "auxiliary[2,21]     12.54      0.03     12.53     12.51     12.57      2.38      5.59\n",
            "auxiliary[2,22]     10.97      0.00     10.97     10.97     10.98      2.83      2.41\n",
            "auxiliary[2,23]     13.95      0.01     13.95     13.95     13.97      2.65      2.17\n",
            "auxiliary[2,24]     11.57      0.01     11.56     11.56     11.59      2.46      7.07\n",
            "auxiliary[2,25]      9.85      0.00      9.85      9.85      9.86      3.23      3.12\n",
            "auxiliary[2,26]     13.11      0.03     13.11     13.07     13.13      2.43      3.55\n",
            "auxiliary[2,27]     18.06      0.05     18.01     18.01     18.13      2.40      4.65\n",
            "auxiliary[2,28]     20.13      0.01     20.12     20.12     20.14      2.54      2.97\n",
            "auxiliary[2,29]     19.84      0.01     19.84     19.84     19.85      2.46      8.43\n",
            "auxiliary[2,30]     21.72      0.02     21.71     21.70     21.74      2.42      5.02\n",
            "auxiliary[2,31]     27.22      0.03     27.19     27.19     27.26      2.41      4.30\n",
            "auxiliary[2,32]     29.08      0.05     29.06     29.03     29.13      2.37      5.50\n",
            "auxiliary[2,33]     23.52      0.03     23.51     23.48     23.55      2.43      4.26\n",
            "auxiliary[2,34]     27.71      0.07     27.64     27.64     27.79      2.41      4.29\n",
            "auxiliary[2,35]     30.05      0.00     30.05     30.04     30.05      6.24      1.04\n",
            "auxiliary[2,36]     33.76      0.04     33.74     33.71     33.80      2.40      7.11\n",
            "auxiliary[2,37]     37.77      0.04     37.76     37.73     37.82      2.36      4.04\n",
            "auxiliary[2,38]     45.49      0.02     45.47     45.47     45.53      2.53      2.85\n",
            "auxiliary[2,39]     48.04      0.03     48.02     48.02     48.08      2.48      5.26\n",
            "auxiliary[2,40]     56.76      0.03     56.73     56.73     56.80      3.05      5.79\n",
            "auxiliary[2,41]     62.27      0.01     62.26     62.25     62.28      2.53      3.12\n",
            "auxiliary[2,42]     65.00      0.02     64.99     64.98     65.02      2.89      2.03\n",
            "auxiliary[2,43]     72.41      0.04     72.37     72.36     72.46      2.45      5.07\n",
            "auxiliary[2,44]     80.62      0.03     80.60     80.59     80.66      2.40      3.65\n",
            "auxiliary[2,45]     79.05      0.01     79.05     79.04     79.08      7.53      0.93\n",
            "auxiliary[2,46]    104.96      0.03    104.95    104.93    105.03      3.25      1.55\n",
            "auxiliary[2,47]    106.38      0.03    106.36    106.34    106.42      3.49      3.48\n",
            "auxiliary[2,48]    111.15      0.04    111.12    111.10    111.19      2.74      5.99\n",
            "auxiliary[2,49]    115.87      0.05    115.84    115.80    115.94      2.36      3.17\n",
            "auxiliary[2,50]    135.71      0.02    135.70    135.69    135.73      3.10      5.32\n",
            "auxiliary[2,51]    145.81      0.05    145.79    145.75    145.87      2.50      3.91\n",
            "auxiliary[2,52]    158.92      0.14    158.80    158.79    159.07      2.41      6.15\n",
            "auxiliary[2,53]    153.21      0.06    153.16    153.14    153.27      2.64      7.89\n",
            "auxiliary[2,54]    164.70      0.09    164.64    164.60    164.80      2.62      6.39\n",
            "auxiliary[2,55]    176.52      0.02    176.52    176.48    176.53      4.44      1.20\n",
            "auxiliary[2,56]    215.40      0.16    215.26    215.25    215.60      2.45      4.66\n",
            "auxiliary[2,57]    239.98      0.17    239.85    239.79    240.20      2.38      4.59\n",
            "auxiliary[2,58]    236.96      0.02    236.96    236.93    237.00      3.26      1.56\n",
            "auxiliary[2,59]    261.76      0.23    261.56    261.53    262.04      2.43      6.01\n",
            "auxiliary[2,60]    285.10      0.13    285.02    284.96    285.25      2.36      6.06\n",
            "\n",
            "Number of divergences: 0\n"
          ],
          "name": "stdout"
        }
      ]
    },
    {
      "cell_type": "markdown",
      "metadata": {
        "id": "VZGPwGDeCrdZ"
      },
      "source": [
        "# Simple Simulation Model"
      ]
    },
    {
      "cell_type": "code",
      "metadata": {
        "id": "1lliA-gEyv_0",
        "outputId": "45e9d3c8-7a5e-433f-ea89-a1fbb0d9055c",
        "colab": {
          "base_uri": "https://localhost:8080/",
          "height": 1000
        }
      },
      "source": [
        "import matplotlib.pyplot as plt\n",
        "# test_cap = 0.001\n",
        "hygiene = 0.18    #parameters to be infered\n",
        "distancing = 0.60 # Canada\n",
        "lockdown = 0.96\n",
        "quarantine = 0.76 # Korea\n",
        "\n",
        "hospital_cap = 2* 1/3400\n",
        "transmission_days = 16.92/2.11\n",
        "exposed_days = 3.59 \n",
        "recovery_days = 16.92 \n",
        "# waning_days = 365\n",
        "\n",
        "susceptible0 = 0.999\n",
        "infected0 = 0.001\n",
        "exposed0 = 0\n",
        "recovered0 = 0\n",
        "\n",
        "population = 1000000\n",
        "\n",
        "def virus_model(days,policy):\n",
        "\n",
        "  if policy == \"hygiene\":\n",
        "    pol = hygiene\n",
        "  elif policy == \"distancing\":\n",
        "    pol = distancing\n",
        "  elif policy == \"lockdown\":\n",
        "    pol = lockdown\n",
        "  elif policy == \"quarantine\":\n",
        "    pol = quarantine\n",
        "  elif policy == \"None\":\n",
        "    pol = None\n",
        "\n",
        "  transmission_rate = (1/ transmission_days)\n",
        "  incubation_rate = (1/  exposed_days)\n",
        "  recovery_rate = (1/ recovery_days)\n",
        "  # immunity_loss_rate = (1/ waning_days)\n",
        "  death_rate_with_med = 0.02\n",
        "  death_rate_without_med = 0.9\n",
        "  ser_case_rate = 0.15\n",
        "\n",
        "\n",
        "  r0 = 4.2\n",
        "\n",
        "  susceptible =  susceptible0\n",
        "  infected = infected0\n",
        "  exposed = exposed0\n",
        "  recovered = recovered0\n",
        "  dead = 0\n",
        "\n",
        "  susc= [population * susceptible0]\n",
        "  exp = [population * exposed0]\n",
        "  inf = [population * infected0]\n",
        "  rec = [population * recovered0]\n",
        "  re = [r0]\n",
        "  d = [0]\n",
        "  testing = 0\n",
        "  \n",
        "  for day in range(days):\n",
        "    if day < 200 and day >100 and pol != None:\n",
        "      transmission_rate = (1/ transmission_days) * (1-pol)\n",
        "    else:\n",
        "      transmission_rate = (1/ transmission_days)\n",
        "    susceptible -= susceptible * infected * transmission_rate \n",
        "    exposed +=  susceptible * infected * transmission_rate\n",
        "    exposed -= exposed * incubation_rate\n",
        "\n",
        "    infected += exposed * incubation_rate \n",
        "    infected -= infected * recovery_rate\n",
        "\n",
        "    if (ser_case_rate*exposed * incubation_rate < hospital_cap):\n",
        "      dead += ser_case_rate*exposed * incubation_rate * death_rate_with_med\n",
        "      infected -= ser_case_rate*exposed * incubation_rate * death_rate_with_med\n",
        "    else:\n",
        "      dead += hospital_cap*death_rate_with_med + (exposed * incubation_rate * ser_case_rate - hospital_cap) * death_rate_without_med\n",
        "      infected -= hospital_cap*death_rate_with_med + (exposed * incubation_rate * ser_case_rate - hospital_cap) * death_rate_without_med\n",
        "\n",
        "    recovered += infected * recovery_rate\n",
        "\n",
        "    re.append((transmission_rate/ recovery_rate)*susceptible)\n",
        "    susc.append(population* susceptible)\n",
        "    exp.append(population* exposed)\n",
        "    inf.append(population* infected)\n",
        "    rec.append(population* recovered)\n",
        "    d.append(population* dead)\n",
        "  \n",
        "  return susc, exp, inf, rec, d, re\n",
        "\n",
        "days = 900\n",
        "\n",
        "result_h = virus_model(days,'hygiene')\n",
        "result_d = virus_model(days,'distancing')\n",
        "result_l = virus_model(days,'lockdown')\n",
        "result_q = virus_model(days,'quarantine')\n",
        "result = virus_model(days,'None')\n",
        "\n",
        "m = [m for m in range(days+1)]\n",
        "\n",
        "plt.plot(m, result_l[0], label=\"line S\")\n",
        "plt.plot()\n",
        "plt.show()\n",
        "\n",
        "plt.plot(m, result_l[1], label=\"line E\")\n",
        "plt.plot()\n",
        "plt.show()\n",
        "\n",
        "plt.plot(m, result_l[2], label=\"line I\")\n",
        "plt.plot()\n",
        "plt.show()\n",
        "\n",
        "plt.plot(m, result_l[3], label=\"line R\")\n",
        "plt.plot()\n",
        "plt.show()\n",
        "\n",
        "plt.plot(m, result_l[4], label=\"line D\")\n",
        "plt.plot()\n",
        "plt.show()\n",
        "\n",
        "# plt.plot(m, result[5], label=\"line Re\")\n",
        "# plt.plot()\n",
        "# plt.show()"
      ],
      "execution_count": null,
      "outputs": [
        {
          "output_type": "display_data",
          "data": {
            "image/png": "[encoded data removed]",
            "text/plain": [
              "<Figure size 432x288 with 1 Axes>"
            ]
          },
          "metadata": {
            "tags": []
          }
        },
        {
          "output_type": "display_data",
          "data": {
            "image/png": "[encoded data removed]",
            "text/plain": [
              "<Figure size 432x288 with 1 Axes>"
            ]
          },
          "metadata": {
            "tags": []
          }
        },
        {
          "output_type": "display_data",
          "data": {
            "image/png": "[encoded data removed]",
            "text/plain": [
              "<Figure size 432x288 with 1 Axes>"
            ]
          },
          "metadata": {
            "tags": []
          }
        },
        {
          "output_type": "display_data",
          "data": {
            "image/png": "[encoded data removed]",
            "text/plain": [
              "<Figure size 432x288 with 1 Axes>"
            ]
          },
          "metadata": {
            "tags": []
          }
        },
        {
          "output_type": "display_data",
          "data": {
            "image/png": "[encoded data removed]",
            "text/plain": [
              "<Figure size 432x288 with 1 Axes>"
            ]
          },
          "metadata": {
            "tags": []
          }
        }
      ]
    }
  ]
}