{
  "nbformat": 4,
  "nbformat_minor": 0,
  "metadata": {
    "colab": {
      "name": "virus-model.ipynb",
      "provenance": [],
      "collapsed_sections": [],
      "toc_visible": true,
      "include_colab_link": true
    },
    "kernelspec": {
      "display_name": "Python 3",
      "name": "python3"
    }
  },
  "cells": [
    {
      "cell_type": "markdown",
      "metadata": {
        "id": "view-in-github",
        "colab_type": "text"
      },
      "source": [
        "<a href=\"https://colab.research.google.com/github/assemzh/ProbProg-COVID-19/blob/master/virus_model.ipynb\" target=\"_parent\"><img src=\"https://colab.research.google.com/assets/colab-badge.svg\" alt=\"Open In Colab\"/></a>"
      ]
    },
    {
      "cell_type": "markdown",
      "metadata": {
        "id": "AJX1jgLnX70s"
      },
      "source": [
        "# Epidemiology model\n",
        "\n",
        "https://nbviewer.jupyter.org/github/pyro-ppl/pyro/blob/sir-tutorial-ii/tutorial/source/epi_regional.ipynb?fbclid=IwAR3Gv8tLuiEjOmZh7-NQUa_ggm_QUqtSc5TxRZ0_pSxVA7Y3lWWzSFGKjrA \n"
      ]
    },
    {
      "cell_type": "code",
      "metadata": {
        "id": "z6UoAzRe1pMh"
      },
      "source": [
        "!git clone https://github.com/pyro-ppl/pyro.git"
      ],
      "execution_count": null,
      "outputs": []
    },
    {
      "cell_type": "code",
      "metadata": {
        "id": "ryMxWMvbD8Nc"
      },
      "source": [
        "%cd /content/pyro\n"
      ],
      "execution_count": null,
      "outputs": []
    },
    {
      "cell_type": "code",
      "metadata": {
        "id": "w8MT-jR48mLX"
      },
      "source": [
        "!pip install .[extras]"
      ],
      "execution_count": null,
      "outputs": []
    },
    {
      "cell_type": "code",
      "metadata": {
        "id": "7AUI1jmXcX4u"
      },
      "source": [
        "import os\n",
        "import logging\n",
        "import urllib.request\n",
        "from collections import OrderedDict\n",
        "\n",
        "import pandas as pd\n",
        "import numpy as np\n",
        "import matplotlib.pyplot as plt\n",
        "import seaborn as sns\n",
        "import torch\n",
        "import pyro\n",
        "import pyro.distributions as dist\n",
        "from pyro.contrib.epidemiology import CompartmentalModel, binomial_dist, infection_dist\n",
        "from pyro.ops.tensor_utils import convolve\n",
        "\n",
        "%matplotlib inline\n",
        "pyro.enable_validation(True)           \n",
        "torch.set_default_dtype(torch.double) \n"
      ],
      "execution_count": null,
      "outputs": []
    },
    {
      "cell_type": "markdown",
      "metadata": {
        "id": "hzpnb36feNgS"
      },
      "source": [
        "  ## Model without Policies\n",
        "  "
      ]
    },
    {
      "cell_type": "code",
      "metadata": {
        "id": "bsaJcjx6xVLo"
      },
      "source": [
        "class CovidModel(CompartmentalModel):\n",
        "    def __init__(self, population, new_cases, new_recovered, new_deaths):\n",
        "        '''\n",
        "        population (int) – Total population = S + E + I + R.\n",
        "        '''\n",
        "        assert len(new_cases) == len(new_recovered) == len(new_deaths)\n",
        "\n",
        "        compartments = (\"S\", \"E\", \"I\")  # R is implicit.\n",
        "        duration = len(new_cases)\n",
        "        super().__init__(compartments, duration, population)\n",
        "\n",
        "        self.new_cases = new_cases\n",
        "        self.new_deaths = new_deaths\n",
        "        self.new_recovered = new_recovered\n",
        "        \n",
        "\n",
        "    def global_model(self):\n",
        "        tau_e = pyro.sample(\"rec_time\",dist.Normal(15.0, 1))\n",
        "        tau_i = pyro.sample(\"incub_time\",dist.Normal(5.0, 1))\n",
        "        # R0 = pyro.sample(\"R0\", dist.LogNormal(0., 1.))\n",
        "        R0 = pyro.sample(\"R0\", dist.Normal(2, 0.5))\n",
        "        rho = pyro.sample(\"rho\", dist.Beta(10, 10))  # About 50% response rate.\n",
        "        mort_rate = pyro.sample(\"mort_rate\", dist.Beta(2, 100))  # About 2% mortality rate.\n",
        "        rec_rate = pyro.sample(\"rec_rate\",dist.Beta(10, 10)) # About 50% recovery rate.\n",
        "        return R0, tau_e, tau_i, rho, mort_rate, rec_rate\n",
        "\n",
        "    def initialize(self, params):\n",
        "        # Start with a single infection.\n",
        "        return {\"S\": self.population - 1, \"E\": 0, \"I\": 1}\n",
        "\n",
        "    def transition(self, params, state, t):\n",
        "        R0, tau_e, tau_i, rho, mort_rate, rec_rate = params\n",
        "\n",
        "        # Sample flows between compartments.\n",
        "        S2E = pyro.sample(\"S2E_{}\".format(t),\n",
        "                            infection_dist(individual_rate=R0 / tau_i,\n",
        "                                          num_susceptible=state[\"S\"],\n",
        "                                          num_infectious=state[\"I\"],\n",
        "                                          population=self.population))\n",
        "        E2I = pyro.sample(\"E2I_{}\".format(t),\n",
        "                            binomial_dist(state[\"E\"], 1 / tau_e )) \n",
        "        I2R = pyro.sample(\"I2R_{}\".format(t),\n",
        "                            binomial_dist(state[\"I\"], 1 / tau_i))\n",
        " \n",
        "        # Update compartments with flows.\n",
        "        state[\"S\"] = state[\"S\"] - S2E \n",
        "        state[\"E\"] = state[\"E\"] + S2E - E2I\n",
        "        state[\"I\"] = state[\"I\"] + E2I - I2R\n",
        "\n",
        "        # Condition on observations.\n",
        "        t_is_observed = isinstance(t, slice) or t < self.duration\n",
        "        pyro.sample(\"new_cases_{}\".format(t),\n",
        "                    binomial_dist(S2E, rho),\n",
        "                    obs=self.new_cases[t] if t_is_observed else None)\n",
        "        pyro.sample(\"new_deaths_{}\".format(t),\n",
        "                      binomial_dist(I2R, mort_rate),\n",
        "                      obs=self.new_deaths[t] if t_is_observed else None)\n",
        "        pyro.sample(\"new_recovered_{}\".format(t),\n",
        "                    binomial_dist(E2I, rec_rate),\n",
        "                    obs=self.new_recovered[t] if t_is_observed else None)\n"
      ],
      "execution_count": null,
      "outputs": []
    },
    {
      "cell_type": "markdown",
      "metadata": {
        "id": "kgKCZvRfMi_3"
      },
      "source": [
        "## Create Country"
      ]
    },
    {
      "cell_type": "code",
      "metadata": {
        "id": "koX5yGHrsuib"
      },
      "source": [
        "# function to make the time series of confirmed and daily confirmed cases for a specific country\n",
        "def create_country (country, start_date, end_date, state = False) : \n",
        "\n",
        "    url = 'https://raw.githubusercontent.com/assemzh/ProbProg-COVID-19/master/full_grouped.csv'\n",
        "    data = pd.read_csv(url)\n",
        "\n",
        "    data.Date = pd.to_datetime(data.Date)\n",
        "\n",
        "    if state :\n",
        "        df = data.loc[data[\"Province/State\"] == country, [\"Province/State\", \"Date\", \"Confirmed\", \"Deaths\", \"Recovered\", \"Active\", \"New cases\", \"New deaths\", \"New recovered\"]]\n",
        "    else : \n",
        "        df = data.loc[data[\"Country/Region\"] == country, [\"Country/Region\", \"Date\", \"Confirmed\", \"Deaths\", \"Recovered\", \"Active\", \"New cases\", \"New deaths\", \"New recovered\"]]\n",
        "    df.columns = [\"country\", \"date\", \"confirmed\", \"deaths\", \"recovered\", \"active\", \"new_cases\", \"new_deaths\", \"new_recovered\"]\n",
        "\n",
        "    # group by country and date\n",
        "    df = df.groupby(['country','date'])['confirmed', 'deaths', 'recovered',\"active\", \"new_cases\", \"new_deaths\", \"new_recovered\"].sum().reset_index()\n",
        "\n",
        "    # convert date string to datetime\n",
        "    df.date = pd.to_datetime(df.date)\n",
        "    df = df.sort_values(by = \"date\")\n",
        "    df = df[df.date >= start_date]\n",
        "    df = df[df.date <= end_date]\n",
        "\n",
        "    active = df['active'].tolist()\n",
        "    recovered = df['recovered'].tolist()\n",
        "    deaths = df['deaths'].tolist()\n",
        "    new_cases = df['new_cases'].tolist()\n",
        "    new_recovered = df['new_recovered'].tolist()\n",
        "    new_deaths = df['new_deaths'].tolist()\n",
        "    \n",
        "    active = torch.tensor(list(map(float, active))).view(len(active),1) \n",
        "    recovered = torch.tensor(list(map(float, recovered))).view(len(recovered),1) \n",
        "    deaths = torch.tensor(list(map(float, deaths))).view(len(deaths),1) \n",
        "    new_cases = torch.tensor(list(map(float, new_cases))).view(len(new_cases),1)  \n",
        "    new_recovered = torch.tensor(list(map(float, new_recovered))).view(len(new_recovered),1) \n",
        "    new_deaths = torch.tensor(list(map(float, new_deaths))).view(len(new_deaths),1) \n",
        "\n",
        "\n",
        "    return_data = {\n",
        "        'active':active,\n",
        "        'recovered':recovered,\n",
        "        'deaths':deaths,\n",
        "        'new_cases':new_cases,\n",
        "        'new_recovered': new_recovered,\n",
        "        'new_deaths':new_deaths }\n",
        "        \n",
        "    return return_data\n"
      ],
      "execution_count": null,
      "outputs": []
    },
    {
      "cell_type": "markdown",
      "metadata": {
        "id": "nxRxbNr8zt3O"
      },
      "source": [
        "## Get data for countries\n"
      ]
    },
    {
      "cell_type": "code",
      "metadata": {
        "id": "V4O6XUbM9Ff3",
        "outputId": "1b87a891-eecb-4fa9-d367-d2b24bc4128f",
        "colab": {
          "base_uri": "https://localhost:8080/",
          "height": 71
        }
      },
      "source": [
        "Japan = create_country(\"Japan\", start_date = \"2020-02-01\", end_date = \"2020-04-01\")\n",
        "Sweden = create_country(\"Sweden\", start_date = \"2020-02-01\", end_date = \"2020-04-01\")\n"
      ],
      "execution_count": null,
      "outputs": [
        {
          "output_type": "stream",
          "text": [
            "/usr/local/lib/python3.6/dist-packages/ipykernel_launcher.py:16: FutureWarning: Indexing with multiple keys (implicitly converted to a tuple of keys) will be deprecated, use a list instead.\n",
            "  app.launch_new_instance()\n"
          ],
          "name": "stderr"
        }
      ]
    },
    {
      "cell_type": "markdown",
      "metadata": {
        "id": "XTUPDWD9e_9o"
      },
      "source": [
        "##Train the model using MCMC.\n",
        "\n"
      ]
    },
    {
      "cell_type": "code",
      "metadata": {
        "id": "ddGahVqKezpd"
      },
      "source": [
        "Japan_model = CovidModel(126500000, Japan[\"new_cases\"], Japan[\"new_recovered\"], Japan[\"new_deaths\"] )"
      ],
      "execution_count": null,
      "outputs": []
    },
    {
      "cell_type": "code",
      "metadata": {
        "id": "bX4Jq5qmC6Ke",
        "outputId": "8812bcb0-0981-4399-ae1a-31e4f84cce5c",
        "colab": {
          "base_uri": "https://localhost:8080/",
          "height": 122
        }
      },
      "source": [
        "%%time\n",
        "pyro.set_rng_seed(20200607)\n",
        "Japan_mcmc = Japan_model.fit_mcmc(num_samples=200)"
      ],
      "execution_count": null,
      "outputs": [
        {
          "output_type": "stream",
          "text": [
            "INFO \t Running inference...\n",
            "Warmup:   0%|          | 0/400 [00:00, ?it/s]INFO \t Heuristic init: R0=1.65, incub_time=6.58, mort_rate=0.00376, rec_rate=0.438, rec_time=15.9, rho=0.221\n",
            "Sample: 100%|██████████| 400/400 [01:55,  3.47it/s, step size=2.67e-03, acc. prob=0.883]"
          ],
          "name": "stderr"
        },
        {
          "output_type": "stream",
          "text": [
            "CPU times: user 1min 53s, sys: 480 ms, total: 1min 54s\n",
            "Wall time: 1min 55s\n"
          ],
          "name": "stdout"
        },
        {
          "output_type": "stream",
          "text": [
            "\n"
          ],
          "name": "stderr"
        }
      ]
    },
    {
      "cell_type": "code",
      "metadata": {
        "id": "GBjSkRSzL0qN",
        "outputId": "456f4dec-c251-4349-dd96-0b4fea427406",
        "colab": {
          "base_uri": "https://localhost:8080/",
          "height": 1000
        }
      },
      "source": [
        "Japan_mcmc.summary()"
      ],
      "execution_count": null,
      "outputs": [
        {
          "output_type": "stream",
          "text": [
            "\n",
            "                     mean       std    median      5.0%     95.0%     n_eff     r_hat\n",
            "       rec_time     16.00      0.00     16.00     15.99     16.00      3.09      1.92\n",
            "     incub_time      6.53      0.00      6.54      6.53      6.54      7.69      1.00\n",
            "             R0      1.58      0.01      1.57      1.56      1.60      2.48      2.73\n",
            "            rho      0.29      0.01      0.29      0.28      0.30      2.58      2.46\n",
            "      mort_rate      0.02      0.00      0.02      0.02      0.02      2.50      2.79\n",
            "       rec_rate      0.14      0.01      0.14      0.13      0.14      2.57      2.51\n",
            "\n",
            "Number of divergences: 0\n"
          ],
          "name": "stdout"
        }
      ]
    },
    {
      "cell_type": "code",
      "metadata": {
        "id": "JysTB-e_BF5c"
      },
      "source": [
        "Sweden_model = CovidModel(10230000, Sweden[\"new_cases\"], Sweden[\"new_recovered\"], Sweden[\"new_deaths\"] )\n"
      ],
      "execution_count": null,
      "outputs": []
    },
    {
      "cell_type": "code",
      "metadata": {
        "id": "wE7Jen8XfB62",
        "outputId": "d6771dce-afbe-43c3-d5cb-08e7f874f91c",
        "colab": {
          "base_uri": "https://localhost:8080/",
          "height": 122
        }
      },
      "source": [
        "%%time\n",
        "pyro.set_rng_seed(20200607)\n",
        "Sweden_mcmc = Sweden_model.fit_mcmc(num_samples=10)"
      ],
      "execution_count": null,
      "outputs": [
        {
          "output_type": "stream",
          "text": [
            "INFO \t Running inference...\n",
            "Warmup:   0%|          | 0/20 [00:00, ?it/s]INFO \t Heuristic init: R0=2.4, incub_time=3.83, mort_rate=0.0132, rec_rate=0.273, rec_time=16.3, rho=0.285\n",
            "Sample: 100%|██████████| 20/20 [00:02,  8.45it/s, step size=2.57e-05, acc. prob=1.000]"
          ],
          "name": "stderr"
        },
        {
          "output_type": "stream",
          "text": [
            "CPU times: user 2.37 s, sys: 9.97 ms, total: 2.38 s\n",
            "Wall time: 2.38 s\n"
          ],
          "name": "stdout"
        },
        {
          "output_type": "stream",
          "text": [
            "\n"
          ],
          "name": "stderr"
        }
      ]
    },
    {
      "cell_type": "code",
      "metadata": {
        "id": "_7ma9aO8a7Pj",
        "outputId": "03363fee-affb-417f-d573-f505e4296860",
        "colab": {
          "base_uri": "https://localhost:8080/",
          "height": 1000
        }
      },
      "source": [
        "Sweden_mcmc.summary()"
      ],
      "execution_count": null,
      "outputs": [
        {
          "output_type": "stream",
          "text": [
            "\n",
            "                     mean       std    median      5.0%     95.0%     n_eff     r_hat\n",
            "       rec_time     16.33      0.00     16.33     16.33     16.33      2.78      2.28\n",
            "     incub_time      3.83      0.00      3.83      3.83      3.83      7.60      1.42\n",
            "             R0      2.40      0.00      2.40      2.40      2.40      7.69      1.09\n",
            "            rho      0.54      0.03      0.52      0.51      0.58      2.39      4.38\n",
            "      mort_rate      0.02      0.00      0.02      0.01      0.02      2.38      5.53\n",
            "       rec_rate      0.27      0.00      0.27      0.27      0.27      2.38      4.84\n",
            "\n",
            "Number of divergences: 0\n"
          ],
          "name": "stdout"
        }
      ]
    },
    {
      "cell_type": "code",
      "metadata": {
        "id": "HT0TFuH6tLYG"
      },
      "source": [
        ""
      ],
      "execution_count": null,
      "outputs": []
    }
  ]
}
