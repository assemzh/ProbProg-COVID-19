{
  "nbformat": 4,
  "nbformat_minor": 0,
  "metadata": {
    "colab": {
      "name": "virus-model.ipynb",
      "provenance": [],
      "collapsed_sections": [],
      "toc_visible": true,
      "include_colab_link": true
    },
    "kernelspec": {
      "display_name": "Python 3",
      "name": "python3"
    }
  },
  "cells": [
    {
      "cell_type": "markdown",
      "metadata": {
        "id": "view-in-github",
        "colab_type": "text"
      },
      "source": [
        "<a href=\"https://colab.research.google.com/github/assemzh/ProbProg-COVID-19/blob/master/virus_model.ipynb\" target=\"_parent\"><img src=\"https://colab.research.google.com/assets/colab-badge.svg\" alt=\"Open In Colab\"/></a>"
      ]
    },
    {
      "cell_type": "markdown",
      "metadata": {
        "id": "AJX1jgLnX70s"
      },
      "source": [
        "# Epidemiology model\n",
        "\n",
        "https://nbviewer.jupyter.org/github/pyro-ppl/pyro/blob/sir-tutorial-ii/tutorial/source/epi_regional.ipynb?fbclid=IwAR3Gv8tLuiEjOmZh7-NQUa_ggm_QUqtSc5TxRZ0_pSxVA7Y3lWWzSFGKjrA \n"
      ]
    },
    {
      "cell_type": "code",
      "metadata": {
        "id": "z6UoAzRe1pMh"
      },
      "source": [
        "!git clone https://github.com/pyro-ppl/pyro.git"
      ],
      "execution_count": null,
      "outputs": []
    },
    {
      "cell_type": "code",
      "metadata": {
        "id": "ryMxWMvbD8Nc"
      },
      "source": [
        "%cd /content/pyro\n"
      ],
      "execution_count": null,
      "outputs": []
    },
    {
      "cell_type": "code",
      "metadata": {
        "id": "w8MT-jR48mLX"
      },
      "source": [
        "!pip install .[extras]"
      ],
      "execution_count": null,
      "outputs": []
    },
    {
      "cell_type": "code",
      "metadata": {
        "id": "7AUI1jmXcX4u"
      },
      "source": [
        "import os\n",
        "import logging\n",
        "import urllib.request\n",
        "from collections import OrderedDict\n",
        "\n",
        "import pandas as pd\n",
        "import numpy as np\n",
        "import matplotlib.pyplot as plt\n",
        "import seaborn as sns\n",
        "import torch\n",
        "import pyro\n",
        "import pyro.distributions as dist\n",
        "from pyro.contrib.epidemiology import CompartmentalModel, binomial_dist, infection_dist\n",
        "from pyro.ops.tensor_utils import convolve\n",
        "\n",
        "%matplotlib inline\n",
        "pyro.enable_validation(True)           \n",
        "torch.set_default_dtype(torch.double) \n"
      ],
      "execution_count": null,
      "outputs": []
    },
    {
      "cell_type": "markdown",
      "metadata": {
        "id": "hzpnb36feNgS"
      },
      "source": [
        "  ## Model without Policies\n",
        "  "
      ]
    },
    {
      "cell_type": "code",
      "metadata": {
        "id": "bsaJcjx6xVLo"
      },
      "source": [
        "class CovidModel(CompartmentalModel):\n",
        "    def __init__(self, population, new_cases, new_recovered, new_deaths):\n",
        "        '''\n",
        "        population (int) – Total population = S + E + I + R.\n",
        "        '''\n",
        "        assert len(new_cases) == len(new_recovered) == len(new_deaths)\n",
        "\n",
        "        compartments = (\"S\", \"E\", \"I\")  # R is implicit.\n",
        "        duration = len(new_cases)\n",
        "        super().__init__(compartments, duration, population)\n",
        "\n",
        "        self.new_cases = new_cases\n",
        "        self.new_deaths = new_deaths\n",
        "        self.new_recovered = new_recovered\n",
        "        \n",
        "\n",
        "    def global_model(self):\n",
        "        tau_e = pyro.sample(\"rec_time\",dist.Normal(15.0, 1))\n",
        "        tau_i = pyro.sample(\"incub_time\",dist.Normal(5.0, 1))\n",
        "        # R0 = pyro.sample(\"R0\", dist.LogNormal(0., 1.))\n",
        "        R0 = pyro.sample(\"R0\", dist.Normal(2, 0.5))\n",
        "        rho = pyro.sample(\"rho\", dist.Beta(10, 10))  # About 50% response rate.\n",
        "        mort_rate = pyro.sample(\"mort_rate\", dist.Beta(2, 100))  # About 2% mortality rate.\n",
        "        rec_rate = pyro.sample(\"rec_rate\",dist.Beta(10, 10)) # About 50% recovery rate.\n",
        "        return R0, tau_e, tau_i, rho, mort_rate, rec_rate\n",
        "\n",
        "    def initialize(self, params):\n",
        "        # Start with a single infection.\n",
        "        return {\"S\": self.population - 1, \"E\": 0, \"I\": 1}\n",
        "\n",
        "    def transition(self, params, state, t):\n",
        "        R0, tau_e, tau_i, rho, mort_rate, rec_rate = params\n",
        "\n",
        "        # Sample flows between compartments.\n",
        "        S2E = pyro.sample(\"S2E_{}\".format(t),\n",
        "                            infection_dist(individual_rate=R0 / tau_i,\n",
        "                                          num_susceptible=state[\"S\"],\n",
        "                                          num_infectious=state[\"I\"],\n",
        "                                          population=self.population))\n",
        "        E2I = pyro.sample(\"E2I_{}\".format(t),\n",
        "                            binomial_dist(state[\"E\"], 1 / tau_e )) \n",
        "        I2R = pyro.sample(\"I2R_{}\".format(t),\n",
        "                            binomial_dist(state[\"I\"], 1 / tau_i))\n",
        " \n",
        "        # Update compartments with flows.\n",
        "        state[\"S\"] = state[\"S\"] - S2E \n",
        "        state[\"E\"] = state[\"E\"] + S2E - E2I\n",
        "        state[\"I\"] = state[\"I\"] + E2I - I2R\n",
        "\n",
        "        # Condition on observations.\n",
        "        t_is_observed = isinstance(t, slice) or t < self.duration\n",
        "        pyro.sample(\"new_cases_{}\".format(t),\n",
        "                    binomial_dist(S2E, rho),\n",
        "                    obs=self.new_cases[t] if t_is_observed else None)\n",
        "        pyro.sample(\"new_deaths_{}\".format(t),\n",
        "                      binomial_dist(I2R, mort_rate),\n",
        "                      obs=self.new_deaths[t] if t_is_observed else None)\n",
        "        pyro.sample(\"new_recovered_{}\".format(t),\n",
        "                    binomial_dist(E2I, rec_rate),\n",
        "                    obs=self.new_recovered[t] if t_is_observed else None)\n"
      ],
      "execution_count": null,
      "outputs": []
    },
    {
      "cell_type": "markdown",
      "metadata": {
        "id": "kgKCZvRfMi_3"
      },
      "source": [
        "## Create Country"
      ]
    },
    {
      "cell_type": "code",
      "metadata": {
        "id": "koX5yGHrsuib"
      },
      "source": [
        "# function to make the time series of confirmed and daily confirmed cases for a specific country\n",
        "def create_country (country, start_date, end_date, state = False) : \n",
        "\n",
        "    url = 'https://raw.githubusercontent.com/assemzh/ProbProg-COVID-19/master/full_grouped.csv'\n",
        "    data = pd.read_csv(url)\n",
        "\n",
        "    data.Date = pd.to_datetime(data.Date)\n",
        "\n",
        "    if state :\n",
        "        df = data.loc[data[\"Province/State\"] == country, [\"Province/State\", \"Date\", \"Confirmed\", \"Deaths\", \"Recovered\", \"Active\", \"New cases\", \"New deaths\", \"New recovered\"]]\n",
        "    else : \n",
        "        df = data.loc[data[\"Country/Region\"] == country, [\"Country/Region\", \"Date\", \"Confirmed\", \"Deaths\", \"Recovered\", \"Active\", \"New cases\", \"New deaths\", \"New recovered\"]]\n",
        "    df.columns = [\"country\", \"date\", \"confirmed\", \"deaths\", \"recovered\", \"active\", \"new_cases\", \"new_deaths\", \"new_recovered\"]\n",
        "\n",
        "    # group by country and date\n",
        "    df = df.groupby(['country','date'])['confirmed', 'deaths', 'recovered',\"active\", \"new_cases\", \"new_deaths\", \"new_recovered\"].sum().reset_index()\n",
        "\n",
        "    # convert date string to datetime\n",
        "    df.date = pd.to_datetime(df.date)\n",
        "    df = df.sort_values(by = \"date\")\n",
        "    df = df[df.date >= start_date]\n",
        "    df = df[df.date <= end_date]\n",
        "\n",
        "    active = df['active'].tolist()\n",
        "    recovered = df['recovered'].tolist()\n",
        "    deaths = df['deaths'].tolist()\n",
        "    new_cases = df['new_cases'].tolist()\n",
        "    new_recovered = df['new_recovered'].tolist()\n",
        "    new_deaths = df['new_deaths'].tolist()\n",
        "    \n",
        "    active = torch.tensor(list(map(float, active))).view(len(active),1) \n",
        "    recovered = torch.tensor(list(map(float, recovered))).view(len(recovered),1) \n",
        "    deaths = torch.tensor(list(map(float, deaths))).view(len(deaths),1) \n",
        "    new_cases = torch.tensor(list(map(float, new_cases))).view(len(new_cases),1)  \n",
        "    new_recovered = torch.tensor(list(map(float, new_recovered))).view(len(new_recovered),1) \n",
        "    new_deaths = torch.tensor(list(map(float, new_deaths))).view(len(new_deaths),1) \n",
        "\n",
        "\n",
        "    return_data = {\n",
        "        'active':active,\n",
        "        'recovered':recovered,\n",
        "        'deaths':deaths,\n",
        "        'new_cases':new_cases,\n",
        "        'new_recovered': new_recovered,\n",
        "        'new_deaths':new_deaths }\n",
        "        \n",
        "    return return_data\n"
      ],
      "execution_count": null,
      "outputs": []
    },
    {
      "cell_type": "markdown",
      "metadata": {
        "id": "nxRxbNr8zt3O"
      },
      "source": [
        "## Get data for countries\n"
      ]
    },
    {
      "cell_type": "code",
      "metadata": {
        "id": "V4O6XUbM9Ff3",
        "outputId": "1b87a891-eecb-4fa9-d367-d2b24bc4128f",
        "colab": {
          "base_uri": "https://localhost:8080/",
          "height": 71
        }
      },
      "source": [
        "Japan = create_country(\"Japan\", start_date = \"2020-02-01\", end_date = \"2020-04-01\")\n",
        "Sweden = create_country(\"Sweden\", start_date = \"2020-02-01\", end_date = \"2020-04-01\")\n"
      ],
      "execution_count": null,
      "outputs": [
        {
          "output_type": "stream",
          "text": [
            "/usr/local/lib/python3.6/dist-packages/ipykernel_launcher.py:16: FutureWarning: Indexing with multiple keys (implicitly converted to a tuple of keys) will be deprecated, use a list instead.\n",
            "  app.launch_new_instance()\n"
          ],
          "name": "stderr"
        }
      ]
    },
    {
      "cell_type": "markdown",
      "metadata": {
        "id": "XTUPDWD9e_9o"
      },
      "source": [
        "##Train the model using MCMC.\n",
        "\n"
      ]
    },
    {
      "cell_type": "code",
      "metadata": {
        "id": "ddGahVqKezpd"
      },
      "source": [
        "Japan_model = CovidModel(126500000, Japan[\"new_cases\"], Japan[\"new_recovered\"], Japan[\"new_deaths\"] )"
      ],
      "execution_count": null,
      "outputs": []
    },
    {
      "cell_type": "code",
      "metadata": {
        "id": "bX4Jq5qmC6Ke",
        "outputId": "8812bcb0-0981-4399-ae1a-31e4f84cce5c",
        "colab": {
          "base_uri": "https://localhost:8080/",
          "height": 122
        }
      },
      "source": [
        "%%time\n",
        "pyro.set_rng_seed(20200607)\n",
        "Japan_mcmc = Japan_model.fit_mcmc(num_samples=200)"
      ],
      "execution_count": null,
      "outputs": [
        {
          "output_type": "stream",
          "text": [
            "INFO \t Running inference...\n",
            "Warmup:   0%|          | 0/400 [00:00, ?it/s]INFO \t Heuristic init: R0=1.65, incub_time=6.58, mort_rate=0.00376, rec_rate=0.438, rec_time=15.9, rho=0.221\n",
            "Sample: 100%|██████████| 400/400 [01:55,  3.47it/s, step size=2.67e-03, acc. prob=0.883]"
          ],
          "name": "stderr"
        },
        {
          "output_type": "stream",
          "text": [
            "CPU times: user 1min 53s, sys: 480 ms, total: 1min 54s\n",
            "Wall time: 1min 55s\n"
          ],
          "name": "stdout"
        },
        {
          "output_type": "stream",
          "text": [
            "\n"
          ],
          "name": "stderr"
        }
      ]
    },
    {
      "cell_type": "code",
      "metadata": {
        "id": "GBjSkRSzL0qN",
        "outputId": "456f4dec-c251-4349-dd96-0b4fea427406",
        "colab": {
          "base_uri": "https://localhost:8080/",
          "height": 1000
        }
      },
      "source": [
        "Japan_mcmc.summary()"
      ],
      "execution_count": null,
      "outputs": [
        {
          "output_type": "stream",
          "text": [
            "\n",
            "                     mean       std    median      5.0%     95.0%     n_eff     r_hat\n",
            "       rec_time     16.00      0.00     16.00     15.99     16.00      3.09      1.92\n",
            "     incub_time      6.53      0.00      6.54      6.53      6.54      7.69      1.00\n",
            "             R0      1.58      0.01      1.57      1.56      1.60      2.48      2.73\n",
            "            rho      0.29      0.01      0.29      0.28      0.30      2.58      2.46\n",
            "      mort_rate      0.02      0.00      0.02      0.02      0.02      2.50      2.79\n",
            "       rec_rate      0.14      0.01      0.14      0.13      0.14      2.57      2.51\n",
            " auxiliary[0,0] 126499873.24      0.23 126499873.22 126499872.92 126499873.62      4.46      1.92\n",
            " auxiliary[0,1] 126499752.25      2.52 126499752.33 126499748.26 126499755.76      2.66      2.31\n",
            " auxiliary[0,2] 126499621.61      4.41 126499621.85 126499615.44 126499629.38      2.72      2.35\n",
            " auxiliary[0,3] 126499480.58      8.38 126499480.29 126499469.96 126499494.98      2.58      2.56\n",
            " auxiliary[0,4] 126499332.09     12.52 126499333.12 126499312.02 126499350.15      2.62      2.44\n",
            " auxiliary[0,5] 126499181.24     16.77 126499179.52 126499155.34 126499207.26      2.62      2.37\n",
            " auxiliary[0,6] 126499026.55     21.03 126499024.07 126498997.57 126499061.32      2.61      2.39\n",
            " auxiliary[0,7] 126498869.79     24.72 126498865.46 126498835.45 126498908.90      2.62      2.39\n",
            " auxiliary[0,8] 126498710.93     28.09 126498706.95 126498670.85 126498753.11      2.64      2.35\n",
            " auxiliary[0,9] 126498548.97     32.45 126498545.89 126498506.38 126498600.51      2.59      2.44\n",
            "auxiliary[0,10] 126498385.88     36.74 126498381.29 126498336.46 126498443.84      2.61      2.40\n",
            "auxiliary[0,11] 126498221.47     41.79 126498215.75 126498165.46 126498285.93      2.61      2.41\n",
            "auxiliary[0,12] 126498056.85     47.11 126498049.81 126497994.25 126498131.69      2.62      2.38\n",
            "auxiliary[0,13] 126497891.20     52.42 126497882.99 126497819.35 126497974.69      2.62      2.37\n",
            "auxiliary[0,14] 126497723.41     58.05 126497713.76 126497643.58 126497816.36      2.63      2.37\n",
            "auxiliary[0,15] 126497555.42     63.55 126497542.73 126497467.53 126497655.05      2.64      2.32\n",
            "auxiliary[0,16] 126497386.12     69.45 126497370.80 126497287.31 126497494.66      2.65      2.32\n",
            "auxiliary[0,17] 126497215.18     75.14 126497199.25 126497108.45 126497331.57      2.65      2.32\n",
            "auxiliary[0,18] 126497044.09     81.03 126497027.08 126496929.34 126497171.30      2.64      2.33\n",
            "auxiliary[0,19] 126496873.35     86.09 126496857.13 126496751.04 126497006.60      2.63      2.35\n",
            "auxiliary[0,20] 126496703.01     91.38 126496685.80 126496565.89 126496841.06      2.64      2.34\n",
            "auxiliary[0,21] 126496532.29     96.81 126496512.53 126496384.95 126496677.53      2.66      2.33\n",
            "auxiliary[0,22] 126496360.31    103.32 126496340.10 126496204.54 126496517.10      2.65      2.33\n",
            "auxiliary[0,23] 126496187.44    109.30 126496163.97 126496025.45 126496355.87      2.65      2.34\n",
            "auxiliary[0,24] 126496012.94    115.39 126495989.40 126495842.53 126496188.74      2.65      2.33\n",
            "auxiliary[0,25] 126495838.54    121.42 126495812.79 126495658.59 126496023.06      2.65      2.34\n",
            "auxiliary[0,26] 126495664.58    127.40 126495640.49 126495473.10 126495856.66      2.67      2.32\n",
            "auxiliary[0,27] 126495490.57    133.52 126495466.31 126495286.24 126495687.20      2.66      2.32\n",
            "auxiliary[0,28] 126495315.69    139.76 126495289.02 126495104.78 126495522.32      2.66      2.32\n",
            "auxiliary[0,29] 126495140.29    145.43 126495113.27 126494918.38 126495354.65      2.66      2.33\n",
            "auxiliary[0,30] 126494963.24    152.13 126494937.24 126494733.18 126495190.93      2.66      2.33\n",
            "auxiliary[0,31] 126494786.37    158.49 126494759.47 126494546.22 126495022.05      2.65      2.33\n",
            "auxiliary[0,32] 126494609.09    164.54 126494583.00 126494359.47 126494854.25      2.65      2.33\n",
            "auxiliary[0,33] 126494429.10    171.91 126494401.17 126494166.22 126494682.26      2.65      2.34\n",
            "auxiliary[0,34] 126494249.81    178.05 126494221.89 126493979.92 126494512.51      2.64      2.35\n",
            "auxiliary[0,35] 126494069.34    184.15 126494037.48 126493790.58 126494340.03      2.64      2.35\n",
            "auxiliary[0,36] 126493887.99    189.77 126493853.61 126493601.19 126494169.27      2.64      2.35\n",
            "auxiliary[0,37] 126493704.82    195.67 126493670.00 126493406.94 126493993.57      2.65      2.35\n",
            "auxiliary[0,38] 126493520.87    201.71 126493486.64 126493211.08 126493814.65      2.64      2.36\n",
            "auxiliary[0,39] 126493336.70    207.67 126493301.87 126493016.39 126493637.77      2.64      2.37\n",
            "auxiliary[0,40] 126493151.08    213.16 126493115.53 126492833.59 126493470.48      2.64      2.36\n",
            "auxiliary[0,41] 126492964.06    218.87 126492924.49 126492636.98 126493291.02      2.63      2.38\n",
            "auxiliary[0,42] 126492776.76    224.75 126492737.18 126492431.36 126493098.43      2.63      2.38\n",
            "auxiliary[0,43] 126492588.69    230.26 126492548.17 126492234.09 126492915.64      2.63      2.38\n",
            "auxiliary[0,44] 126492398.56    236.25 126492360.19 126492036.84 126492734.99      2.62      2.39\n",
            "auxiliary[0,45] 126492208.07    242.08 126492164.27 126491839.07 126492560.53      2.62      2.39\n",
            "auxiliary[0,46] 126492017.84    248.28 126491972.35 126491641.92 126492375.08      2.62      2.40\n",
            "auxiliary[0,47] 126491826.24    252.75 126491781.52 126491437.98 126492185.70      2.62      2.39\n",
            "auxiliary[0,48] 126491633.49    257.58 126491593.64 126491237.69 126492000.29      2.63      2.39\n",
            "auxiliary[0,49] 126491439.01    262.80 126491399.43 126491035.94 126491810.46      2.62      2.40\n",
            "auxiliary[0,50] 126491242.72    268.01 126491199.78 126490832.40 126491617.42      2.62      2.40\n",
            "auxiliary[0,51] 126491046.11    272.96 126491001.61 126490627.11 126491432.10      2.62      2.40\n",
            "auxiliary[0,52] 126490848.94    278.70 126490803.93 126490416.64 126491243.23      2.62      2.39\n",
            "auxiliary[0,53] 126490651.01    284.69 126490607.26 126490209.91 126491054.69      2.62      2.40\n",
            "auxiliary[0,54] 126490452.21    290.70 126490409.00 126490007.54 126490877.42      2.62      2.40\n",
            "auxiliary[0,55] 126490252.22    296.70 126490208.95 126489798.84 126490687.28      2.62      2.40\n",
            "auxiliary[0,56] 126490050.19    302.26 126490002.06 126489581.10 126490483.47      2.62      2.41\n",
            "auxiliary[0,57] 126489847.15    307.09 126489799.73 126489381.76 126490295.66      2.61      2.41\n",
            "auxiliary[0,58] 126489642.88    312.18 126489597.09 126489171.38 126490097.85      2.61      2.41\n",
            "auxiliary[0,59] 126489437.17    318.06 126489390.14 126488957.75 126489899.12      2.61      2.42\n",
            "auxiliary[0,60] 126489230.36    323.48 126489186.17 126488740.43 126489702.58      2.61      2.42\n",
            " auxiliary[1,0]    109.84      0.23    109.84    109.50    110.22      9.10      1.04\n",
            " auxiliary[1,1]    206.04      1.76    206.00    203.51    208.94      2.64      2.38\n",
            " auxiliary[1,2]    285.43      1.97    284.78    282.54    288.68      2.73      2.32\n",
            " auxiliary[1,3]    366.27      4.55    365.13    359.71    373.01      2.55      2.53\n",
            " auxiliary[1,4]    439.88      6.50    437.51    432.58    451.28      2.76      2.20\n",
            " auxiliary[1,5]    510.22      7.56    511.06    497.62    520.58      2.69      2.27\n",
            " auxiliary[1,6]    582.37      8.26    584.38    569.95    595.76      2.64      2.38\n",
            " auxiliary[1,7]    650.43      7.82    652.10    639.16    662.33      2.74      2.29\n",
            " auxiliary[1,8]    716.04      6.18    716.12    706.39    726.12      3.15      1.87\n",
            " auxiliary[1,9]    778.52      5.75    777.28    771.32    789.24      3.01      1.95\n",
            "auxiliary[1,10]    839.49      4.15    838.21    834.98    847.55      3.05      1.96\n",
            "auxiliary[1,11]    903.13      4.15    902.23    898.42    910.83      2.84      2.23\n",
            "auxiliary[1,12]    957.99      4.52    955.89    953.40    966.92      3.30      1.75\n",
            "auxiliary[1,13]   1016.31      4.81   1014.75   1010.72   1024.31      3.36      1.66\n",
            "auxiliary[1,14]   1074.39      4.81   1072.90   1069.13   1083.11      3.40      1.75\n",
            "auxiliary[1,15]   1126.29      4.04   1125.60   1121.10   1134.06      4.13      1.61\n",
            "auxiliary[1,16]   1181.07      5.42   1181.34   1172.61   1188.74      4.54      1.48\n",
            "auxiliary[1,17]   1236.82      4.98   1238.64   1228.75   1243.62      3.48      1.58\n",
            "auxiliary[1,18]   1289.29      5.05   1290.73   1279.81   1296.03      3.19      1.69\n",
            "auxiliary[1,19]   1339.53      2.92   1339.30   1335.07   1343.99      3.36      2.04\n",
            "auxiliary[1,20]   1386.12      2.13   1386.12   1382.83   1389.44     13.25      1.34\n",
            "auxiliary[1,21]   1430.81      2.78   1430.99   1425.32   1434.17      7.98      1.16\n",
            "auxiliary[1,22]   1478.71      1.71   1478.28   1476.25   1481.59      9.96      1.07\n",
            "auxiliary[1,23]   1524.03      2.06   1523.68   1521.06   1527.39     11.28      1.06\n",
            "auxiliary[1,24]   1570.89      2.74   1571.63   1565.65   1573.89      9.84      1.01\n",
            "auxiliary[1,25]   1617.69      2.78   1617.17   1613.88   1622.44      7.54      1.08\n",
            "auxiliary[1,26]   1661.94      2.51   1661.94   1658.39   1666.63      6.73      1.11\n",
            "auxiliary[1,27]   1706.73      1.74   1706.42   1704.47   1709.73      6.22      1.51\n",
            "auxiliary[1,28]   1750.75      2.71   1751.14   1746.62   1754.51      6.43      1.34\n",
            "auxiliary[1,29]   1793.63      3.04   1794.09   1789.29   1797.88      3.66      1.53\n",
            "auxiliary[1,30]   1843.31      1.74   1843.15   1840.69   1846.15     14.61      1.03\n",
            "auxiliary[1,31]   1888.38      2.50   1888.46   1884.80   1892.55      5.35      1.60\n",
            "auxiliary[1,32]   1932.08      1.55   1932.04   1929.60   1934.29     19.02      1.03\n",
            "auxiliary[1,33]   1983.17      5.13   1984.02   1975.60   1990.02      2.64      2.37\n",
            "auxiliary[1,34]   2028.96      5.78   2029.99   2018.45   2035.78      2.83      2.28\n",
            "auxiliary[1,35]   2075.65      5.69   2077.46   2067.08   2084.05      2.67      2.34\n",
            "auxiliary[1,36]   2126.69      5.12   2128.64   2118.90   2134.33      3.62      1.48\n",
            "auxiliary[1,37]   2178.61      4.35   2179.14   2170.95   2184.53      5.14      1.37\n",
            "auxiliary[1,38]   2231.08      4.49   2230.09   2225.46   2240.23      6.07      1.35\n",
            "auxiliary[1,39]   2285.00      4.86   2284.23   2278.84   2294.33      4.37      1.72\n",
            "auxiliary[1,40]   2339.78      3.75   2339.49   2333.67   2346.79      4.88      1.43\n",
            "auxiliary[1,41]   2398.35      4.47   2399.08   2391.36   2405.91      4.36      1.91\n",
            "auxiliary[1,42]   2456.64      4.75   2456.19   2449.63   2463.69      2.79      2.47\n",
            "auxiliary[1,43]   2519.92      4.80   2518.97   2514.33   2529.26      3.44      1.77\n",
            "auxiliary[1,44]   2585.70      5.41   2586.46   2576.77   2593.53      2.99      2.28\n",
            "auxiliary[1,45]   2648.10      5.22   2648.54   2640.93   2657.64      3.34      1.91\n",
            "auxiliary[1,46]   2710.71      6.28   2712.30   2700.71   2718.72      2.78      2.56\n",
            "auxiliary[1,47]   2772.61      4.09   2771.68   2767.90   2781.87      4.56      1.59\n",
            "auxiliary[1,48]   2837.64      3.61   2836.75   2831.52   2843.04      7.74      1.10\n",
            "auxiliary[1,49]   2903.26      2.79   2903.59   2898.96   2907.46     11.63      1.00\n",
            "auxiliary[1,50]   2973.65      3.17   2973.55   2967.63   2978.01     15.59      1.06\n",
            "auxiliary[1,51]   3042.59      3.20   3042.14   3037.33   3047.66      9.49      1.01\n",
            "auxiliary[1,52]   3112.41      4.62   3112.88   3104.56   3118.89      5.78      1.02\n",
            "auxiliary[1,53]   3180.28      5.49   3179.14   3172.47   3189.81      6.98      1.06\n",
            "auxiliary[1,54]   3251.22      8.12   3248.96   3239.67   3264.77      5.48      1.25\n",
            "auxiliary[1,55]   3323.01     10.43   3319.01   3311.97   3346.10      4.47      1.32\n",
            "auxiliary[1,56]   3400.08     11.69   3396.49   3387.01   3425.25      4.04      1.56\n",
            "auxiliary[1,57]   3478.98     11.41   3476.78   3463.38   3502.89      4.25      1.59\n",
            "auxiliary[1,58]   3562.11     12.13   3559.80   3545.39   3586.55      4.55      1.57\n",
            "auxiliary[1,59]   3648.60     13.25   3646.94   3632.92   3675.68      3.59      1.74\n",
            "auxiliary[1,60]   3739.00     14.76   3736.08   3720.31   3768.01      3.37      1.84\n",
            " auxiliary[2,0]      0.58      0.00      0.59      0.58      0.59      5.58      1.33\n",
            " auxiliary[2,1]     11.39      0.32     11.36     10.89     11.85      2.60      2.39\n",
            " auxiliary[2,2]     16.65      0.10     16.63     16.51     16.80      2.59      2.48\n",
            " auxiliary[2,3]     30.33      0.19     30.27     30.09     30.64      2.68      2.29\n",
            " auxiliary[2,4]     53.60      0.27     53.71     53.10     53.89      3.23      1.77\n",
            " auxiliary[2,5]     59.54      0.07     59.55     59.43     59.64     11.82      1.01\n",
            " auxiliary[2,6]     67.13      0.21     67.13     66.75     67.40      5.68      1.01\n",
            " auxiliary[2,7]     83.85      0.16     83.87     83.61     84.15      3.92      1.72\n",
            " auxiliary[2,8]    100.33      0.17    100.35    100.09    100.64      7.97      1.01\n",
            " auxiliary[2,9]    125.85      0.97    125.63    124.73    127.81      2.88      2.16\n",
            "auxiliary[2,10]    144.05      0.71    143.80    143.11    145.41      4.32      1.36\n",
            "auxiliary[2,11]    147.76      0.24    147.81    147.31    148.10      8.17      1.08\n",
            "auxiliary[2,12]    174.41      0.73    174.61    173.42    175.27      2.41      3.79\n",
            "auxiliary[2,13]    181.64      0.52    181.59    180.85    182.37      2.82      2.59\n",
            "auxiliary[2,14]    198.45      0.92    198.21    197.23    199.64      2.43      3.21\n",
            "auxiliary[2,15]    228.37      0.54    228.28    227.67    229.36      3.61      1.96\n",
            "auxiliary[2,16]    246.81      0.93    246.64    245.48    248.39      3.09      1.83\n",
            "auxiliary[2,17]    265.05      1.14    264.67    263.67    267.34      4.24      1.24\n",
            "auxiliary[2,18]    288.81      0.57    288.83    287.90    289.65      6.38      1.00\n",
            "auxiliary[2,19]    305.60      0.46    305.56    304.99    306.39      4.48      1.45\n",
            "auxiliary[2,20]    323.63      0.73    323.77    321.89    324.45      9.05      1.01\n",
            "auxiliary[2,21]    344.47      0.84    344.42    342.99    345.73      4.76      1.09\n",
            "auxiliary[2,22]    358.55      1.54    358.29    356.20    360.85      3.08      2.16\n",
            "auxiliary[2,23]    386.05      1.59    385.32    384.38    388.84      3.97      1.34\n",
            "auxiliary[2,24]    415.54      1.92    414.79    413.27    418.35      2.54      2.51\n",
            "auxiliary[2,25]    434.91      0.65    434.85    433.89    435.74     11.90      1.09\n",
            "auxiliary[2,26]    451.14      0.82    451.18    449.89    452.47      4.57      1.31\n",
            "auxiliary[2,27]    458.35      1.94    457.90    455.75    461.22      2.54      2.95\n",
            "auxiliary[2,28]    474.28      1.52    474.01    472.60    477.24      3.15      1.96\n",
            "auxiliary[2,29]    496.13      1.20    496.46    494.52    497.85      3.21      1.82\n",
            "auxiliary[2,30]    504.60      0.76    504.56    503.50    505.81      8.48      1.01\n",
            "auxiliary[2,31]    525.13      1.65    524.44    523.28    528.11      3.25      1.72\n",
            "auxiliary[2,32]    544.65      2.34    544.19    541.62    547.75      2.41      3.57\n",
            "auxiliary[2,33]    562.04      0.80    562.15    560.66    563.26      6.00      1.36\n",
            "auxiliary[2,34]    588.73      1.22    588.42    586.76    590.62      6.71      1.14\n",
            "auxiliary[2,35]    617.56      2.18    618.31    614.38    620.35      2.79      2.09\n",
            "auxiliary[2,36]    626.86      1.29    626.87    624.88    628.74      4.91      1.19\n",
            "auxiliary[2,37]    646.94      1.08    647.20    645.13    648.39      3.51      1.71\n",
            "auxiliary[2,38]    668.02      2.46    667.68    664.58    671.67      3.43      1.86\n",
            "auxiliary[2,39]    681.85      1.10    681.99    680.22    683.39      7.71      1.08\n",
            "auxiliary[2,40]    700.33      0.88    700.41    698.79    701.58      4.09      1.78\n",
            "auxiliary[2,41]    716.46      3.49    715.65    712.07    721.70      2.98      1.93\n",
            "auxiliary[2,42]    728.51      2.50    727.82    725.16    732.43      2.80      2.24\n",
            "auxiliary[2,43]    722.31      1.29    722.31    720.10    724.23      9.84      1.29\n",
            "auxiliary[2,44]    728.10      1.44    728.12    725.88    730.16      5.63      1.01\n",
            "auxiliary[2,45]    749.37      1.66    749.59    746.69    751.53      3.11      2.19\n",
            "auxiliary[2,46]    757.03      1.36    756.83    754.90    759.19      5.63      1.08\n",
            "auxiliary[2,47]    784.48      1.50    784.48    781.94    786.65      8.38      1.31\n",
            "auxiliary[2,48]    802.16      3.17    802.38    798.16    807.10      2.45      3.03\n",
            "auxiliary[2,49]    833.03      2.28    832.27    830.00    836.73      2.80      2.38\n",
            "auxiliary[2,50]    860.45      1.82    861.01    857.33    862.66      4.29      1.42\n",
            "auxiliary[2,51]    890.81      3.96    890.64    885.00    896.86      2.77      2.19\n",
            "auxiliary[2,52]    911.08      1.42    910.72    909.16    913.34      9.14      1.00\n",
            "auxiliary[2,53]    948.58      1.73    948.48    946.35    951.75      4.69      1.93\n",
            "auxiliary[2,54]    974.03      2.21    973.53    971.14    977.86      3.14      1.99\n",
            "auxiliary[2,55]   1005.05      1.99   1005.44   1001.74   1007.58      4.08      1.58\n",
            "auxiliary[2,56]   1026.13      2.59   1027.39   1021.86   1029.01      3.16      1.61\n",
            "auxiliary[2,57]   1043.33      2.07   1043.26   1039.38   1045.85      8.77      1.21\n",
            "auxiliary[2,58]   1046.96      1.98   1047.01   1043.66   1049.75      5.20      1.65\n",
            "auxiliary[2,59]   1039.48      4.41   1038.29   1033.53   1046.29      2.81      2.45\n",
            "auxiliary[2,60]   1014.95      4.82   1014.27   1006.97   1021.67      2.73      2.34\n",
            "\n",
            "Number of divergences: 0\n"
          ],
          "name": "stdout"
        }
      ]
    },
    {
      "cell_type": "code",
      "metadata": {
        "id": "JysTB-e_BF5c"
      },
      "source": [
        "Sweden_model = CovidModel(10230000, Sweden[\"new_cases\"], Sweden[\"new_recovered\"], Sweden[\"new_deaths\"] )\n"
      ],
      "execution_count": null,
      "outputs": []
    },
    {
      "cell_type": "code",
      "metadata": {
        "id": "wE7Jen8XfB62",
        "outputId": "d6771dce-afbe-43c3-d5cb-08e7f874f91c",
        "colab": {
          "base_uri": "https://localhost:8080/",
          "height": 122
        }
      },
      "source": [
        "%%time\n",
        "pyro.set_rng_seed(20200607)\n",
        "Sweden_mcmc = Sweden_model.fit_mcmc(num_samples=10)"
      ],
      "execution_count": null,
      "outputs": [
        {
          "output_type": "stream",
          "text": [
            "INFO \t Running inference...\n",
            "Warmup:   0%|          | 0/20 [00:00, ?it/s]INFO \t Heuristic init: R0=2.4, incub_time=3.83, mort_rate=0.0132, rec_rate=0.273, rec_time=16.3, rho=0.285\n",
            "Sample: 100%|██████████| 20/20 [00:02,  8.45it/s, step size=2.57e-05, acc. prob=1.000]"
          ],
          "name": "stderr"
        },
        {
          "output_type": "stream",
          "text": [
            "CPU times: user 2.37 s, sys: 9.97 ms, total: 2.38 s\n",
            "Wall time: 2.38 s\n"
          ],
          "name": "stdout"
        },
        {
          "output_type": "stream",
          "text": [
            "\n"
          ],
          "name": "stderr"
        }
      ]
    },
    {
      "cell_type": "code",
      "metadata": {
        "id": "_7ma9aO8a7Pj",
        "outputId": "03363fee-affb-417f-d573-f505e4296860",
        "colab": {
          "base_uri": "https://localhost:8080/",
          "height": 1000
        }
      },
      "source": [
        "Sweden_mcmc.summary()"
      ],
      "execution_count": null,
      "outputs": [
        {
          "output_type": "stream",
          "text": [
            "\n",
            "                     mean       std    median      5.0%     95.0%     n_eff     r_hat\n",
            "       rec_time     16.33      0.00     16.33     16.33     16.33      2.78      2.28\n",
            "     incub_time      3.83      0.00      3.83      3.83      3.83      7.60      1.42\n",
            "             R0      2.40      0.00      2.40      2.40      2.40      7.69      1.09\n",
            "            rho      0.54      0.03      0.52      0.51      0.58      2.39      4.38\n",
            "      mort_rate      0.02      0.00      0.02      0.01      0.02      2.38      5.53\n",
            "       rec_rate      0.27      0.00      0.27      0.27      0.27      2.38      4.84\n",
            " auxiliary[0,0] 10229993.53      0.08 10229993.47 10229993.46 10229993.63      2.38      5.20\n",
            " auxiliary[0,1] 10229987.23      0.04 10229987.22 10229987.17 10229987.27      2.40      4.82\n",
            " auxiliary[0,2] 10229981.08      0.08 10229981.06 10229980.98 10229981.16      2.42      4.87\n",
            " auxiliary[0,3] 10229974.99      0.05 10229974.99 10229974.92 10229975.08      4.53      0.94\n",
            " auxiliary[0,4] 10229968.77      0.30 10229968.56 10229968.48 10229969.25      3.92      2.28\n",
            " auxiliary[0,5] 10229962.56      1.13 10229961.61 10229961.49 10229964.31      2.43      3.65\n",
            " auxiliary[0,6] 10229955.55      1.75 10229954.05 10229953.86 10229957.86      2.39      4.19\n",
            " auxiliary[0,7] 10229947.52      2.26 10229945.54 10229945.34 10229950.41      2.39      4.92\n",
            " auxiliary[0,8] 10229938.09      2.34 10229935.94 10229935.88 10229940.76      2.42      6.84\n",
            " auxiliary[0,9] 10229927.11      2.00 10229925.69 10229925.19 10229930.16      2.56      2.53\n",
            "auxiliary[0,10] 10229914.26      2.17 10229912.43 10229911.86 10229916.33      2.63     18.45\n",
            "auxiliary[0,11] 10229900.46      7.73 10229900.15 10229888.48 10229907.16      2.46      2.95\n",
            "auxiliary[0,12] 10229891.22      7.91 10229890.51 10229880.65 10229898.22      2.42      3.37\n",
            "auxiliary[0,13] 10229948.86      1.87 10229947.23 10229947.07 10229951.33      2.39      4.28\n",
            "auxiliary[0,14] 10229939.42      1.73 10229937.91 10229937.73 10229941.55      2.38      5.42\n",
            "auxiliary[0,15] 10229928.26      1.10 10229927.31 10229927.12 10229929.44      2.40      8.33\n",
            "auxiliary[0,16] 10229916.86      0.92 10229916.09 10229915.93 10229918.06      2.38      5.04\n",
            "auxiliary[0,17] 10229904.50      0.62 10229903.97 10229903.86 10229905.21      2.38      6.14\n",
            "auxiliary[0,18] 10229891.95      0.43 10229891.60 10229891.52 10229892.52      2.38      4.85\n",
            "auxiliary[0,19] 10229878.76      0.12 10229878.67 10229878.65 10229878.95      3.67      2.44\n",
            "auxiliary[0,20] 10229865.30      0.12 10229865.27 10229865.13 10229865.44      3.29      3.15\n",
            "auxiliary[0,21] 10229852.40      0.27 10229852.36 10229852.02 10229852.65      2.46      3.59\n",
            "auxiliary[0,22] 10229838.46      0.65 10229838.54 10229837.15 10229839.02      2.73      2.15\n",
            "auxiliary[0,23] 10229824.98      0.36 10229825.06 10229824.36 10229825.32      2.94      2.19\n",
            "auxiliary[0,24] 10229811.79      0.14 10229811.76 10229811.67 10229812.11      5.47      0.96\n",
            "auxiliary[0,25] 10229798.87      0.53 10229798.51 10229798.24 10229799.53      2.80      4.47\n",
            "auxiliary[0,26] 10229785.84      1.24 10229784.83 10229784.49 10229787.11      2.48     12.66\n",
            "auxiliary[0,27] 10229771.71      1.90 10229770.10 10229769.71 10229773.67      2.46     11.93\n",
            "auxiliary[0,28] 10229758.22      3.08 10229755.57 10229755.05 10229761.57      2.40      8.23\n",
            "auxiliary[0,29] 10229744.32      4.49 10229740.41 10229739.81 10229749.51      2.39      6.56\n",
            "auxiliary[0,30] 10229729.82      6.18 10229724.43 10229723.74 10229737.20      2.39      5.40\n",
            "auxiliary[0,31] 10229714.22      8.09 10229707.15 10229706.41 10229724.45      2.38      4.65\n",
            "auxiliary[0,32] 10229697.44     10.37 10229688.49 10229687.60 10229711.96      2.40      3.97\n",
            "auxiliary[0,33] 10229679.09     12.30 10229668.56 10229667.54 10229697.20      2.41      3.69\n",
            "auxiliary[0,34] 10229656.36     11.34 10229646.51 10229645.45 10229670.51      2.38      4.49\n",
            "auxiliary[0,35] 10229632.52     11.12 10229622.82 10229621.64 10229646.78      2.38      5.08\n",
            "auxiliary[0,36] 10229604.14      9.10 10229596.21 10229594.89 10229613.95      2.42      8.55\n",
            "auxiliary[0,37] 10229573.40      9.07 10229565.58 10229564.19 10229583.80      2.39      6.64\n",
            "auxiliary[0,38] 10229533.40      7.51 10229527.08 10229525.90 10229543.72      2.39      4.54\n",
            "auxiliary[0,39] 10229485.97      6.61 10229480.40 10229479.39 10229494.49      2.38      4.56\n",
            "auxiliary[0,40] 10229429.58      4.09 10229426.13 10229425.31 10229434.12      2.39      7.16\n",
            "auxiliary[0,41] 10229370.97      3.66 10229367.86 10229367.13 10229375.04      2.41      8.84\n",
            "auxiliary[0,42] 10229306.13      2.50 10229304.11 10229303.39 10229308.72      2.42     10.34\n",
            "auxiliary[0,43] 10229237.34      2.35 10229235.41 10229234.82 10229239.74      2.45     12.30\n",
            "auxiliary[0,44] 10229167.56      3.42 10229164.56 10229164.17 10229171.38      2.40      7.06\n",
            "auxiliary[0,45] 10229093.59      5.23 10229089.11 10229088.39 10229100.16      2.38      4.56\n",
            "auxiliary[0,46] 10229014.29      6.29 10229008.98 10229008.32 10229023.68      2.41      3.66\n",
            "auxiliary[0,47] 10228930.54      7.49 10228924.13 10228923.38 10228940.38      2.38      4.36\n",
            "auxiliary[0,48] 10228841.38      8.69 10228833.77 10228832.81 10228851.63      2.39      5.79\n",
            "auxiliary[0,49] 10228742.46      8.49 10228734.99 10228734.05 10228752.65      2.39      6.27\n",
            "auxiliary[0,50] 10228639.41      9.55 10228631.24 10228629.85 10228651.02      2.37      5.28\n",
            "auxiliary[0,51] 10228526.37      9.97 10228517.81 10228516.68 10228539.88      2.39      4.34\n",
            "auxiliary[0,52] 10228406.31      9.21 10228398.44 10228397.16 10228417.81      2.38      5.07\n",
            "auxiliary[0,53] 10228281.14      7.50 10228274.54 10228273.40 10228289.37      2.42      8.65\n",
            "auxiliary[0,54] 10228153.35      8.98 10228145.52 10228144.30 10228164.41      2.39      5.95\n",
            "auxiliary[0,55] 10228014.08      9.44 10228006.15 10228004.59 10228026.06      2.37      5.07\n",
            "auxiliary[0,56] 10227862.81     10.33 10227854.07 10227852.29 10227875.01      2.38      5.88\n",
            "auxiliary[0,57] 10227694.35     12.20 10227683.85 10227682.08 10227709.36      2.38      5.60\n",
            "auxiliary[0,58] 10227507.34     14.93 10227494.08 10227492.94 10227525.99      2.39      5.31\n",
            "auxiliary[0,59] 10227287.79     15.26 10227274.42 10227272.75 10227307.11      2.38      4.95\n",
            "auxiliary[0,60] 10227022.82      2.09 10227023.55 10227019.18 10227024.79      3.10      1.62\n",
            " auxiliary[1,0]      6.59      0.00      6.59      6.59      6.60      2.77      2.65\n",
            " auxiliary[1,1]      9.73      0.00      9.73      9.73      9.74      8.06      0.90\n",
            " auxiliary[1,2]     15.31      0.00     15.31     15.31     15.32      2.65      3.06\n",
            " auxiliary[1,3]     18.80      0.01     18.80     18.79     18.81      3.10      1.71\n",
            " auxiliary[1,4]     27.54      0.00     27.53     27.53     27.54      3.48      2.56\n",
            " auxiliary[1,5]     32.94      0.01     32.94     32.92     32.95      2.51      2.76\n",
            " auxiliary[1,6]     40.23      0.02     40.21     40.20     40.25      2.60     12.20\n",
            " auxiliary[1,7]     48.38      0.04     48.35     48.35     48.43      2.48      8.18\n",
            " auxiliary[1,8]     56.99      0.66     56.75     56.16     57.65      2.38      4.74\n",
            " auxiliary[1,9]     55.64      0.28     55.42     55.38     56.04      2.50      2.79\n",
            "auxiliary[1,10]     53.18      0.20     53.04     52.98     53.38      2.51     16.34\n",
            "auxiliary[1,11]     58.05      0.13     58.09     57.83     58.17      3.52      1.37\n",
            "auxiliary[1,12]     60.35      0.19     60.19     60.15     60.55      2.44     11.93\n",
            "auxiliary[1,13]     54.46      0.46     54.06     54.00     55.05      2.38      4.66\n",
            "auxiliary[1,14]     57.64      0.44     57.47     57.10     58.08      2.38      5.47\n",
            "auxiliary[1,15]     57.62      0.48     57.21     57.15     58.21      2.38      5.51\n",
            "auxiliary[1,16]     66.82      0.16     66.76     66.62     66.97      2.41      5.07\n",
            "auxiliary[1,17]     59.35      0.13     59.25     59.21     59.49      2.35      5.43\n",
            "auxiliary[1,18]     70.62      0.26     70.53     70.29     70.89      2.37      5.01\n",
            "auxiliary[1,19]     64.66      0.18     64.57     64.43     64.84      2.41      5.88\n",
            "auxiliary[1,20]     63.23      0.44     62.85     62.80     63.77      2.38      5.54\n",
            "auxiliary[1,21]     71.79      0.81     71.48     70.77     72.57      2.38      5.07\n",
            "auxiliary[1,22]     76.37      0.17     76.22     76.21     76.59      2.41      3.90\n",
            "auxiliary[1,23]     75.23      0.38     74.90     74.86     75.71      2.38      4.79\n",
            "auxiliary[1,24]     74.28      0.34     74.00     73.94     74.72      2.37      4.84\n",
            "auxiliary[1,25]     83.80      0.03     83.81     83.76     83.83      2.50      2.43\n",
            "auxiliary[1,26]     93.72      1.18     93.43     92.12     94.84      2.39      3.99\n",
            "auxiliary[1,27]     90.55      1.10     89.59     89.52     92.05      2.39      3.89\n",
            "auxiliary[1,28]     97.25      0.03     97.25     97.21     97.28      2.57      2.71\n",
            "auxiliary[1,29]    110.47      0.17    110.42    110.24    110.62      2.40      4.39\n",
            "auxiliary[1,30]    127.85      0.55    127.68    127.13    128.40      2.37      4.44\n",
            "auxiliary[1,31]    118.45      0.18    118.34    118.26    118.65      2.39      8.23\n",
            "auxiliary[1,32]    155.30      0.31    155.04    154.99    155.72      2.40      3.82\n",
            "auxiliary[1,33]    160.77      1.34    160.56    159.00    162.02      2.40      3.65\n",
            "auxiliary[1,34]    164.96      1.64    163.51    163.48    167.18      2.41      3.57\n",
            "auxiliary[1,35]    201.33      0.21    201.34    201.05    201.52      2.43      3.09\n",
            "auxiliary[1,36]    243.22      0.59    242.69    242.65    243.93      2.44      5.29\n",
            "auxiliary[1,37]    249.26      1.59    248.82    246.97    250.74      2.41      3.88\n",
            "auxiliary[1,38]    265.65      0.77    265.01    264.94    266.91      2.48      3.04\n",
            "auxiliary[1,39]    292.69      0.37    292.39    292.33    293.22      2.42      3.76\n",
            "auxiliary[1,40]    321.31      1.14    320.33    320.17    322.60      2.38      5.98\n",
            "auxiliary[1,41]    353.68      0.13    353.70    353.45    353.81      2.55      2.40\n",
            "auxiliary[1,42]    394.87      0.33    394.59    394.52    395.30      2.89      6.50\n",
            "auxiliary[1,43]    434.84      0.58    434.33    434.27    435.50      2.43      7.68\n",
            "auxiliary[1,44]    473.97      0.50    473.53    473.47    474.54      2.49      8.88\n",
            "auxiliary[1,45]    526.67      0.46    526.26    526.23    527.25      2.49      6.62\n",
            "auxiliary[1,46]    556.39      1.68    554.94    554.81    558.85      2.42      4.14\n",
            "auxiliary[1,47]    612.55      1.56    611.16    611.05    614.65      2.40      4.84\n",
            "auxiliary[1,48]    668.73      0.79    668.11    667.88    669.63      2.41      8.18\n",
            "auxiliary[1,49]    733.98      2.05    732.20    731.92    736.40      2.39      5.94\n",
            "auxiliary[1,50]    785.80      1.88    784.21    783.84    788.06      2.37      5.12\n",
            "auxiliary[1,51]    855.12      2.61    852.93    852.62    858.85      2.39      3.86\n",
            "auxiliary[1,52]    923.54      2.28    921.55    921.31    926.48      2.38      4.33\n",
            "auxiliary[1,53]   1010.22      2.37   1008.18   1007.82   1012.92      2.39      6.69\n",
            "auxiliary[1,54]   1077.62      0.91   1077.01   1076.62   1078.85      2.38      3.42\n",
            "auxiliary[1,55]   1151.65      1.36   1150.46   1150.34   1153.36      2.44      4.30\n",
            "auxiliary[1,56]   1203.68      0.92   1202.99   1202.62   1204.74      2.36      4.46\n",
            "auxiliary[1,57]   1281.56      2.01   1279.86   1279.60   1284.17      2.39      3.71\n",
            "auxiliary[1,58]   1392.85      2.65   1390.67   1390.32   1396.28      2.37      4.16\n",
            "auxiliary[1,59]   1489.33      2.14   1487.46   1487.26   1492.00      2.41      5.75\n",
            "auxiliary[1,60]   1601.79      0.65   1601.38   1600.95   1602.74      2.56      3.66\n",
            " auxiliary[2,0]      1.11      0.00      1.11      1.11      1.11     11.85      1.46\n",
            " auxiliary[2,1]      1.60      0.00      1.60      1.60      1.60      2.46      2.58\n",
            " auxiliary[2,2]      0.96      0.00      0.96      0.96      0.96      2.34      3.77\n",
            " auxiliary[2,3]      1.02      0.00      1.02      1.02      1.02      2.75      3.14\n",
            " auxiliary[2,4]      1.44      0.00      1.44      1.44      1.44      2.85      1.80\n",
            " auxiliary[2,5]      1.45      0.00      1.45      1.45      1.46      4.35      1.59\n",
            " auxiliary[2,6]      1.93      0.00      1.93      1.93      1.93      5.15      0.95\n",
            " auxiliary[2,7]      2.23      0.00      2.23      2.23      2.23      2.49      2.29\n",
            " auxiliary[2,8]      4.34      0.01      4.33      4.33      4.34      2.38      5.99\n",
            " auxiliary[2,9]      8.35      0.01      8.34      8.34      8.36      2.40      5.49\n",
            "auxiliary[2,10]     12.43      0.01     12.42     12.41     12.44      2.55     10.19\n",
            "auxiliary[2,11]      9.99      0.01      9.99      9.99     10.00      4.08      1.19\n",
            "auxiliary[2,12]      8.50      0.02      8.49      8.48      8.52      2.38      6.59\n",
            "auxiliary[2,13]     11.12      0.00     11.12     11.12     11.12     15.35      0.90\n",
            "auxiliary[2,14]     14.89      0.02     14.88     14.86     14.92      2.38      5.23\n",
            "auxiliary[2,15]     14.42      0.03     14.40     14.40     14.45      2.39      6.48\n",
            "auxiliary[2,16]     14.52      0.01     14.52     14.51     14.53      2.45      4.76\n",
            "auxiliary[2,17]     11.85      0.01     11.84     11.84     11.86      2.39      3.45\n",
            "auxiliary[2,18]      8.69      0.01      8.69      8.68      8.70      2.38      7.46\n",
            "auxiliary[2,19]     10.68      0.01     10.67     10.67     10.68      2.43      4.99\n",
            "auxiliary[2,20]     12.69      0.02     12.68     12.67     12.71      2.46      9.68\n",
            "auxiliary[2,21]     12.54      0.03     12.53     12.51     12.57      2.38      5.59\n",
            "auxiliary[2,22]     10.97      0.00     10.97     10.97     10.98      2.83      2.41\n",
            "auxiliary[2,23]     13.95      0.01     13.95     13.95     13.97      2.65      2.17\n",
            "auxiliary[2,24]     11.57      0.01     11.56     11.56     11.59      2.46      7.07\n",
            "auxiliary[2,25]      9.85      0.00      9.85      9.85      9.86      3.23      3.12\n",
            "auxiliary[2,26]     13.11      0.03     13.11     13.07     13.13      2.43      3.55\n",
            "auxiliary[2,27]     18.06      0.05     18.01     18.01     18.13      2.40      4.65\n",
            "auxiliary[2,28]     20.13      0.01     20.12     20.12     20.14      2.54      2.97\n",
            "auxiliary[2,29]     19.84      0.01     19.84     19.84     19.85      2.46      8.43\n",
            "auxiliary[2,30]     21.72      0.02     21.71     21.70     21.74      2.42      5.02\n",
            "auxiliary[2,31]     27.22      0.03     27.19     27.19     27.26      2.41      4.30\n",
            "auxiliary[2,32]     29.08      0.05     29.06     29.03     29.13      2.37      5.50\n",
            "auxiliary[2,33]     23.52      0.03     23.51     23.48     23.55      2.43      4.26\n",
            "auxiliary[2,34]     27.71      0.07     27.64     27.64     27.79      2.41      4.29\n",
            "auxiliary[2,35]     30.05      0.00     30.05     30.04     30.05      6.24      1.04\n",
            "auxiliary[2,36]     33.76      0.04     33.74     33.71     33.80      2.40      7.11\n",
            "auxiliary[2,37]     37.77      0.04     37.76     37.73     37.82      2.36      4.04\n",
            "auxiliary[2,38]     45.49      0.02     45.47     45.47     45.53      2.53      2.85\n",
            "auxiliary[2,39]     48.04      0.03     48.02     48.02     48.08      2.48      5.26\n",
            "auxiliary[2,40]     56.76      0.03     56.73     56.73     56.80      3.05      5.79\n",
            "auxiliary[2,41]     62.27      0.01     62.26     62.25     62.28      2.53      3.12\n",
            "auxiliary[2,42]     65.00      0.02     64.99     64.98     65.02      2.89      2.03\n",
            "auxiliary[2,43]     72.41      0.04     72.37     72.36     72.46      2.45      5.07\n",
            "auxiliary[2,44]     80.62      0.03     80.60     80.59     80.66      2.40      3.65\n",
            "auxiliary[2,45]     79.05      0.01     79.05     79.04     79.08      7.53      0.93\n",
            "auxiliary[2,46]    104.96      0.03    104.95    104.93    105.03      3.25      1.55\n",
            "auxiliary[2,47]    106.38      0.03    106.36    106.34    106.42      3.49      3.48\n",
            "auxiliary[2,48]    111.15      0.04    111.12    111.10    111.19      2.74      5.99\n",
            "auxiliary[2,49]    115.87      0.05    115.84    115.80    115.94      2.36      3.17\n",
            "auxiliary[2,50]    135.71      0.02    135.70    135.69    135.73      3.10      5.32\n",
            "auxiliary[2,51]    145.81      0.05    145.79    145.75    145.87      2.50      3.91\n",
            "auxiliary[2,52]    158.92      0.14    158.80    158.79    159.07      2.41      6.15\n",
            "auxiliary[2,53]    153.21      0.06    153.16    153.14    153.27      2.64      7.89\n",
            "auxiliary[2,54]    164.70      0.09    164.64    164.60    164.80      2.62      6.39\n",
            "auxiliary[2,55]    176.52      0.02    176.52    176.48    176.53      4.44      1.20\n",
            "auxiliary[2,56]    215.40      0.16    215.26    215.25    215.60      2.45      4.66\n",
            "auxiliary[2,57]    239.98      0.17    239.85    239.79    240.20      2.38      4.59\n",
            "auxiliary[2,58]    236.96      0.02    236.96    236.93    237.00      3.26      1.56\n",
            "auxiliary[2,59]    261.76      0.23    261.56    261.53    262.04      2.43      6.01\n",
            "auxiliary[2,60]    285.10      0.13    285.02    284.96    285.25      2.36      6.06\n",
            "\n",
            "Number of divergences: 0\n"
          ],
          "name": "stdout"
        }
      ]
    },
    {
      "cell_type": "markdown",
      "metadata": {
        "id": "VZGPwGDeCrdZ"
      },
      "source": [
        "# Simple Simulation Model\n",
        "\n",
        "![image.png](data:image/png;base64,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)"
      ]
    },
    {
      "cell_type": "code",
      "metadata": {
        "id": "1lliA-gEyv_0",
        "outputId": "540e0fa8-f4bf-49fd-b229-4a8a67341a50",
        "colab": {
          "base_uri": "https://localhost:8080/",
          "height": 1000
        }
      },
      "source": [
        "import matplotlib.pyplot as plt\n",
        "# test_cap = 0.001\n",
        "hygiene = 0.34    #parameters to be infered\n",
        "distancing = 0.60 # Canada\n",
        "lockdown = 0.96\n",
        "quarantine = 0.76 # Korea\n",
        "\n",
        "hospital_cap = 2* 1/3400\n",
        "transmission_days = 16.33/2.40\n",
        "exposed_days = 3.83 \n",
        "recovery_days = 16.33 \n",
        "# waning_days = 365\n",
        "\n",
        "susceptible0 = 0.999\n",
        "infected0 = 0.001\n",
        "exposed0 = 0\n",
        "recovered0 = 0\n",
        "\n",
        "population = 1000000\n",
        "\n",
        "def virus_model(days,policy):\n",
        "\n",
        "  if policy == \"hygiene\":\n",
        "    pol = hygiene\n",
        "  elif policy == \"distancing\":\n",
        "    pol = distancing\n",
        "  elif policy == \"lockdown\":\n",
        "    pol = lockdown\n",
        "  elif policy == \"quarantine\":\n",
        "    pol = quarantine\n",
        "  elif policy == \"None\":\n",
        "    pol = None\n",
        "\n",
        "  transmission_rate = (1/ transmission_days)\n",
        "  incubation_rate = (1/  exposed_days)\n",
        "  recovery_rate = (1/ recovery_days)\n",
        "  # immunity_loss_rate = (1/ waning_days)\n",
        "  death_rate_with_med = 0.02\n",
        "  death_rate_without_med = 0.9\n",
        "  ser_case_rate = 0.15\n",
        "\n",
        "\n",
        "  r0 = 4.2\n",
        "\n",
        "  susceptible =  susceptible0\n",
        "  infected = infected0\n",
        "  exposed = exposed0\n",
        "  recovered = recovered0\n",
        "  dead = 0\n",
        "\n",
        "  susc= [population * susceptible0]\n",
        "  exp = [population * exposed0]\n",
        "  inf = [population * infected0]\n",
        "  rec = [population * recovered0]\n",
        "  re = [r0]\n",
        "  d = [0]\n",
        "  testing = 0\n",
        "  \n",
        "  for day in range(days):\n",
        "    if day < 200 and day >100 and pol != None:\n",
        "      transmission_rate = (1/ transmission_days) * (1-pol)\n",
        "    else:\n",
        "      transmission_rate = (1/ transmission_days)\n",
        "    susceptible -= susceptible * infected * transmission_rate \n",
        "    exposed +=  susceptible * infected * transmission_rate\n",
        "    exposed -= exposed * incubation_rate\n",
        "\n",
        "    infected += exposed * incubation_rate \n",
        "    infected -= infected * recovery_rate\n",
        "\n",
        "    if (ser_case_rate*exposed * incubation_rate < hospital_cap):\n",
        "      dead += ser_case_rate*exposed * incubation_rate * death_rate_with_med\n",
        "      infected -= ser_case_rate*exposed * incubation_rate * death_rate_with_med\n",
        "    else:\n",
        "      dead += hospital_cap*death_rate_with_med + (exposed * incubation_rate * ser_case_rate - hospital_cap) * death_rate_without_med\n",
        "      infected -= hospital_cap*death_rate_with_med + (exposed * incubation_rate * ser_case_rate - hospital_cap) * death_rate_without_med\n",
        "\n",
        "    recovered += infected * recovery_rate\n",
        "\n",
        "    re.append((transmission_rate/ recovery_rate)*susceptible)\n",
        "    susc.append(population* susceptible)\n",
        "    exp.append(population* exposed)\n",
        "    inf.append(population* infected)\n",
        "    rec.append(population* recovered)\n",
        "    d.append(population* dead)\n",
        "  \n",
        "  return susc, exp, inf, rec, d, re\n",
        "\n",
        "days = 900\n",
        "\n",
        "result_h = virus_model(days,'hygiene')\n",
        "result_d = virus_model(days,'distancing')\n",
        "result_l = virus_model(days,'lockdown')\n",
        "result_q = virus_model(days,'quarantine')\n",
        "result = virus_model(days,'None')\n",
        "\n",
        "m = [m for m in range(days+1)]\n",
        "\n",
        "plt.plot(m, result[0], label=\"line S\")\n",
        "plt.plot()\n",
        "plt.show()\n",
        "\n",
        "plt.plot(m, result[1], label=\"line E\")\n",
        "plt.plot()\n",
        "plt.show()\n",
        "\n",
        "plt.plot(m, result[2], label=\"line I\")\n",
        "plt.plot()\n",
        "plt.show()\n",
        "\n",
        "plt.plot(m, result[3], label=\"line R\")\n",
        "plt.plot()\n",
        "plt.show()\n",
        "\n",
        "plt.plot(m, result[4], label=\"line D\")\n",
        "plt.plot()\n",
        "plt.show()\n",
        "\n",
        "# plt.plot(m, result[5], label=\"line Re\")\n",
        "# plt.plot()\n",
        "# plt.show()"
      ],
      "execution_count": null,
      "outputs": [
        {
          "output_type": "display_data",
          "data": {
            "image/png": "[encoded data removed]",
            "text/plain": [
              "<Figure size 432x288 with 1 Axes>"
            ]
          },
          "metadata": {
            "tags": [],
            "needs_background": "light"
          }
        },
        {
          "output_type": "display_data",
          "data": {
            "image/png": "[encoded data removed]",
            "text/plain": [
              "<Figure size 432x288 with 1 Axes>"
            ]
          },
          "metadata": {
            "tags": [],
            "needs_background": "light"
          }
        },
        {
          "output_type": "display_data",
          "data": {
            "image/png": "[encoded data removed]",
            "text/plain": [
              "<Figure size 432x288 with 1 Axes>"
            ]
          },
          "metadata": {
            "tags": [],
            "needs_background": "light"
          }
        },
        {
          "output_type": "display_data",
          "data": {
            "image/png": "[encoded data removed]",
            "text/plain": [
              "<Figure size 432x288 with 1 Axes>"
            ]
          },
          "metadata": {
            "tags": [],
            "needs_background": "light"
          }
        },
        {
          "output_type": "display_data",
          "data": {
            "image/png": "[encoded data removed]",
            "text/plain": [
              "<Figure size 432x288 with 1 Axes>"
            ]
          },
          "metadata": {
            "tags": [],
            "needs_background": "light"
          }
        }
      ]
    },
    {
      "cell_type": "code",
      "metadata": {
        "id": "HT0TFuH6tLYG"
      },
      "source": [
        ""
      ],
      "execution_count": null,
      "outputs": []
    }
  ]
}