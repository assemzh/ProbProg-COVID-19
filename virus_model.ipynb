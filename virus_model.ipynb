{
  "nbformat": 4,
  "nbformat_minor": 0,
  "metadata": {
    "colab": {
      "name": "virus-model.ipynb",
      "provenance": [],
      "collapsed_sections": [],
      "toc_visible": true,
      "include_colab_link": true
    },
    "kernelspec": {
      "name": "python3",
      "display_name": "Python 3"
    }
  },
  "cells": [
    {
      "cell_type": "markdown",
      "metadata": {
        "id": "view-in-github",
        "colab_type": "text"
      },
      "source": [
        "<a href=\"https://colab.research.google.com/github/assemzh/ProbProg-COVID-19/blob/master/virus_model.ipynb\" target=\"_parent\"><img src=\"https://colab.research.google.com/assets/colab-badge.svg\" alt=\"Open In Colab\"/></a>"
      ]
    },
    {
      "cell_type": "markdown",
      "metadata": {
        "id": "AJX1jgLnX70s",
        "colab_type": "text"
      },
      "source": [
        "# Epidemiology model\n",
        "\n",
        "https://nbviewer.jupyter.org/github/pyro-ppl/pyro/blob/sir-tutorial-ii/tutorial/source/epi_regional.ipynb?fbclid=IwAR3Gv8tLuiEjOmZh7-NQUa_ggm_QUqtSc5TxRZ0_pSxVA7Y3lWWzSFGKjrA \n"
      ]
    },
    {
      "cell_type": "code",
      "metadata": {
        "id": "z6UoAzRe1pMh",
        "colab_type": "code",
        "colab": {}
      },
      "source": [
        "!git clone https://github.com/pyro-ppl/pyro.git"
      ],
      "execution_count": null,
      "outputs": []
    },
    {
      "cell_type": "code",
      "metadata": {
        "id": "ryMxWMvbD8Nc",
        "colab_type": "code",
        "colab": {}
      },
      "source": [
        "%cd /content/pyro"
      ],
      "execution_count": null,
      "outputs": []
    },
    {
      "cell_type": "code",
      "metadata": {
        "id": "w8MT-jR48mLX",
        "colab_type": "code",
        "colab": {}
      },
      "source": [
        "!pip install .[extras]"
      ],
      "execution_count": null,
      "outputs": []
    },
    {
      "cell_type": "code",
      "metadata": {
        "id": "7AUI1jmXcX4u",
        "colab_type": "code",
        "colab": {}
      },
      "source": [
        "import os\n",
        "import logging\n",
        "import urllib.request\n",
        "from collections import OrderedDict\n",
        "\n",
        "import pandas as pd\n",
        "import numpy as np\n",
        "import matplotlib.pyplot as plt\n",
        "import seaborn as sns\n",
        "import torch\n",
        "import pyro\n",
        "import pyro.distributions as dist\n",
        "from pyro.contrib.epidemiology import CompartmentalModel, binomial_dist, infection_dist\n",
        "from pyro.ops.tensor_utils import convolve\n",
        "\n",
        "%matplotlib inline\n",
        "pyro.enable_validation(True)           \n",
        "torch.set_default_dtype(torch.double) \n"
      ],
      "execution_count": null,
      "outputs": []
    },
    {
      "cell_type": "markdown",
      "metadata": {
        "id": "hzpnb36feNgS",
        "colab_type": "text"
      },
      "source": [
        "  ## Model without Policies\n",
        "  "
      ]
    },
    {
      "cell_type": "code",
      "metadata": {
        "id": "bsaJcjx6xVLo",
        "colab_type": "code",
        "colab": {}
      },
      "source": [
        "class CovidModel(CompartmentalModel):\n",
        "    def __init__(self, population, new_cases, new_recovered, new_deaths):\n",
        "        '''\n",
        "        population (int) – Total population = S + E + I + R.\n",
        "        '''\n",
        "        assert len(new_cases) == len(new_recovered) == len(new_deaths)\n",
        "\n",
        "        compartments = (\"S\", \"E\", \"I\")  # R is implicit.\n",
        "        duration = len(new_cases)\n",
        "        super().__init__(compartments, duration, population)\n",
        "\n",
        "        self.new_cases = new_cases\n",
        "        self.new_deaths = new_deaths\n",
        "        self.new_recovered = new_recovered\n",
        "        \n",
        "\n",
        "    def global_model(self):\n",
        "        tau_e = pyro.sample(\"rec_time\",dist.Normal(15.0, 1))\n",
        "        tau_i = pyro.sample(\"incub_time\",dist.Normal(5.0, 1))\n",
        "        # R0 = pyro.sample(\"R0\", dist.LogNormal(0., 1.))\n",
        "        R0 = pyro.sample(\"R0\", dist.Normal(2, 0.2))\n",
        "        rho = pyro.sample(\"rho\", dist.Beta(10, 10))  # About 50% response rate.\n",
        "        mort_rate = pyro.sample(\"mort_rate\", dist.Beta(2, 100))  # About 2% mortality rate.\n",
        "        rec_rate = pyro.sample(\"rec_rate\",dist.Beta(10, 10)) # About 50% recovery rate.\n",
        "        return R0, tau_e, tau_i, rho, mort_rate, rec_rate\n",
        "\n",
        "    def initialize(self, params):\n",
        "        # Start with a single infection.\n",
        "        return {\"S\": self.population - 1, \"E\": 0, \"I\": 1}\n",
        "\n",
        "    def transition(self, params, state, t):\n",
        "        R0, tau_e, tau_i, rho, mort_rate, rec_rate = params\n",
        "\n",
        "        # Sample flows between compartments.\n",
        "        S2E = pyro.sample(\"S2E_{}\".format(t),\n",
        "                            infection_dist(individual_rate=R0 / tau_i,\n",
        "                                          num_susceptible=state[\"S\"],\n",
        "                                          num_infectious=state[\"I\"],\n",
        "                                          population=self.population))\n",
        "        E2I = pyro.sample(\"E2I_{}\".format(t),\n",
        "                            binomial_dist(state[\"E\"], 1 / tau_e )) \n",
        "        I2R = pyro.sample(\"I2R_{}\".format(t),\n",
        "                            binomial_dist(state[\"I\"], 1 / tau_i))\n",
        " \n",
        "        # Update compartments with flows.\n",
        "        state[\"S\"] = state[\"S\"] - S2E \n",
        "        state[\"E\"] = state[\"E\"] + S2E - E2I\n",
        "        state[\"I\"] = state[\"I\"] + E2I - I2R\n",
        "\n",
        "        # Condition on observations.\n",
        "        t_is_observed = isinstance(t, slice) or t < self.duration\n",
        "        pyro.sample(\"new_cases_{}\".format(t),\n",
        "                    binomial_dist(S2E, rho),\n",
        "                    obs=self.new_cases[t] if t_is_observed else None)\n",
        "        pyro.sample(\"new_deaths_{}\".format(t),\n",
        "                      binomial_dist(I2R, mort_rate),\n",
        "                      obs=self.new_deaths[t] if t_is_observed else None)\n",
        "        pyro.sample(\"new_recovered_{}\".format(t),\n",
        "                    binomial_dist(E2I, rec_rate),\n",
        "                    obs=self.new_recovered[t] if t_is_observed else None)\n"
      ],
      "execution_count": null,
      "outputs": []
    },
    {
      "cell_type": "markdown",
      "metadata": {
        "id": "kgKCZvRfMi_3",
        "colab_type": "text"
      },
      "source": [
        "## Create Country"
      ]
    },
    {
      "cell_type": "code",
      "metadata": {
        "id": "koX5yGHrsuib",
        "colab_type": "code",
        "colab": {}
      },
      "source": [
        "# function to make the time series of confirmed and daily confirmed cases for a specific country\n",
        "def create_country (country, start_date, end_date, state = False) : \n",
        "\n",
        "    url = 'https://raw.githubusercontent.com/assemzh/ProbProg-COVID-19/master/full_grouped.csv'\n",
        "    data = pd.read_csv(url)\n",
        "\n",
        "    data.Date = pd.to_datetime(data.Date)\n",
        "\n",
        "    if state :\n",
        "        df = data.loc[data[\"Province/State\"] == country, [\"Province/State\", \"Date\", \"Confirmed\", \"Deaths\", \"Recovered\", \"Active\", \"New cases\", \"New deaths\", \"New recovered\"]]\n",
        "    else : \n",
        "        df = data.loc[data[\"Country/Region\"] == country, [\"Country/Region\", \"Date\", \"Confirmed\", \"Deaths\", \"Recovered\", \"Active\", \"New cases\", \"New deaths\", \"New recovered\"]]\n",
        "    df.columns = [\"country\", \"date\", \"confirmed\", \"deaths\", \"recovered\", \"active\", \"new_cases\", \"new_deaths\", \"new_recovered\"]\n",
        "\n",
        "    # group by country and date\n",
        "    df = df.groupby(['country','date'])['confirmed', 'deaths', 'recovered',\"active\", \"new_cases\", \"new_deaths\", \"new_recovered\"].sum().reset_index()\n",
        "\n",
        "    # convert date string to datetime\n",
        "    df.date = pd.to_datetime(df.date)\n",
        "    df = df.sort_values(by = \"date\")\n",
        "    df = df[df.date >= start_date]\n",
        "    df = df[df.date <= end_date]\n",
        "\n",
        "    active = df['active'].tolist()\n",
        "    recovered = df['recovered'].tolist()\n",
        "    deaths = df['deaths'].tolist()\n",
        "    new_cases = df['new_cases'].tolist()\n",
        "    new_recovered = df['new_recovered'].tolist()\n",
        "    new_deaths = df['new_deaths'].tolist()\n",
        "    \n",
        "    active = torch.tensor(list(map(float, active))).view(len(active),1) \n",
        "    recovered = torch.tensor(list(map(float, recovered))).view(len(recovered),1) \n",
        "    deaths = torch.tensor(list(map(float, deaths))).view(len(deaths),1) \n",
        "    new_cases = torch.tensor(list(map(float, new_cases))).view(len(new_cases),1)  \n",
        "    new_recovered = torch.tensor(list(map(float, new_recovered))).view(len(new_recovered),1) \n",
        "    new_deaths = torch.tensor(list(map(float, new_deaths))).view(len(new_deaths),1) \n",
        "\n",
        "\n",
        "    return_data = {\n",
        "        'active':active,\n",
        "        'recovered':recovered,\n",
        "        'deaths':deaths,\n",
        "        'new_cases':new_cases,\n",
        "        'new_recovered': new_recovered,\n",
        "        'new_deaths':new_deaths }\n",
        "        \n",
        "    return return_data\n"
      ],
      "execution_count": null,
      "outputs": []
    },
    {
      "cell_type": "markdown",
      "metadata": {
        "id": "nxRxbNr8zt3O",
        "colab_type": "text"
      },
      "source": [
        "## Get data for countries\n"
      ]
    },
    {
      "cell_type": "code",
      "metadata": {
        "id": "V4O6XUbM9Ff3",
        "colab_type": "code",
        "colab": {}
      },
      "source": [
        "Japan = create_country(\"Japan\", start_date = \"2020-02-01\", end_date = \"2020-04-01\")\n",
        "Sweden = create_country(\"Sweden\", start_date = \"2020-02-01\", end_date = \"2020-04-01\")\n",
        "# print(India['new_cases'])"
      ],
      "execution_count": null,
      "outputs": []
    },
    {
      "cell_type": "markdown",
      "metadata": {
        "id": "XTUPDWD9e_9o",
        "colab_type": "text"
      },
      "source": [
        "##Train the model using MCMC.\n",
        "\n"
      ]
    },
    {
      "cell_type": "code",
      "metadata": {
        "id": "ddGahVqKezpd",
        "colab_type": "code",
        "colab": {}
      },
      "source": [
        "Japan_model = CovidModel(126500000, Japan[\"new_cases\"], Japan[\"new_recovered\"], Japan[\"new_deaths\"] )\n",
        "Sweden_model = CovidModel(10230000, Sweden[\"new_cases\"], Sweden[\"new_recovered\"], Sweden[\"new_deaths\"] )"
      ],
      "execution_count": null,
      "outputs": []
    },
    {
      "cell_type": "code",
      "metadata": {
        "id": "wE7Jen8XfB62",
        "colab_type": "code",
        "colab": {
          "base_uri": "https://localhost:8080/",
          "height": 173
        },
        "outputId": "b38b7779-ba83-4797-c475-191c5af48bd7"
      },
      "source": [
        "%%time\n",
        "pyro.set_rng_seed(20200607)\n",
        "Japan_mcmc = Japan_model.fit_mcmc(num_samples=200)\n",
        "Sweden_mcmc = Sweden_model.fit_mcmc(num_samples=100)"
      ],
      "execution_count": null,
      "outputs": [
        {
          "output_type": "stream",
          "text": [
            "INFO \t Running inference...\n",
            "Warmup:   0%|          | 0/400 [00:00, ?it/s]INFO \t Heuristic init: rec_time=14.9, incub_time=3.86, R0=1.93, rho=0.217, mort_rate=0.0462, rec_rate=0.141\n",
            "Sample: 100%|██████████| 400/400 [02:03,  3.25it/s, step size=4.97e-03, acc. prob=0.911]\n",
            "INFO \t Running inference...\n",
            "Warmup:   0%|          | 0/200 [00:00, ?it/s]INFO \t Heuristic init: rec_time=14.4, incub_time=3.99, R0=1.94, rho=0.223, mort_rate=0.00979, rec_rate=0.361\n",
            "Sample: 100%|██████████| 200/200 [00:26,  7.63it/s, step size=7.72e-05, acc. prob=0.967]"
          ],
          "name": "stderr"
        },
        {
          "output_type": "stream",
          "text": [
            "CPU times: user 2min 26s, sys: 1.23 s, total: 2min 27s\n",
            "Wall time: 2min 29s\n"
          ],
          "name": "stdout"
        },
        {
          "output_type": "stream",
          "text": [
            "\n"
          ],
          "name": "stderr"
        }
      ]
    },
    {
      "cell_type": "code",
      "metadata": {
        "id": "GBjSkRSzL0qN",
        "colab_type": "code",
        "colab": {}
      },
      "source": [
        "Japan_mcmc.summary()"
      ],
      "execution_count": null,
      "outputs": []
    },
    {
      "cell_type": "code",
      "metadata": {
        "id": "_7ma9aO8a7Pj",
        "colab_type": "code",
        "colab": {}
      },
      "source": [
        "Sweden_mcmc.summary()"
      ],
      "execution_count": null,
      "outputs": []
    },
    {
      "cell_type": "markdown",
      "metadata": {
        "id": "VZGPwGDeCrdZ",
        "colab_type": "text"
      },
      "source": [
        "# Simple Simulation Model"
      ]
    },
    {
      "cell_type": "code",
      "metadata": {
        "id": "1lliA-gEyv_0",
        "colab_type": "code",
        "colab": {
          "base_uri": "https://localhost:8080/",
          "height": 1000
        },
        "outputId": "7d6d3c29-4253-4376-b4a4-bfeaaca87b86"
      },
      "source": [
        "import matplotlib.pyplot as plt\n",
        "# test_cap = 0.001\n",
        "hygiene = 0.18    #parameters to be infered\n",
        "distancing = 0.60 # Canada\n",
        "lockdown = 0.96\n",
        "quarantine = 0.76 # Korea\n",
        "\n",
        "hospital_cap = 2* 1/3400\n",
        "transmission_days = 16.92/2.11\n",
        "exposed_days = 3.59 \n",
        "recovery_days = 16.92 \n",
        "# waning_days = 365\n",
        "\n",
        "susceptible0 = 0.999\n",
        "infected0 = 0.001\n",
        "exposed0 = 0\n",
        "recovered0 = 0\n",
        "\n",
        "population = 1000000\n",
        "\n",
        "def virus_model(days,policy):\n",
        "\n",
        "  if policy == \"hygiene\":\n",
        "    pol = hygiene\n",
        "  elif policy == \"distancing\":\n",
        "    pol = distancing\n",
        "  elif policy == \"lockdown\":\n",
        "    pol = lockdown\n",
        "  elif policy == \"quarantine\":\n",
        "    pol = quarantine\n",
        "  elif policy == \"None\":\n",
        "    pol = None\n",
        "\n",
        "  transmission_rate = (1/ transmission_days)\n",
        "  incubation_rate = (1/  exposed_days)\n",
        "  recovery_rate = (1/ recovery_days)\n",
        "  # immunity_loss_rate = (1/ waning_days)\n",
        "  death_rate_with_med = 0.02\n",
        "  death_rate_without_med = 0.9\n",
        "  ser_case_rate = 0.15\n",
        "\n",
        "\n",
        "  r0 = 4.2\n",
        "\n",
        "  susceptible =  susceptible0\n",
        "  infected = infected0\n",
        "  exposed = exposed0\n",
        "  recovered = recovered0\n",
        "  dead = 0\n",
        "\n",
        "  susc= [population * susceptible0]\n",
        "  exp = [population * exposed0]\n",
        "  inf = [population * infected0]\n",
        "  rec = [population * recovered0]\n",
        "  re = [r0]\n",
        "  d = [0]\n",
        "  testing = 0\n",
        "  \n",
        "  for day in range(days):\n",
        "    if day < 200 and day >100 and pol != None:\n",
        "      transmission_rate = (1/ transmission_days) * (1-pol)\n",
        "    else:\n",
        "      transmission_rate = (1/ transmission_days)\n",
        "    susceptible -= susceptible * infected * transmission_rate \n",
        "    exposed +=  susceptible * infected * transmission_rate\n",
        "    exposed -= exposed * incubation_rate\n",
        "\n",
        "    infected += exposed * incubation_rate \n",
        "    infected -= infected * recovery_rate\n",
        "\n",
        "    if (ser_case_rate*exposed * incubation_rate < hospital_cap):\n",
        "      dead += ser_case_rate*exposed * incubation_rate * death_rate_with_med\n",
        "      infected -= ser_case_rate*exposed * incubation_rate * death_rate_with_med\n",
        "    else:\n",
        "      dead += hospital_cap*death_rate_with_med + (exposed * incubation_rate * ser_case_rate - hospital_cap) * death_rate_without_med\n",
        "      infected -= hospital_cap*death_rate_with_med + (exposed * incubation_rate * ser_case_rate - hospital_cap) * death_rate_without_med\n",
        "\n",
        "    recovered += infected * recovery_rate\n",
        "\n",
        "    re.append((transmission_rate/ recovery_rate)*susceptible)\n",
        "    susc.append(population* susceptible)\n",
        "    exp.append(population* exposed)\n",
        "    inf.append(population* infected)\n",
        "    rec.append(population* recovered)\n",
        "    d.append(population* dead)\n",
        "  \n",
        "  return susc, exp, inf, rec, d, re\n",
        "\n",
        "days = 900\n",
        "\n",
        "result_h = virus_model(days,'hygiene')\n",
        "result_d = virus_model(days,'distancing')\n",
        "result_l = virus_model(days,'lockdown')\n",
        "result_q = virus_model(days,'quarantine')\n",
        "result = virus_model(days,'None')\n",
        "\n",
        "m = [m for m in range(days+1)]\n",
        "\n",
        "plt.plot(m, result_l[0], label=\"line S\")\n",
        "plt.plot()\n",
        "plt.show()\n",
        "\n",
        "plt.plot(m, result_l[1], label=\"line E\")\n",
        "plt.plot()\n",
        "plt.show()\n",
        "\n",
        "plt.plot(m, result_l[2], label=\"line I\")\n",
        "plt.plot()\n",
        "plt.show()\n",
        "\n",
        "plt.plot(m, result_l[3], label=\"line R\")\n",
        "plt.plot()\n",
        "plt.show()\n",
        "\n",
        "plt.plot(m, result_l[4], label=\"line D\")\n",
        "plt.plot()\n",
        "plt.show()\n",
        "\n",
        "# plt.plot(m, result[5], label=\"line Re\")\n",
        "# plt.plot()\n",
        "# plt.show()"
      ],
      "execution_count": 1,
      "outputs": [
        {
          "output_type": "display_data",
          "data": {
            "image/png": "[encoded data removed]",
            "text/plain": [
              "<Figure size 432x288 with 1 Axes>"
            ]
          },
          "metadata": {
            "tags": [],
            "needs_background": "light"
          }
        },
        {
          "output_type": "display_data",
          "data": {
            "image/png": "[encoded data removed]",
            "text/plain": [
              "<Figure size 432x288 with 1 Axes>"
            ]
          },
          "metadata": {
            "tags": [],
            "needs_background": "light"
          }
        },
        {
          "output_type": "display_data",
          "data": {
            "image/png": "[encoded data removed]",
            "text/plain": [
              "<Figure size 432x288 with 1 Axes>"
            ]
          },
          "metadata": {
            "tags": [],
            "needs_background": "light"
          }
        },
        {
          "output_type": "display_data",
          "data": {
            "image/png": "[encoded data removed]",
            "text/plain": [
              "<Figure size 432x288 with 1 Axes>"
            ]
          },
          "metadata": {
            "tags": [],
            "needs_background": "light"
          }
        },
        {
          "output_type": "display_data",
          "data": {
            "image/png": "[encoded data removed]",
            "text/plain": [
              "<Figure size 432x288 with 1 Axes>"
            ]
          },
          "metadata": {
            "tags": [],
            "needs_background": "light"
          }
        }
      ]
    }
  ]
}